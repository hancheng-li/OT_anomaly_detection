{
 "cells": [
  {
   "cell_type": "code",
   "execution_count": 1,
   "id": "a6a0aa8c-9731-4ac1-bff5-5dbf4f5ccf2c",
   "metadata": {},
   "outputs": [],
   "source": [
    "import numpy as np\n",
    "from numpy.random import RandomState\n",
    "import numpy.ma as ma\n",
    "\n",
    "import matplotlib.pyplot as plt\n",
    "from matplotlib.gridspec import GridSpec\n",
    "%matplotlib inline\n",
    "\n",
    "import h5py\n",
    "import ot\n",
    "from numpy.random import Generator, PCG64\n",
    "from sklearn import metrics\n",
    "import itertools\n",
    "\n",
    "from sklearn.svm import SVC\n",
    "from sklearn.model_selection import train_test_split\n",
    "from sklearn.metrics import roc_curve, roc_auc_score\n",
    "from sklearn.svm import LinearSVC\n",
    "from sklearn.calibration import CalibratedClassifierCV\n",
    "from sklearn.neighbors import KNeighborsClassifier\n",
    "from tqdm import tqdm"
   ]
  },
  {
   "cell_type": "code",
   "execution_count": 2,
   "id": "31ff1b6a-b638-414a-8393-1d35260be6f4",
   "metadata": {},
   "outputs": [],
   "source": [
    "sigAliasList    = ['sig_A', 'sig_h0', 'sig_hch', 'sig_LQ']\n",
    "sigFilenameList = ['Ato4l_lepFilter_13TeV_filtered.h5', 'hToTauTau_13TeV_PU20_filtered.h5', 'hChToTauNu_13TeV_PU20_filtered.h5', 'leptoquark_LOWMASS_lepFilter_13TeV_filtered.h5']"
   ]
  },
  {
   "cell_type": "code",
   "execution_count": 3,
   "id": "3f494993-f834-4241-b9ad-2d649d4235b9",
   "metadata": {},
   "outputs": [],
   "source": [
    "#-- Set base directory and data directory path --#\n",
    "basePath   = './'\n",
    "dataPath   = 'Data/'\n",
    "\n",
    "bkgPath    = basePath+dataPath+'background_for_training.h5'\n",
    "sigPathList = []\n",
    "for x in sigFilenameList:\n",
    "  sigPathList.append(basePath+dataPath+x)"
   ]
  },
  {
   "cell_type": "code",
   "execution_count": 37,
   "id": "c0f6d2d1-b5c0-4f18-a2f2-94bc99dbbf55",
   "metadata": {},
   "outputs": [],
   "source": [
    "%run centralFunctions.ipynb"
   ]
  },
  {
   "cell_type": "code",
   "execution_count": 5,
   "id": "f2420b75-81fa-4cc4-9629-1737670000c9",
   "metadata": {},
   "outputs": [],
   "source": [
    "dataDict = {}\n",
    "dataDict['bkg'] = h5py.File(bkgPath, 'r')\n",
    "\n",
    "for i in range(len(sigAliasList)):\n",
    "  alias   = sigAliasList[i]\n",
    "  sigPath = sigPathList[i]\n",
    "  dataDict[alias] = h5py.File(sigPath, 'r')"
   ]
  },
  {
   "cell_type": "code",
   "execution_count": 6,
   "id": "dfc9a668-cc08-49cf-80f9-54934c177912",
   "metadata": {},
   "outputs": [],
   "source": [
    "bkg_data = dataDict['bkg']['Particles'][:,:,0:3]\n",
    "sig_data = {}\n",
    "\n",
    "for alias in sigAliasList:\n",
    "  sig_data[alias] = dataDict[alias]['Particles'][:,:,0:3]"
   ]
  },
  {
   "cell_type": "code",
   "execution_count": 18,
   "id": "ca17f26b-9e09-4c2b-a0f5-3df4dc66db59",
   "metadata": {},
   "outputs": [],
   "source": [
    "nEvents = 500\n",
    "random_state = Generator(PCG64(123))\n",
    "OTSCHEME = {}\n",
    "OTSCHEME['normPT'] = True\n",
    "OTSCHEME['balanced'] = True\n",
    "OTSCHEME['noZeroPad'] = False\n",
    "OTSCHEME['individualOT'] = False"
   ]
  },
  {
   "cell_type": "code",
   "execution_count": 19,
   "id": "5305bf53-f5b9-4ab7-b62b-5491af9f989c",
   "metadata": {},
   "outputs": [],
   "source": [
    "total_event_pT_bkg = np.sum(bkg_data[:, :, 0], axis=1)\n",
    "mask = total_event_pT_bkg <= 50\n",
    "low_pT_events_bkg = randomDataSample(bkg_data[mask],nEvents, random_state)"
   ]
  },
  {
   "cell_type": "code",
   "execution_count": 20,
   "id": "9b709da9-1b97-4e8c-9c7e-7de9bbb1f63c",
   "metadata": {},
   "outputs": [],
   "source": [
    "total_event_pT_A = np.sum(sig_data['sig_A'][:,:,0],axis = 1)\n",
    "mask = total_event_pT_A <= 50\n",
    "low_pT_events_A = randomDataSample(sig_data['sig_A'][mask],nEvents, random_state)"
   ]
  },
  {
   "cell_type": "code",
   "execution_count": 21,
   "id": "ce493a3d-811f-4f71-9de2-cc738a24fcf5",
   "metadata": {},
   "outputs": [],
   "source": [
    "total_event_pT_h0 = np.sum(sig_data['sig_h0'][:,:,0],axis = 1)\n",
    "mask = total_event_pT_h0 <= 50\n",
    "low_pT_events_h0 = randomDataSample(sig_data['sig_h0'][mask],nEvents, random_state)"
   ]
  },
  {
   "cell_type": "code",
   "execution_count": 22,
   "id": "90b639ad-9c22-443f-ab29-a539fe6e3dfb",
   "metadata": {},
   "outputs": [],
   "source": [
    "total_event_pT_hch = np.sum(sig_data['sig_hch'][:,:,0],axis = 1)\n",
    "mask = total_event_pT_hch <= 50\n",
    "low_pT_events_hch = randomDataSample(sig_data['sig_hch'][mask],nEvents, random_state)"
   ]
  },
  {
   "cell_type": "code",
   "execution_count": 23,
   "id": "d708fb56-dae6-475c-8858-ce7bde4568cd",
   "metadata": {},
   "outputs": [],
   "source": [
    "total_event_pT_LQ = np.sum(sig_data['sig_LQ'][:,:,0],axis = 1)\n",
    "mask = total_event_pT_LQ <= 50\n",
    "low_pT_events_LQ = randomDataSample(sig_data['sig_LQ'][mask],nEvents, random_state)"
   ]
  },
  {
   "cell_type": "code",
   "execution_count": 24,
   "id": "a6ed42ae-8587-4113-9487-6b1122750312",
   "metadata": {},
   "outputs": [
    {
     "name": "stderr",
     "output_type": "stream",
     "text": [
      "100%|██████████| 1000000/1000000 [01:09<00:00, 14458.29it/s]\n"
     ]
    }
   ],
   "source": [
    "bkg_A_event_list = np.concatenate((low_pT_events_bkg,low_pT_events_A))\n",
    "bkg_A_labels = np.array([0] * nEvents + [1] * nEvents)\n",
    "np.random.seed(1)\n",
    "permutation = np.random.permutation(2*nEvents)\n",
    "bkg_A_event_list = bkg_A_event_list[permutation]\n",
    "bkg_A_labels = bkg_A_labels[permutation]\n",
    "bkg_A_dm = calcOTDistance(bkg_A_event_list, bkg_A_event_list, OTSCHEME, '2D', Matrix=True)"
   ]
  },
  {
   "cell_type": "code",
   "execution_count": 25,
   "id": "4408d878-122d-454e-ae81-142cab196f3e",
   "metadata": {
    "tags": []
   },
   "outputs": [
    {
     "data": {
      "text/plain": [
       "1000"
      ]
     },
     "execution_count": 25,
     "metadata": {},
     "output_type": "execute_result"
    }
   ],
   "source": [
    "bkg_A_dm.shape[0]"
   ]
  },
  {
   "cell_type": "code",
   "execution_count": 38,
   "id": "a8ef8ba9-9575-497b-85a5-772ba80ceaaf",
   "metadata": {},
   "outputs": [
    {
     "name": "stderr",
     "output_type": "stream",
     "text": [
      "Fitting Models: 100%|██████████| 15/15 [00:00<00:00, 272.26it/s]\n",
      "Fitting Models: 100%|██████████| 15/15 [00:00<00:00, 453.42it/s]\n",
      "Fitting Models: 100%|██████████| 15/15 [00:00<00:00, 432.90it/s]\n",
      "Fitting Models: 100%|██████████| 15/15 [00:00<00:00, 473.75it/s]\n",
      "Fitting Models: 100%|██████████| 15/15 [00:00<00:00, 435.33it/s]"
     ]
    },
    {
     "name": "stdout",
     "output_type": "stream",
     "text": [
      "0.5233987845918623 0.05933125774638761 41.0 21.071307505705477\n"
     ]
    },
    {
     "name": "stderr",
     "output_type": "stream",
     "text": [
      "\n"
     ]
    }
   ],
   "source": [
    "neighbor_list = [5, 10, 12, 14, 16, 18, 20, 25, 30, 40, 50, 60, 70, 80, 90]\n",
    "avg_auc, std_auc, avg_k, std_k = kNN_cross_validation(bkg_A_dm, bkg_A_labels, neighbor_list, k_fold=5, AUC_list=True)\n",
    "print(avg_auc, std_auc, avg_k, std_k)"
   ]
  },
  {
   "cell_type": "code",
   "execution_count": 31,
   "id": "2383f391-b3e6-489e-b693-85ece6fa9d4e",
   "metadata": {
    "tags": []
   },
   "outputs": [
    {
     "name": "stdout",
     "output_type": "stream",
     "text": [
      "range(0, 5)\n"
     ]
    }
   ],
   "source": [
    "print(range(0,5))"
   ]
  },
  {
   "cell_type": "code",
   "execution_count": null,
   "id": "d9a47124-34ba-4372-b789-f495e758ea85",
   "metadata": {},
   "outputs": [],
   "source": []
  }
 ],
 "metadata": {
  "kernelspec": {
   "display_name": "Python 3 (ipykernel)",
   "language": "python",
   "name": "python3"
  },
  "language_info": {
   "codemirror_mode": {
    "name": "ipython",
    "version": 3
   },
   "file_extension": ".py",
   "mimetype": "text/x-python",
   "name": "python",
   "nbconvert_exporter": "python",
   "pygments_lexer": "ipython3",
   "version": "3.11.4"
  }
 },
 "nbformat": 4,
 "nbformat_minor": 5
}
