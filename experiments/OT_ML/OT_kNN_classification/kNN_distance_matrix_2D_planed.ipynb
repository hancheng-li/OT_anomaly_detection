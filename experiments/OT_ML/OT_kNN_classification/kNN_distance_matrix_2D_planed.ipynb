{
 "cells": [
  {
   "cell_type": "markdown",
   "metadata": {
    "id": "HzPInTTSYm2D",
    "tags": []
   },
   "source": [
    "# Import libraries"
   ]
  },
  {
   "cell_type": "code",
   "execution_count": 1,
   "metadata": {
    "colab": {
     "base_uri": "https://localhost:8080/"
    },
    "executionInfo": {
     "elapsed": 15521,
     "status": "ok",
     "timestamp": 1697237483540,
     "user": {
      "displayName": "Hancheng Li",
      "userId": "16561302137020690535"
     },
     "user_tz": 420
    },
    "id": "Sm0J6usIYrxN",
    "outputId": "2e7cf2ec-503e-4497-fddb-c6ecfc53c65f",
    "tags": []
   },
   "outputs": [],
   "source": [
    "import numpy as np\n",
    "from numpy.random import RandomState\n",
    "import numpy.ma as ma\n",
    "\n",
    "import matplotlib.pyplot as plt\n",
    "from matplotlib.gridspec import GridSpec\n",
    "%matplotlib inline\n",
    "\n",
    "import h5py\n",
    "import ot\n",
    "from numpy.random import Generator, PCG64\n",
    "from sklearn import metrics\n",
    "import itertools\n",
    "\n",
    "from sklearn.svm import SVC\n",
    "from sklearn.model_selection import train_test_split\n",
    "from sklearn.metrics import roc_curve, roc_auc_score\n",
    "from sklearn.svm import LinearSVC\n",
    "from sklearn.calibration import CalibratedClassifierCV\n",
    "from sklearn.neighbors import KNeighborsClassifier\n",
    "from tqdm import tqdm"
   ]
  },
  {
   "cell_type": "code",
   "execution_count": 2,
   "metadata": {
    "executionInfo": {
     "elapsed": 3,
     "status": "ok",
     "timestamp": 1697237502373,
     "user": {
      "displayName": "Hancheng Li",
      "userId": "16561302137020690535"
     },
     "user_tz": 420
    },
    "id": "RFyfcq8A-sPF",
    "tags": []
   },
   "outputs": [],
   "source": [
    "sigAliasList    = ['sig_A', 'sig_h0', 'sig_hch', 'sig_LQ']\n",
    "sigFilenameList = ['Ato4l_lepFilter_13TeV_filtered.h5', 'hToTauTau_13TeV_PU20_filtered.h5', 'hChToTauNu_13TeV_PU20_filtered.h5', 'leptoquark_LOWMASS_lepFilter_13TeV_filtered.h5']"
   ]
  },
  {
   "cell_type": "code",
   "execution_count": 3,
   "metadata": {
    "executionInfo": {
     "elapsed": 3,
     "status": "ok",
     "timestamp": 1697237502373,
     "user": {
      "displayName": "Hancheng Li",
      "userId": "16561302137020690535"
     },
     "user_tz": 420
    },
    "id": "GHoYrlq5-fFO",
    "tags": []
   },
   "outputs": [],
   "source": [
    "#-- Set base directory and data directory path --#\n",
    "basePath   = '/Users/bobli/Dropbox/AnomalyDetection/OnML4Jets2021DataChallenge/anomaly_detection_code/'\n",
    "dataPath   = 'data/ADC2021/'\n",
    "\n",
    "bkgPath    = basePath+dataPath+'background_for_training.h5'\n",
    "sigPathList = []\n",
    "for x in sigFilenameList:\n",
    "  sigPathList.append(basePath+dataPath+x)"
   ]
  },
  {
   "cell_type": "markdown",
   "metadata": {
    "id": "-eXKRtFSi-HW",
    "tags": []
   },
   "source": [
    "# Functions"
   ]
  },
  {
   "cell_type": "code",
   "execution_count": 4,
   "metadata": {
    "colab": {
     "base_uri": "https://localhost:8080/"
    },
    "executionInfo": {
     "elapsed": 7941,
     "status": "ok",
     "timestamp": 1697237510313,
     "user": {
      "displayName": "Hancheng Li",
      "userId": "16561302137020690535"
     },
     "user_tz": 420
    },
    "id": "VB6jsmDyQKDm",
    "outputId": "29994d0c-626b-46e8-cb71-1765b21d6e61",
    "tags": []
   },
   "outputs": [
    {
     "name": "stdout",
     "output_type": "stream",
     "text": [
      "/Users/bobli/Library/CloudStorage/Dropbox/AnomalyDetection/OnML4Jets2021DataChallenge/anomaly_detection_code/functions\n",
      "Requirement already satisfied: POT in /Users/bobli/anaconda3/lib/python3.11/site-packages (0.9.1)\n",
      "Requirement already satisfied: numpy>=1.16 in /Users/bobli/anaconda3/lib/python3.11/site-packages (from POT) (1.25.2)\n",
      "Requirement already satisfied: scipy>=1.0 in /Users/bobli/anaconda3/lib/python3.11/site-packages (from POT) (1.10.1)\n"
     ]
    }
   ],
   "source": [
    "%cd ~/Dropbox/AnomalyDetection/OnML4Jets2021DataChallenge/anomaly_detection_code/functions\n",
    "%run centralFunctions.ipynb"
   ]
  },
  {
   "cell_type": "markdown",
   "metadata": {
    "id": "RYNI1N6rPCKE"
   },
   "source": [
    "# Loading Data"
   ]
  },
  {
   "cell_type": "code",
   "execution_count": 5,
   "metadata": {
    "executionInfo": {
     "elapsed": 1225,
     "status": "ok",
     "timestamp": 1697237511963,
     "user": {
      "displayName": "Hancheng Li",
      "userId": "16561302137020690535"
     },
     "user_tz": 420
    },
    "id": "Aa4Q0Zho-QtR",
    "tags": []
   },
   "outputs": [],
   "source": [
    "# create a dictionary to store data\n",
    "dataDict = {}\n",
    "dataDict['bkg'] = h5py.File(bkgPath, 'r')\n",
    "\n",
    "for i in range(len(sigAliasList)):\n",
    "  alias   = sigAliasList[i]\n",
    "  sigPath = sigPathList[i]\n",
    "  dataDict[alias] = h5py.File(sigPath, 'r')"
   ]
  },
  {
   "cell_type": "code",
   "execution_count": 6,
   "metadata": {
    "executionInfo": {
     "elapsed": 43685,
     "status": "ok",
     "timestamp": 1697237555970,
     "user": {
      "displayName": "Hancheng Li",
      "userId": "16561302137020690535"
     },
     "user_tz": 420
    },
    "id": "a95ujWJO_Anp",
    "tags": []
   },
   "outputs": [],
   "source": [
    "# store data in dictionart as numpy array\n",
    "bkg_data = dataDict['bkg']['Particles'][:,:,0:3]\n",
    "sig_data = {}\n",
    "\n",
    "for alias in sigAliasList:\n",
    "  sig_data[alias] = dataDict[alias]['Particles'][:,:,0:3]"
   ]
  },
  {
   "cell_type": "markdown",
   "metadata": {
    "id": "BIjh0rhNDhWd"
   },
   "source": [
    "# Low $p_T$ range"
   ]
  },
  {
   "cell_type": "code",
   "execution_count": 7,
   "metadata": {
    "executionInfo": {
     "elapsed": 184,
     "status": "ok",
     "timestamp": 1697237651805,
     "user": {
      "displayName": "Hancheng Li",
      "userId": "16561302137020690535"
     },
     "user_tz": 420
    },
    "id": "dZVT5d7gDnML",
    "tags": []
   },
   "outputs": [],
   "source": [
    "# set basic parameters\n",
    "nEvents = 1000\n",
    "random_state = Generator(PCG64(123))\n",
    "OTSCHEME = {}\n",
    "OTSCHEME['normPT'] = True\n",
    "OTSCHEME['balanced'] = True\n",
    "OTSCHEME['noZeroPad'] = False\n",
    "OTSCHEME['individualOT'] = False"
   ]
  },
  {
   "cell_type": "code",
   "execution_count": 8,
   "metadata": {
    "tags": []
   },
   "outputs": [
    {
     "name": "stderr",
     "output_type": "stream",
     "text": [
      "100%|██████████| 4000000/4000000 [07:38<00:00, 8729.26it/s] \n",
      "Fitting Models: 100%|██████████| 40/40 [00:00<00:00, 61.95it/s]\n",
      "Fitting Models: 100%|██████████| 40/40 [00:00<00:00, 67.17it/s]\n",
      "Fitting Models: 100%|██████████| 40/40 [00:00<00:00, 66.45it/s]\n",
      "Fitting Models: 100%|██████████| 40/40 [00:00<00:00, 66.01it/s]\n",
      "Fitting Models: 100%|██████████| 40/40 [00:00<00:00, 56.25it/s]\n"
     ]
    },
    {
     "name": "stdout",
     "output_type": "stream",
     "text": [
      "0.6193241561554373 0.013909554559565948 25.0 12.649110640673518\n"
     ]
    },
    {
     "name": "stderr",
     "output_type": "stream",
     "text": [
      "100%|██████████| 4000000/4000000 [07:50<00:00, 8502.44it/s] \n",
      "Fitting Models: 100%|██████████| 40/40 [00:00<00:00, 62.09it/s]\n",
      "Fitting Models: 100%|██████████| 40/40 [00:00<00:00, 61.26it/s]\n",
      "Fitting Models: 100%|██████████| 40/40 [00:00<00:00, 67.69it/s]\n",
      "Fitting Models: 100%|██████████| 40/40 [00:00<00:00, 68.04it/s]\n",
      "Fitting Models: 100%|██████████| 40/40 [00:00<00:00, 67.71it/s]\n"
     ]
    },
    {
     "name": "stdout",
     "output_type": "stream",
     "text": [
      "0.5560362022323223 0.026013491872497616 85.0 87.40709353364863\n"
     ]
    },
    {
     "name": "stderr",
     "output_type": "stream",
     "text": [
      "100%|██████████| 4000000/4000000 [07:10<00:00, 9283.55it/s] \n",
      "Fitting Models: 100%|██████████| 40/40 [00:00<00:00, 64.77it/s]\n",
      "Fitting Models: 100%|██████████| 40/40 [00:00<00:00, 64.86it/s]\n",
      "Fitting Models: 100%|██████████| 40/40 [00:00<00:00, 59.73it/s]\n",
      "Fitting Models: 100%|██████████| 40/40 [00:00<00:00, 66.86it/s]\n",
      "Fitting Models: 100%|██████████| 40/40 [00:00<00:00, 64.36it/s]\n"
     ]
    },
    {
     "name": "stdout",
     "output_type": "stream",
     "text": [
      "0.5752272736176252 0.037555171735308014 115.0 127.59310326189265\n"
     ]
    },
    {
     "name": "stderr",
     "output_type": "stream",
     "text": [
      "100%|██████████| 4000000/4000000 [06:46<00:00, 9830.97it/s] \n",
      "Fitting Models: 100%|██████████| 40/40 [00:00<00:00, 61.97it/s]\n",
      "Fitting Models: 100%|██████████| 40/40 [00:00<00:00, 68.65it/s]\n",
      "Fitting Models: 100%|██████████| 40/40 [00:00<00:00, 68.63it/s]\n",
      "Fitting Models: 100%|██████████| 40/40 [00:00<00:00, 68.81it/s]\n",
      "Fitting Models: 100%|██████████| 40/40 [00:00<00:00, 59.26it/s]\n"
     ]
    },
    {
     "name": "stdout",
     "output_type": "stream",
     "text": [
      "0.6840947062389287 0.03150385066000139 25.0 40.0\n"
     ]
    },
    {
     "name": "stderr",
     "output_type": "stream",
     "text": [
      "100%|██████████| 4000000/4000000 [06:34<00:00, 10144.89it/s]\n",
      "Fitting Models: 100%|██████████| 40/40 [00:00<00:00, 67.01it/s]\n",
      "Fitting Models: 100%|██████████| 40/40 [00:00<00:00, 67.78it/s]\n",
      "Fitting Models: 100%|██████████| 40/40 [00:00<00:00, 67.02it/s]\n",
      "Fitting Models: 100%|██████████| 40/40 [00:00<00:00, 68.03it/s]\n",
      "Fitting Models: 100%|██████████| 40/40 [00:00<00:00, 65.26it/s]\n"
     ]
    },
    {
     "name": "stdout",
     "output_type": "stream",
     "text": [
      "0.797380753997553 0.008993921054521814 43.0 36.55133376499413\n"
     ]
    },
    {
     "name": "stderr",
     "output_type": "stream",
     "text": [
      "100%|██████████| 4000000/4000000 [06:24<00:00, 10405.68it/s]\n",
      "Fitting Models: 100%|██████████| 40/40 [00:00<00:00, 64.51it/s]\n",
      "Fitting Models: 100%|██████████| 40/40 [00:00<00:00, 65.02it/s]\n",
      "Fitting Models: 100%|██████████| 40/40 [00:00<00:00, 69.27it/s]\n",
      "Fitting Models: 100%|██████████| 40/40 [00:00<00:00, 65.61it/s]\n",
      "Fitting Models: 100%|██████████| 40/40 [00:00<00:00, 63.61it/s]\n"
     ]
    },
    {
     "name": "stdout",
     "output_type": "stream",
     "text": [
      "0.6761395554738507 0.035688653156475125 57.0 49.95998398718719\n"
     ]
    },
    {
     "name": "stderr",
     "output_type": "stream",
     "text": [
      "100%|██████████| 4000000/4000000 [06:22<00:00, 10462.45it/s]\n",
      "Fitting Models: 100%|██████████| 40/40 [00:00<00:00, 67.03it/s]\n",
      "Fitting Models: 100%|██████████| 40/40 [00:00<00:00, 66.94it/s]\n",
      "Fitting Models: 100%|██████████| 40/40 [00:00<00:00, 71.16it/s] \n",
      "Fitting Models: 100%|██████████| 40/40 [00:00<00:00, 68.26it/s]\n",
      "Fitting Models: 100%|██████████| 40/40 [00:00<00:00, 65.05it/s]\n"
     ]
    },
    {
     "name": "stdout",
     "output_type": "stream",
     "text": [
      "0.607118567366921 0.026939186162531433 75.0 45.16635916254486\n"
     ]
    },
    {
     "name": "stderr",
     "output_type": "stream",
     "text": [
      "100%|██████████| 4000000/4000000 [06:20<00:00, 10514.39it/s]\n",
      "Fitting Models: 100%|██████████| 40/40 [00:00<00:00, 67.40it/s]\n",
      "Fitting Models: 100%|██████████| 40/40 [00:00<00:00, 65.77it/s]\n",
      "Fitting Models: 100%|██████████| 40/40 [00:00<00:00, 69.49it/s]\n",
      "Fitting Models: 100%|██████████| 40/40 [00:00<00:00, 69.53it/s]\n",
      "Fitting Models: 100%|██████████| 40/40 [00:00<00:00, 61.24it/s]\n"
     ]
    },
    {
     "name": "stdout",
     "output_type": "stream",
     "text": [
      "0.7468665866068318 0.021490142570251385 65.0 30.331501776206203\n"
     ]
    },
    {
     "name": "stderr",
     "output_type": "stream",
     "text": [
      "100%|██████████| 4000000/4000000 [06:24<00:00, 10400.45it/s]\n",
      "Fitting Models: 100%|██████████| 40/40 [00:00<00:00, 59.22it/s]\n",
      "Fitting Models: 100%|██████████| 40/40 [00:00<00:00, 67.40it/s]\n",
      "Fitting Models: 100%|██████████| 40/40 [00:00<00:00, 66.12it/s]\n",
      "Fitting Models: 100%|██████████| 40/40 [00:00<00:00, 68.00it/s]\n",
      "Fitting Models: 100%|██████████| 40/40 [00:00<00:00, 59.41it/s]\n"
     ]
    },
    {
     "name": "stdout",
     "output_type": "stream",
     "text": [
      "0.7011452113981134 0.005785647854299646 15.0 8.94427190999916\n"
     ]
    },
    {
     "name": "stderr",
     "output_type": "stream",
     "text": [
      "100%|██████████| 4000000/4000000 [06:22<00:00, 10446.12it/s]\n",
      "Fitting Models: 100%|██████████| 40/40 [00:00<00:00, 67.57it/s]\n",
      "Fitting Models: 100%|██████████| 40/40 [00:00<00:00, 60.74it/s]\n",
      "Fitting Models: 100%|██████████| 40/40 [00:00<00:00, 65.53it/s]\n",
      "Fitting Models: 100%|██████████| 40/40 [00:00<00:00, 67.20it/s]\n",
      "Fitting Models: 100%|██████████| 40/40 [00:00<00:00, 65.03it/s]\n"
     ]
    },
    {
     "name": "stdout",
     "output_type": "stream",
     "text": [
      "0.5667354772174112 0.04953517731908581 89.0 98.91410415102591\n"
     ]
    },
    {
     "name": "stderr",
     "output_type": "stream",
     "text": [
      "100%|██████████| 4000000/4000000 [06:24<00:00, 10404.32it/s]\n",
      "Fitting Models: 100%|██████████| 40/40 [00:00<00:00, 66.57it/s]\n",
      "Fitting Models: 100%|██████████| 40/40 [00:00<00:00, 69.45it/s]\n",
      "Fitting Models: 100%|██████████| 40/40 [00:00<00:00, 71.43it/s] \n",
      "Fitting Models: 100%|██████████| 40/40 [00:00<00:00, 70.81it/s]\n",
      "Fitting Models: 100%|██████████| 40/40 [00:00<00:00, 65.04it/s]\n"
     ]
    },
    {
     "name": "stdout",
     "output_type": "stream",
     "text": [
      "0.6015605971417531 0.03723336061553597 31.0 18.547236990991408\n"
     ]
    },
    {
     "name": "stderr",
     "output_type": "stream",
     "text": [
      "100%|██████████| 4000000/4000000 [06:22<00:00, 10458.88it/s]\n",
      "Fitting Models: 100%|██████████| 40/40 [00:00<00:00, 66.85it/s]\n",
      "Fitting Models: 100%|██████████| 40/40 [00:00<00:00, 69.41it/s]\n",
      "Fitting Models: 100%|██████████| 40/40 [00:00<00:00, 66.14it/s]\n",
      "Fitting Models: 100%|██████████| 40/40 [00:00<00:00, 68.32it/s]\n",
      "Fitting Models: 100%|██████████| 40/40 [00:00<00:00, 63.78it/s]\n"
     ]
    },
    {
     "name": "stdout",
     "output_type": "stream",
     "text": [
      "0.6883180348051865 0.015572400289487753 63.0 47.07440918375928\n"
     ]
    },
    {
     "name": "stderr",
     "output_type": "stream",
     "text": [
      "100%|██████████| 4000000/4000000 [06:25<00:00, 10386.68it/s]\n",
      "Fitting Models: 100%|██████████| 40/40 [00:00<00:00, 65.80it/s]\n",
      "Fitting Models: 100%|██████████| 40/40 [00:00<00:00, 64.35it/s]\n",
      "Fitting Models: 100%|██████████| 40/40 [00:00<00:00, 66.33it/s]\n",
      "Fitting Models: 100%|██████████| 40/40 [00:00<00:00, 66.51it/s]\n",
      "Fitting Models: 100%|██████████| 40/40 [00:00<00:00, 60.84it/s]\n"
     ]
    },
    {
     "name": "stdout",
     "output_type": "stream",
     "text": [
      "0.6251299810860171 0.020683095471606176 59.0 24.979991993593593\n"
     ]
    },
    {
     "name": "stderr",
     "output_type": "stream",
     "text": [
      "100%|██████████| 4000000/4000000 [06:27<00:00, 10322.77it/s]\n",
      "Fitting Models: 100%|██████████| 40/40 [00:00<00:00, 72.85it/s] \n",
      "Fitting Models: 100%|██████████| 40/40 [00:00<00:00, 70.86it/s]\n",
      "Fitting Models: 100%|██████████| 40/40 [00:00<00:00, 70.04it/s]\n",
      "Fitting Models: 100%|██████████| 40/40 [00:00<00:00, 69.22it/s]\n",
      "Fitting Models: 100%|██████████| 40/40 [00:00<00:00, 68.56it/s]\n"
     ]
    },
    {
     "name": "stdout",
     "output_type": "stream",
     "text": [
      "0.5761864516416402 0.02572489625664325 51.0 29.393876913398138\n"
     ]
    },
    {
     "name": "stderr",
     "output_type": "stream",
     "text": [
      "100%|██████████| 4000000/4000000 [06:16<00:00, 10630.36it/s]\n",
      "Fitting Models: 100%|██████████| 40/40 [00:00<00:00, 71.82it/s] \n",
      "Fitting Models: 100%|██████████| 40/40 [00:00<00:00, 70.17it/s]\n",
      "Fitting Models: 100%|██████████| 40/40 [00:00<00:00, 70.56it/s]\n",
      "Fitting Models: 100%|██████████| 40/40 [00:00<00:00, 69.69it/s]\n",
      "Fitting Models: 100%|██████████| 40/40 [00:00<00:00, 59.41it/s]\n"
     ]
    },
    {
     "name": "stdout",
     "output_type": "stream",
     "text": [
      "0.6665967908890511 0.021584085318690237 51.0 28.705400188814647\n"
     ]
    },
    {
     "name": "stderr",
     "output_type": "stream",
     "text": [
      "100%|██████████| 4000000/4000000 [06:13<00:00, 10713.17it/s]\n",
      "Fitting Models: 100%|██████████| 40/40 [00:00<00:00, 72.08it/s]\n",
      "Fitting Models: 100%|██████████| 40/40 [00:00<00:00, 71.36it/s]\n",
      "Fitting Models: 100%|██████████| 40/40 [00:00<00:00, 72.57it/s] \n",
      "Fitting Models: 100%|██████████| 40/40 [00:00<00:00, 67.66it/s]\n",
      "Fitting Models: 100%|██████████| 40/40 [00:00<00:00, 68.07it/s]\n"
     ]
    },
    {
     "name": "stdout",
     "output_type": "stream",
     "text": [
      "0.6981814488486944 0.019362046157130636 65.0 15.491933384829668\n"
     ]
    },
    {
     "name": "stderr",
     "output_type": "stream",
     "text": [
      "100%|██████████| 4000000/4000000 [06:15<00:00, 10665.07it/s]\n",
      "Fitting Models: 100%|██████████| 40/40 [00:00<00:00, 61.31it/s]\n",
      "Fitting Models: 100%|██████████| 40/40 [00:00<00:00, 69.46it/s]\n",
      "Fitting Models: 100%|██████████| 40/40 [00:00<00:00, 69.97it/s]\n",
      "Fitting Models: 100%|██████████| 40/40 [00:00<00:00, 69.51it/s]\n",
      "Fitting Models: 100%|██████████| 40/40 [00:00<00:00, 68.92it/s]\n"
     ]
    },
    {
     "name": "stdout",
     "output_type": "stream",
     "text": [
      "0.6258593862764383 0.024167621160884223 69.0 67.70524351924303\n"
     ]
    },
    {
     "name": "stderr",
     "output_type": "stream",
     "text": [
      "100%|██████████| 4000000/4000000 [06:15<00:00, 10653.84it/s]\n",
      "Fitting Models: 100%|██████████| 40/40 [00:00<00:00, 70.78it/s]\n",
      "Fitting Models: 100%|██████████| 40/40 [00:00<00:00, 71.38it/s]\n",
      "Fitting Models: 100%|██████████| 40/40 [00:00<00:00, 70.17it/s]\n",
      "Fitting Models: 100%|██████████| 40/40 [00:00<00:00, 65.27it/s]\n",
      "Fitting Models: 100%|██████████| 40/40 [00:00<00:00, 67.18it/s]\n"
     ]
    },
    {
     "name": "stdout",
     "output_type": "stream",
     "text": [
      "0.5841808994695518 0.006719364053971755 59.0 38.262252939417984\n"
     ]
    },
    {
     "name": "stderr",
     "output_type": "stream",
     "text": [
      "100%|██████████| 4000000/4000000 [06:12<00:00, 10728.27it/s]\n",
      "Fitting Models: 100%|██████████| 40/40 [00:00<00:00, 67.07it/s] \n",
      "Fitting Models: 100%|██████████| 40/40 [00:00<00:00, 70.11it/s]\n",
      "Fitting Models: 100%|██████████| 40/40 [00:00<00:00, 75.04it/s] \n",
      "Fitting Models: 100%|██████████| 40/40 [00:00<00:00, 70.47it/s]\n",
      "Fitting Models: 100%|██████████| 40/40 [00:00<00:00, 68.10it/s]\n"
     ]
    },
    {
     "name": "stdout",
     "output_type": "stream",
     "text": [
      "0.6885509588655917 0.020427488648409705 63.0 42.14261501141095\n"
     ]
    },
    {
     "name": "stderr",
     "output_type": "stream",
     "text": [
      "100%|██████████| 4000000/4000000 [1:02:45<00:00, 1062.22it/s] \n",
      "Fitting Models: 100%|██████████| 40/40 [00:00<00:00, 71.49it/s]\n",
      "Fitting Models: 100%|██████████| 40/40 [00:00<00:00, 73.76it/s] \n",
      "Fitting Models: 100%|██████████| 40/40 [00:00<00:00, 71.23it/s]\n",
      "Fitting Models: 100%|██████████| 40/40 [00:00<00:00, 73.62it/s] \n",
      "Fitting Models: 100%|██████████| 40/40 [00:00<00:00, 68.59it/s]\n"
     ]
    },
    {
     "name": "stdout",
     "output_type": "stream",
     "text": [
      "0.6166094819906541 0.020159541926277634 101.0 98.10198774744578\n"
     ]
    },
    {
     "name": "stderr",
     "output_type": "stream",
     "text": [
      "100%|██████████| 4000000/4000000 [06:24<00:00, 10389.85it/s]\n",
      "Fitting Models: 100%|██████████| 40/40 [00:00<00:00, 68.35it/s]\n",
      "Fitting Models: 100%|██████████| 40/40 [00:00<00:00, 70.05it/s]\n",
      "Fitting Models: 100%|██████████| 40/40 [00:00<00:00, 68.73it/s]\n",
      "Fitting Models: 100%|██████████| 40/40 [00:00<00:00, 66.56it/s]\n",
      "Fitting Models: 100%|██████████| 40/40 [00:00<00:00, 66.37it/s]\n"
     ]
    },
    {
     "name": "stdout",
     "output_type": "stream",
     "text": [
      "0.798913933102407 0.02230500501928155 29.0 10.198039027185569\n"
     ]
    },
    {
     "name": "stderr",
     "output_type": "stream",
     "text": [
      "100%|██████████| 4000000/4000000 [06:23<00:00, 10416.99it/s]\n",
      "Fitting Models: 100%|██████████| 40/40 [00:00<00:00, 61.80it/s]\n",
      "Fitting Models: 100%|██████████| 40/40 [00:00<00:00, 68.12it/s]\n",
      "Fitting Models: 100%|██████████| 40/40 [00:00<00:00, 66.87it/s]\n",
      "Fitting Models: 100%|██████████| 40/40 [00:00<00:00, 68.84it/s]\n",
      "Fitting Models: 100%|██████████| 40/40 [00:00<00:00, 66.69it/s]\n"
     ]
    },
    {
     "name": "stdout",
     "output_type": "stream",
     "text": [
      "0.5829378691399614 0.021238964288079334 83.0 63.686733312362634\n"
     ]
    },
    {
     "name": "stderr",
     "output_type": "stream",
     "text": [
      "100%|██████████| 4000000/4000000 [06:24<00:00, 10402.54it/s]\n",
      "Fitting Models: 100%|██████████| 40/40 [00:00<00:00, 69.47it/s]\n",
      "Fitting Models: 100%|██████████| 40/40 [00:00<00:00, 71.15it/s]\n",
      "Fitting Models: 100%|██████████| 40/40 [00:00<00:00, 70.12it/s]\n",
      "Fitting Models: 100%|██████████| 40/40 [00:00<00:00, 69.59it/s]\n",
      "Fitting Models: 100%|██████████| 40/40 [00:00<00:00, 66.30it/s]\n"
     ]
    },
    {
     "name": "stdout",
     "output_type": "stream",
     "text": [
      "0.6202817253317441 0.0341775808408001 81.0 74.45804187594514\n"
     ]
    },
    {
     "name": "stderr",
     "output_type": "stream",
     "text": [
      "100%|██████████| 4000000/4000000 [06:27<00:00, 10321.95it/s]\n",
      "Fitting Models: 100%|██████████| 40/40 [00:00<00:00, 69.12it/s]\n",
      "Fitting Models: 100%|██████████| 40/40 [00:00<00:00, 69.34it/s]\n",
      "Fitting Models: 100%|██████████| 40/40 [00:00<00:00, 69.94it/s]\n",
      "Fitting Models: 100%|██████████| 40/40 [00:00<00:00, 68.39it/s]\n",
      "Fitting Models: 100%|██████████| 40/40 [00:00<00:00, 64.74it/s]\n"
     ]
    },
    {
     "name": "stdout",
     "output_type": "stream",
     "text": [
      "0.5284963612145445 0.015364811569643429 57.0 80.34923770640266\n"
     ]
    }
   ],
   "source": [
    "total_event_pT = {}\n",
    "\n",
    "# calculate total event pT for bkgs and signals\n",
    "total_event_pT['bkg'] = np.sum(bkg_data[:, :, 0], axis=1)\n",
    "for alias in sigAliasList:\n",
    "    total_event_pT[alias] = np.sum(sig_data[alias][:,:,0], axis=1)\n",
    "\n",
    "\n",
    "pTrange = [0,50,100,150,200,500,1000]\n",
    "neighbor_list = list(range(5, 400,10))\n",
    "\n",
    "avg_aucs = []\n",
    "std_aucs = []\n",
    "avg_ks = []\n",
    "std_ks = []\n",
    "\n",
    "# iterate through pT ranges and for each signal type do an kNN classification\n",
    "scoreDict = {}\n",
    "for i in range(0, len(pTrange)-1):\n",
    "    lower_bound = pTrange[i]\n",
    "    upper_bound = pTrange[i+1]\n",
    "    scoreDict[str(pTrange[i+1])] = {}\n",
    "    \n",
    "    filtered_events = {}\n",
    "    mask = (total_event_pT['bkg'] >= lower_bound) & (total_event_pT['bkg'] <= upper_bound)\n",
    "    \n",
    "    filtered_events['bkg'] = randomDataSample(bkg_data[mask],nEvents,random_state)\n",
    "    np.random.seed(i)\n",
    "    permutation = np.random.permutation(nEvents*2)\n",
    "    \n",
    "    for alias in sigAliasList:\n",
    "        \n",
    "        mask = (total_event_pT[alias] >= lower_bound) & (total_event_pT[alias] <= upper_bound)\n",
    "        filtered_events[alias] = randomDataSample(sig_data[alias][mask],nEvents,random_state)\n",
    "        \n",
    "        event_list = np.concatenate((filtered_events['bkg'],filtered_events[alias]))\n",
    "        event_labels = np.asarray([0] * nEvents + [1] * nEvents)\n",
    "        event_list = event_list[permutation]\n",
    "        event_labels = event_labels[permutation]\n",
    "        \n",
    "        distance_matrix = calcOTDistance(event_list, event_list, OTSCHEME, '2D', Matrix = True)\n",
    "        \n",
    "        avg_auc, std_auc, avg_k, std_k, metrics_dict = kNN_cross_validation(distance_matrix, event_labels, neighbor_list, k_fold=5)\n",
    "        print(avg_auc, std_auc, avg_k, std_k)\n",
    "        avg_aucs.append(avg_auc)\n",
    "        std_aucs.append(std_auc)\n",
    "        avg_ks.append(avg_k)\n",
    "        std_ks.append(std_k)\n",
    "        scoreDict[str(pTrange[i+1])][alias] = metrics_dict"
   ]
  },
  {
   "cell_type": "code",
   "execution_count": 9,
   "metadata": {
    "tags": []
   },
   "outputs": [
    {
     "name": "stdout",
     "output_type": "stream",
     "text": [
      "[0.6193241561554373, 0.5560362022323223, 0.5752272736176252, 0.6840947062389287, 0.797380753997553, 0.6761395554738507, 0.607118567366921, 0.7468665866068318, 0.7011452113981134, 0.5667354772174112, 0.6015605971417531, 0.6883180348051865, 0.6251299810860171, 0.5761864516416402, 0.6665967908890511, 0.6981814488486944, 0.6258593862764383, 0.5841808994695518, 0.6885509588655917, 0.6166094819906541, 0.798913933102407, 0.5829378691399614, 0.6202817253317441, 0.5284963612145445]\n",
      "[0.013909554559565948, 0.026013491872497616, 0.037555171735308014, 0.03150385066000139, 0.008993921054521814, 0.035688653156475125, 0.026939186162531433, 0.021490142570251385, 0.005785647854299646, 0.04953517731908581, 0.03723336061553597, 0.015572400289487753, 0.020683095471606176, 0.02572489625664325, 0.021584085318690237, 0.019362046157130636, 0.024167621160884223, 0.006719364053971755, 0.020427488648409705, 0.020159541926277634, 0.02230500501928155, 0.021238964288079334, 0.0341775808408001, 0.015364811569643429]\n"
     ]
    }
   ],
   "source": [
    "print(avg_aucs)\n",
    "print(std_aucs)"
   ]
  },
  {
   "cell_type": "code",
   "execution_count": 10,
   "metadata": {
    "tags": []
   },
   "outputs": [
    {
     "name": "stdout",
     "output_type": "stream",
     "text": [
      "[[0.6193241561554373, 0.5560362022323223, 0.5752272736176252, 0.6840947062389287], [0.797380753997553, 0.6761395554738507, 0.607118567366921, 0.7468665866068318], [0.7011452113981134, 0.5667354772174112, 0.6015605971417531, 0.6883180348051865], [0.6251299810860171, 0.5761864516416402, 0.6665967908890511, 0.6981814488486944], [0.6258593862764383, 0.5841808994695518, 0.6885509588655917, 0.6166094819906541], [0.798913933102407, 0.5829378691399614, 0.6202817253317441, 0.5284963612145445]]\n",
      "[[0.013909554559565948, 0.026013491872497616, 0.037555171735308014, 0.03150385066000139], [0.008993921054521814, 0.035688653156475125, 0.026939186162531433, 0.021490142570251385], [0.005785647854299646, 0.04953517731908581, 0.03723336061553597, 0.015572400289487753], [0.020683095471606176, 0.02572489625664325, 0.021584085318690237, 0.019362046157130636], [0.024167621160884223, 0.006719364053971755, 0.020427488648409705, 0.020159541926277634], [0.02230500501928155, 0.021238964288079334, 0.0341775808408001, 0.015364811569643429]]\n"
     ]
    }
   ],
   "source": [
    "grouped_data_1 = [avg_aucs[i:i+4] for i in range(0, len(avg_aucs), 4)]\n",
    "grouped_data_2 = [std_aucs[i:i+4] for i in range(0, len(std_aucs), 4)]\n",
    "print(grouped_data_1)\n",
    "print(grouped_data_2)"
   ]
  },
  {
   "cell_type": "code",
   "execution_count": 11,
   "metadata": {},
   "outputs": [
    {
     "name": "stdout",
     "output_type": "stream",
     "text": [
      "/Users/bobli/Library/CloudStorage/Dropbox/AnomalyDetection/OnML4Jets2021DataChallenge/anomaly_detection_code/experiments/OT_ML/OT_kNN_classification\n"
     ]
    }
   ],
   "source": [
    "import json\n",
    "%cd ~/Dropbox/AnomalyDetection/OnML4Jets2021DataChallenge/anomaly_detection_code/experiments/OT_ML/OT_kNN_classification/\n",
    "for pT in scoreDict:\n",
    "    dict = scoreDict[pT]\n",
    "    converted_dict = {\n",
    "        row: {\n",
    "            col: [dict[row][col][0]] + [arr.tolist() for arr in dict[row][col][1:]]\n",
    "            for col in dict[row]\n",
    "        }\n",
    "        for row in dict\n",
    "    }\n",
    "    \n",
    "    with open('kNN_2D_planed_'+pT+'GeV.json', 'w') as json_file:\n",
    "        json.dump(converted_dict, json_file, indent=4)"
   ]
  },
  {
   "cell_type": "code",
   "execution_count": 12,
   "metadata": {},
   "outputs": [
    {
     "ename": "KeyError",
     "evalue": "0",
     "output_type": "error",
     "traceback": [
      "\u001b[0;31m---------------------------------------------------------------------------\u001b[0m",
      "\u001b[0;31mKeyError\u001b[0m                                  Traceback (most recent call last)",
      "Cell \u001b[0;32mIn[12], line 6\u001b[0m\n\u001b[1;32m      1\u001b[0m transposed_dict \u001b[38;5;241m=\u001b[39m {\n\u001b[1;32m      2\u001b[0m     col: {row: scoreDict[row][col] \u001b[38;5;28;01mfor\u001b[39;00m row \u001b[38;5;129;01min\u001b[39;00m scoreDict}\n\u001b[1;32m      3\u001b[0m     \u001b[38;5;28;01mfor\u001b[39;00m col \u001b[38;5;129;01min\u001b[39;00m scoreDict[\u001b[38;5;28mnext\u001b[39m(\u001b[38;5;28miter\u001b[39m(scoreDict))]\n\u001b[1;32m      4\u001b[0m }\n\u001b[1;32m      5\u001b[0m \u001b[38;5;66;03m# Convert NumPy arrays in the lists to regular lists\u001b[39;00m\n\u001b[0;32m----> 6\u001b[0m converted_dict \u001b[38;5;241m=\u001b[39m {\n\u001b[1;32m      7\u001b[0m     row: {\n\u001b[1;32m      8\u001b[0m         col: [transposed_dict[row][col][\u001b[38;5;241m0\u001b[39m]] \u001b[38;5;241m+\u001b[39m [arr\u001b[38;5;241m.\u001b[39mtolist() \u001b[38;5;28;01mfor\u001b[39;00m arr \u001b[38;5;129;01min\u001b[39;00m transposed_dict[row][col][\u001b[38;5;241m1\u001b[39m:]]\n\u001b[1;32m      9\u001b[0m         \u001b[38;5;28;01mfor\u001b[39;00m col \u001b[38;5;129;01min\u001b[39;00m transposed_dict[row]\n\u001b[1;32m     10\u001b[0m     }\n\u001b[1;32m     11\u001b[0m     \u001b[38;5;28;01mfor\u001b[39;00m row \u001b[38;5;129;01min\u001b[39;00m transposed_dict\n\u001b[1;32m     12\u001b[0m }\n\u001b[1;32m     14\u001b[0m \u001b[38;5;28;01mwith\u001b[39;00m \u001b[38;5;28mopen\u001b[39m(\u001b[38;5;124m'\u001b[39m\u001b[38;5;124mkNN_distance_matrix_3D.json\u001b[39m\u001b[38;5;124m'\u001b[39m, \u001b[38;5;124m'\u001b[39m\u001b[38;5;124mw\u001b[39m\u001b[38;5;124m'\u001b[39m) \u001b[38;5;28;01mas\u001b[39;00m json_file:\n\u001b[1;32m     15\u001b[0m     json\u001b[38;5;241m.\u001b[39mdump(converted_dict, json_file, indent\u001b[38;5;241m=\u001b[39m\u001b[38;5;241m4\u001b[39m)\n",
      "Cell \u001b[0;32mIn[12], line 7\u001b[0m, in \u001b[0;36m<dictcomp>\u001b[0;34m(.0)\u001b[0m\n\u001b[1;32m      1\u001b[0m transposed_dict \u001b[38;5;241m=\u001b[39m {\n\u001b[1;32m      2\u001b[0m     col: {row: scoreDict[row][col] \u001b[38;5;28;01mfor\u001b[39;00m row \u001b[38;5;129;01min\u001b[39;00m scoreDict}\n\u001b[1;32m      3\u001b[0m     \u001b[38;5;28;01mfor\u001b[39;00m col \u001b[38;5;129;01min\u001b[39;00m scoreDict[\u001b[38;5;28mnext\u001b[39m(\u001b[38;5;28miter\u001b[39m(scoreDict))]\n\u001b[1;32m      4\u001b[0m }\n\u001b[1;32m      5\u001b[0m \u001b[38;5;66;03m# Convert NumPy arrays in the lists to regular lists\u001b[39;00m\n\u001b[1;32m      6\u001b[0m converted_dict \u001b[38;5;241m=\u001b[39m {\n\u001b[0;32m----> 7\u001b[0m     row: {\n\u001b[1;32m      8\u001b[0m         col: [transposed_dict[row][col][\u001b[38;5;241m0\u001b[39m]] \u001b[38;5;241m+\u001b[39m [arr\u001b[38;5;241m.\u001b[39mtolist() \u001b[38;5;28;01mfor\u001b[39;00m arr \u001b[38;5;129;01min\u001b[39;00m transposed_dict[row][col][\u001b[38;5;241m1\u001b[39m:]]\n\u001b[1;32m      9\u001b[0m         \u001b[38;5;28;01mfor\u001b[39;00m col \u001b[38;5;129;01min\u001b[39;00m transposed_dict[row]\n\u001b[1;32m     10\u001b[0m     }\n\u001b[1;32m     11\u001b[0m     \u001b[38;5;28;01mfor\u001b[39;00m row \u001b[38;5;129;01min\u001b[39;00m transposed_dict\n\u001b[1;32m     12\u001b[0m }\n\u001b[1;32m     14\u001b[0m \u001b[38;5;28;01mwith\u001b[39;00m \u001b[38;5;28mopen\u001b[39m(\u001b[38;5;124m'\u001b[39m\u001b[38;5;124mkNN_distance_matrix_3D.json\u001b[39m\u001b[38;5;124m'\u001b[39m, \u001b[38;5;124m'\u001b[39m\u001b[38;5;124mw\u001b[39m\u001b[38;5;124m'\u001b[39m) \u001b[38;5;28;01mas\u001b[39;00m json_file:\n\u001b[1;32m     15\u001b[0m     json\u001b[38;5;241m.\u001b[39mdump(converted_dict, json_file, indent\u001b[38;5;241m=\u001b[39m\u001b[38;5;241m4\u001b[39m)\n",
      "Cell \u001b[0;32mIn[12], line 8\u001b[0m, in \u001b[0;36m<dictcomp>\u001b[0;34m(.0)\u001b[0m\n\u001b[1;32m      1\u001b[0m transposed_dict \u001b[38;5;241m=\u001b[39m {\n\u001b[1;32m      2\u001b[0m     col: {row: scoreDict[row][col] \u001b[38;5;28;01mfor\u001b[39;00m row \u001b[38;5;129;01min\u001b[39;00m scoreDict}\n\u001b[1;32m      3\u001b[0m     \u001b[38;5;28;01mfor\u001b[39;00m col \u001b[38;5;129;01min\u001b[39;00m scoreDict[\u001b[38;5;28mnext\u001b[39m(\u001b[38;5;28miter\u001b[39m(scoreDict))]\n\u001b[1;32m      4\u001b[0m }\n\u001b[1;32m      5\u001b[0m \u001b[38;5;66;03m# Convert NumPy arrays in the lists to regular lists\u001b[39;00m\n\u001b[1;32m      6\u001b[0m converted_dict \u001b[38;5;241m=\u001b[39m {\n\u001b[1;32m      7\u001b[0m     row: {\n\u001b[0;32m----> 8\u001b[0m         col: [transposed_dict[row][col][\u001b[38;5;241m0\u001b[39m]] \u001b[38;5;241m+\u001b[39m [arr\u001b[38;5;241m.\u001b[39mtolist() \u001b[38;5;28;01mfor\u001b[39;00m arr \u001b[38;5;129;01min\u001b[39;00m transposed_dict[row][col][\u001b[38;5;241m1\u001b[39m:]]\n\u001b[1;32m      9\u001b[0m         \u001b[38;5;28;01mfor\u001b[39;00m col \u001b[38;5;129;01min\u001b[39;00m transposed_dict[row]\n\u001b[1;32m     10\u001b[0m     }\n\u001b[1;32m     11\u001b[0m     \u001b[38;5;28;01mfor\u001b[39;00m row \u001b[38;5;129;01min\u001b[39;00m transposed_dict\n\u001b[1;32m     12\u001b[0m }\n\u001b[1;32m     14\u001b[0m \u001b[38;5;28;01mwith\u001b[39;00m \u001b[38;5;28mopen\u001b[39m(\u001b[38;5;124m'\u001b[39m\u001b[38;5;124mkNN_distance_matrix_3D.json\u001b[39m\u001b[38;5;124m'\u001b[39m, \u001b[38;5;124m'\u001b[39m\u001b[38;5;124mw\u001b[39m\u001b[38;5;124m'\u001b[39m) \u001b[38;5;28;01mas\u001b[39;00m json_file:\n\u001b[1;32m     15\u001b[0m     json\u001b[38;5;241m.\u001b[39mdump(converted_dict, json_file, indent\u001b[38;5;241m=\u001b[39m\u001b[38;5;241m4\u001b[39m)\n",
      "\u001b[0;31mKeyError\u001b[0m: 0"
     ]
    }
   ],
   "source": [
    "transposed_dict = {\n",
    "    col: {row: scoreDict[row][col] for row in scoreDict}\n",
    "    for col in scoreDict[next(iter(scoreDict))]\n",
    "}\n",
    "# Convert NumPy arrays in the lists to regular lists\n",
    "converted_dict = {\n",
    "    row: {\n",
    "        col: [transposed_dict[row][col][0]] + [arr.tolist() for arr in transposed_dict[row][col][1:]]\n",
    "        for col in transposed_dict[row]\n",
    "    }\n",
    "    for row in transposed_dict\n",
    "}\n",
    "\n",
    "with open('kNN_distance_matrix_3D.json', 'w') as json_file:\n",
    "    json.dump(converted_dict, json_file, indent=4)"
   ]
  }
 ],
 "metadata": {
  "colab": {
   "authorship_tag": "ABX9TyMfzyRMk1fbS0iIqhPEnHQA",
   "provenance": [],
   "toc_visible": true
  },
  "kernelspec": {
   "display_name": "Python 3",
   "language": "python",
   "name": "python3"
  },
  "language_info": {
   "codemirror_mode": {
    "name": "ipython",
    "version": 3
   },
   "file_extension": ".py",
   "mimetype": "text/x-python",
   "name": "python",
   "nbconvert_exporter": "python",
   "pygments_lexer": "ipython3",
   "version": "3.11.6"
  }
 },
 "nbformat": 4,
 "nbformat_minor": 4
}
