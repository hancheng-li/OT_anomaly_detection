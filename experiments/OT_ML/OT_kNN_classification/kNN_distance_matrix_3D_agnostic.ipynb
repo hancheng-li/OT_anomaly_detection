{
 "cells": [
  {
   "cell_type": "markdown",
   "metadata": {},
   "source": [
    "# Prep Work"
   ]
  },
  {
   "cell_type": "markdown",
   "metadata": {},
   "source": [
    "## Import libraries"
   ]
  },
  {
   "cell_type": "code",
   "execution_count": 1,
   "metadata": {},
   "outputs": [],
   "source": [
    "import numpy as np\n",
    "from numpy.random import RandomState\n",
    "import numpy.ma as ma\n",
    "\n",
    "import matplotlib.pyplot as plt\n",
    "from matplotlib.gridspec import GridSpec\n",
    "%matplotlib inline\n",
    "\n",
    "import h5py\n",
    "import ot\n",
    "from numpy.random import Generator, PCG64"
   ]
  },
  {
   "cell_type": "code",
   "execution_count": 2,
   "metadata": {},
   "outputs": [],
   "source": [
    "sigAliasList    = ['sig_A', 'sig_h0', 'sig_hch', 'sig_LQ']\n",
    "sigFilenameList = ['Ato4l_lepFilter_13TeV_filtered.h5', 'hToTauTau_13TeV_PU20_filtered.h5', 'hChToTauNu_13TeV_PU20_filtered.h5', 'leptoquark_LOWMASS_lepFilter_13TeV_filtered.h5']"
   ]
  },
  {
   "cell_type": "code",
   "execution_count": 3,
   "metadata": {},
   "outputs": [],
   "source": [
    "#-- Set base directory and data directory path --#\n",
    "basePath   = '/Users/bobli/Dropbox/AnomalyDetection/OnML4Jets2021DataChallenge/anomaly_detection_code/'\n",
    "dataPath   = 'data/ADC2021/'\n",
    "\n",
    "bkgPath    = basePath+dataPath+'background_for_training.h5'\n",
    "sigPathList = []\n",
    "for x in sigFilenameList:\n",
    "  sigPathList.append(basePath+dataPath+x)"
   ]
  },
  {
   "cell_type": "markdown",
   "metadata": {},
   "source": [
    "## Functions"
   ]
  },
  {
   "cell_type": "code",
   "execution_count": 4,
   "metadata": {},
   "outputs": [
    {
     "name": "stdout",
     "output_type": "stream",
     "text": [
      "/Users/bobli/Library/CloudStorage/Dropbox/AnomalyDetection/OnML4Jets2021DataChallenge/anomaly_detection_code/functions\n"
     ]
    }
   ],
   "source": [
    "%cd ~/Dropbox/AnomalyDetection/OnML4Jets2021DataChallenge/anomaly_detection_code/functions\n",
    "%run centralFunctions.ipynb"
   ]
  },
  {
   "cell_type": "markdown",
   "metadata": {},
   "source": [
    "## Loading Data"
   ]
  },
  {
   "cell_type": "code",
   "execution_count": 5,
   "metadata": {},
   "outputs": [],
   "source": [
    "# create a dictionary to store data\n",
    "dataDict = {}\n",
    "dataDict['bkg'] = h5py.File(bkgPath, 'r')\n",
    "\n",
    "for i in range(len(sigAliasList)):\n",
    "  alias   = sigAliasList[i]\n",
    "  sigPath = sigPathList[i]\n",
    "  dataDict[alias] = h5py.File(sigPath, 'r')"
   ]
  },
  {
   "cell_type": "code",
   "execution_count": 6,
   "metadata": {},
   "outputs": [],
   "source": [
    "# store data in dictionary as numpy arrays\n",
    "bkg_data = dataDict['bkg']['Particles'][:, :, 0:3]\n",
    "sig_data = {}\n",
    "\n",
    "for alias in sigAliasList:\n",
    "  sig_data[alias] = dataDict[alias]['Particles'][:, :, 0:3]"
   ]
  },
  {
   "cell_type": "markdown",
   "metadata": {},
   "source": [
    "# kNN with distance matrix on 3D ground space, model-agnostic training"
   ]
  },
  {
   "cell_type": "code",
   "execution_count": 7,
   "metadata": {},
   "outputs": [],
   "source": [
    "# set basic parameters\n",
    "nEvents = 1000\n",
    "random_state = Generator(PCG64(1))\n",
    "np.random.seed(100)\n",
    "OTSCHEME = {}\n",
    "OTSCHEME['normPT'] = False\n",
    "OTSCHEME['balanced'] = True\n",
    "OTSCHEME['noZeroPad'] = False\n",
    "OTSCHEME['individualOT'] = False"
   ]
  },
  {
   "cell_type": "code",
   "execution_count": 8,
   "metadata": {},
   "outputs": [
    {
     "name": "stdout",
     "output_type": "stream",
     "text": [
      "(400,)\n",
      "(5400, 19, 3)\n",
      "(5400,)\n"
     ]
    },
    {
     "name": "stderr",
     "output_type": "stream",
     "text": [
      "  2%|▏         | 639099/29160000 [01:08<51:18, 9264.02it/s]\n"
     ]
    },
    {
     "ename": "KeyboardInterrupt",
     "evalue": "",
     "output_type": "error",
     "traceback": [
      "\u001b[0;31m---------------------------------------------------------------------------\u001b[0m",
      "\u001b[0;31mKeyboardInterrupt\u001b[0m                         Traceback (most recent call last)",
      "Cell \u001b[0;32mIn[8], line 33\u001b[0m\n\u001b[1;32m     30\u001b[0m \u001b[38;5;28mprint\u001b[39m(total_events\u001b[38;5;241m.\u001b[39mshape)\n\u001b[1;32m     31\u001b[0m \u001b[38;5;28mprint\u001b[39m(labels\u001b[38;5;241m.\u001b[39mshape)\n\u001b[0;32m---> 33\u001b[0m distance_matrix \u001b[38;5;241m=\u001b[39m \u001b[43mcalcOTDistance\u001b[49m\u001b[43m(\u001b[49m\u001b[43mtotal_events\u001b[49m\u001b[43m,\u001b[49m\u001b[43m \u001b[49m\u001b[43mtotal_events\u001b[49m\u001b[43m,\u001b[49m\u001b[43m \u001b[49m\u001b[43mOTSCHEME\u001b[49m\u001b[43m,\u001b[49m\u001b[43m \u001b[49m\u001b[38;5;124;43m'\u001b[39;49m\u001b[38;5;124;43m3D\u001b[39;49m\u001b[38;5;124;43m'\u001b[39;49m\u001b[43m,\u001b[49m\u001b[43m \u001b[49m\u001b[43mMatrix\u001b[49m\u001b[38;5;241;43m=\u001b[39;49m\u001b[38;5;28;43;01mTrue\u001b[39;49;00m\u001b[43m)\u001b[49m\n\u001b[1;32m     35\u001b[0m neighbor_list \u001b[38;5;241m=\u001b[39m \u001b[38;5;28mlist\u001b[39m(\u001b[38;5;28mrange\u001b[39m(\u001b[38;5;241m5\u001b[39m, \u001b[38;5;28mint\u001b[39m(np\u001b[38;5;241m.\u001b[39msqrt(nEvents \u001b[38;5;241m*\u001b[39m \u001b[38;5;241m5\u001b[39m)), \u001b[38;5;241m6\u001b[39m))\n\u001b[1;32m     37\u001b[0m best_auc, best_k, best_model, auc_list \u001b[38;5;241m=\u001b[39m kNN_with_distance_matrix(distance_matrix, labels, nEvents \u001b[38;5;241m*\u001b[39m \u001b[38;5;241m4\u001b[39m, nEvents, nEvents\u001b[38;5;241m/\u001b[39m\u001b[38;5;241m/\u001b[39m\u001b[38;5;241m5\u001b[39m \u001b[38;5;241m*\u001b[39m \u001b[38;5;241m2\u001b[39m, neighbor_list, AUC_list\u001b[38;5;241m=\u001b[39m\u001b[38;5;28;01mTrue\u001b[39;00m)\n",
      "File \u001b[0;32m/var/folders/m3/5lk1jz6j3lj1yz3q_djy8z1h0000gp/T/ipykernel_2716/2428506852.py:78\u001b[0m, in \u001b[0;36mcalcOTDistance\u001b[0;34m(xEvents, yEvents, OTSCHEME, COSTSCHEME, kwargs, Matrix)\u001b[0m\n\u001b[1;32m     75\u001b[0m   xs[:,\u001b[38;5;241m0\u001b[39m], xt[:,\u001b[38;5;241m0\u001b[39m] \u001b[38;5;241m=\u001b[39m xs[:,\u001b[38;5;241m0\u001b[39m]\u001b[38;5;241m/\u001b[39mtotPTs, xt[:,\u001b[38;5;241m0\u001b[39m]\u001b[38;5;241m/\u001b[39mtotPTt\n\u001b[1;32m     77\u001b[0m \u001b[38;5;66;03m#-- Get cost function and append to list --#\u001b[39;00m\n\u001b[0;32m---> 78\u001b[0m cxy \u001b[38;5;241m=\u001b[39m \u001b[43mcalcGroundCostMatrix\u001b[49m\u001b[43m(\u001b[49m\u001b[43mxs\u001b[49m\u001b[43m,\u001b[49m\u001b[43m \u001b[49m\u001b[43mxt\u001b[49m\u001b[43m,\u001b[49m\u001b[43m \u001b[49m\u001b[43mCOSTSCHEME\u001b[49m\u001b[43m)\u001b[49m\n\u001b[1;32m     79\u001b[0m \u001b[38;5;66;03m# CXY.append(cxy)\u001b[39;00m\n\u001b[1;32m     80\u001b[0m \n\u001b[1;32m     81\u001b[0m \u001b[38;5;66;03m#-- Calculate the unbalanced Wasserstein distance --#\u001b[39;00m\n\u001b[1;32m     82\u001b[0m \u001b[38;5;28;01mif\u001b[39;00m OTSCHEME[\u001b[38;5;124m'\u001b[39m\u001b[38;5;124mbalanced\u001b[39m\u001b[38;5;124m'\u001b[39m]\u001b[38;5;241m==\u001b[39m\u001b[38;5;28;01mFalse\u001b[39;00m:\n",
      "File \u001b[0;32m/var/folders/m3/5lk1jz6j3lj1yz3q_djy8z1h0000gp/T/ipykernel_2716/910549877.py:24\u001b[0m, in \u001b[0;36mcalcGroundCostMatrix\u001b[0;34m(xs, xt, COSTSCHEME)\u001b[0m\n\u001b[1;32m     22\u001b[0m   \u001b[38;5;28;01mreturn\u001b[39;00m calcGroundCostMatrix_2D(xs, xt)\n\u001b[1;32m     23\u001b[0m \u001b[38;5;28;01melif\u001b[39;00m COSTSCHEME\u001b[38;5;241m==\u001b[39m\u001b[38;5;124m'\u001b[39m\u001b[38;5;124m3D\u001b[39m\u001b[38;5;124m'\u001b[39m:\n\u001b[0;32m---> 24\u001b[0m   \u001b[38;5;28;01mreturn\u001b[39;00m \u001b[43mcalcGroundCostMatrix_3D\u001b[49m\u001b[43m(\u001b[49m\u001b[43mxs\u001b[49m\u001b[43m,\u001b[49m\u001b[43m \u001b[49m\u001b[43mxt\u001b[49m\u001b[43m)\u001b[49m\n\u001b[1;32m     25\u001b[0m \u001b[38;5;28;01melse\u001b[39;00m:\n\u001b[1;32m     26\u001b[0m   \u001b[38;5;28mprint\u001b[39m(\u001b[38;5;124m\"\u001b[39m\u001b[38;5;124mError: Invalid COSTSCHEME\u001b[39m\u001b[38;5;124m\"\u001b[39m)\n",
      "File \u001b[0;32m/var/folders/m3/5lk1jz6j3lj1yz3q_djy8z1h0000gp/T/ipykernel_2716/3774045022.py:10\u001b[0m, in \u001b[0;36mcalcGroundCostMatrix_3D\u001b[0;34m(xs, xt)\u001b[0m\n\u001b[1;32m      8\u001b[0m deltaEta     \u001b[38;5;241m=\u001b[39m xs[:,\u001b[38;5;241m1\u001b[39m,\u001b[38;5;28;01mNone\u001b[39;00m] \u001b[38;5;241m-\u001b[39m xt[:,\u001b[38;5;241m1\u001b[39m]\n\u001b[1;32m      9\u001b[0m deltaPhi_raw \u001b[38;5;241m=\u001b[39m xs[:,\u001b[38;5;241m2\u001b[39m,\u001b[38;5;28;01mNone\u001b[39;00m] \u001b[38;5;241m-\u001b[39m xt[:,\u001b[38;5;241m2\u001b[39m]\n\u001b[0;32m---> 10\u001b[0m deltaPhi     \u001b[38;5;241m=\u001b[39m \u001b[43mnp\u001b[49m\u001b[38;5;241m.\u001b[39mpi \u001b[38;5;241m-\u001b[39m np\u001b[38;5;241m.\u001b[39mabs(np\u001b[38;5;241m.\u001b[39mpi \u001b[38;5;241m-\u001b[39m np\u001b[38;5;241m.\u001b[39mabs(deltaPhi_raw))\n\u001b[1;32m     11\u001b[0m \u001b[38;5;28;01mreturn\u001b[39;00m deltaPT\u001b[38;5;241m*\u001b[39m\u001b[38;5;241m*\u001b[39m\u001b[38;5;241m2\u001b[39m \u001b[38;5;241m+\u001b[39m deltaEta\u001b[38;5;241m*\u001b[39m\u001b[38;5;241m*\u001b[39m\u001b[38;5;241m2\u001b[39m \u001b[38;5;241m+\u001b[39m deltaPhi\u001b[38;5;241m*\u001b[39m\u001b[38;5;241m*\u001b[39m\u001b[38;5;241m2\u001b[39m\n",
      "\u001b[0;31mKeyboardInterrupt\u001b[0m: "
     ]
    }
   ],
   "source": [
    "neighbor_list = list(range(5, 400,10))\n",
    "\n",
    "train_events = []\n",
    "test_events = []\n",
    "events = {}\n",
    "\n",
    "events['bkg'] = randomDataSample(bkg_data, nEvents + nEvents // 5, random_state)\n",
    "train_events.extend(events['bkg'][:nEvents])\n",
    "test_events.extend(events['bkg'][nEvents:])\n",
    "\n",
    "for alias in sigAliasList:\n",
    "    events[alias] = randomDataSample(sig_data[alias] , nEvents + nEvents // 5, random_state)\n",
    "    train_events.extend(events[alias][:nEvents])\n",
    "    if alias == 'sig_LQ':\n",
    "        test_events.extend(events[alias][nEvents:])\n",
    "    \n",
    "del bkg_data, sig_data\n",
    "\n",
    "permutation = np.random.permutation(nEvents * 5)\n",
    "\n",
    "test_events = np.asarray(test_events)\n",
    "train_events = np.asarray(train_events)\n",
    "train_labels = np.array([0] * nEvents + [1] * 4 * nEvents)\n",
    "train_events = train_events[permutation]\n",
    "train_labels = train_labels[permutation]\n",
    "test_labels = np.array([0] * (nEvents // 5) + [1] * (nEvents // 5))\n",
    "print(test_labels.shape)\n",
    "total_events = np.concatenate((train_events, test_events))\n",
    "labels = np.concatenate((train_labels, test_labels))\n",
    "print(total_events.shape)\n",
    "print(labels.shape)\n",
    "\n",
    "distance_matrix = calcOTDistance(total_events, total_events, OTSCHEME, '3D', Matrix=True)\n",
    "\n",
    "neighbor_list = list(range(5, int(np.sqrt(nEvents * 5)), 6))\n",
    "\n",
    "best_auc, best_k, best_model, auc_list = kNN_with_distance_matrix(distance_matrix, labels, nEvents * 4, nEvents, nEvents//5 * 2, neighbor_list, AUC_list=True)"
   ]
  },
  {
   "cell_type": "code",
   "execution_count": null,
   "metadata": {},
   "outputs": [
    {
     "name": "stdout",
     "output_type": "stream",
     "text": [
      "0.87125 29 [0.8100598461100028, 0.8387004844685096, 0.8461100028498149, 0.8443644913080651, 0.8493872898261613, 0.8478911370760901]\n"
     ]
    }
   ],
   "source": [
    "\n",
    "print(best_auc, best_k, auc_list)\n",
    "\n"
   ]
  },
  {
   "cell_type": "code",
   "execution_count": null,
   "metadata": {},
   "outputs": [],
   "source": [
    "0.8315277777777778 29 [0.8100598461100028, 0.8387004844685096, 0.8461100028498149, 0.8443644913080651, 0.8493872898261613, 0.8478911370760901]\n",
    "0.7904166666666668 29 [0.8100598461100028, 0.8387004844685096, 0.8461100028498149, 0.8443644913080651, 0.8493872898261613, 0.8478911370760901]\n",
    "0.8905555555555554 29 [0.8100598461100028, 0.8387004844685096, 0.8461100028498149, 0.8443644913080651, 0.8493872898261613, 0.8478911370760901]\n",
    "0.87125 29 [0.8100598461100028, 0.8387004844685096, 0.8461100028498149, 0.8443644913080651, 0.8493872898261613, 0.8478911370760901]"
   ]
  }
 ],
 "metadata": {
  "kernelspec": {
   "display_name": "Research",
   "language": "python",
   "name": "python3"
  },
  "language_info": {
   "codemirror_mode": {
    "name": "ipython",
    "version": 3
   },
   "file_extension": ".py",
   "mimetype": "text/x-python",
   "name": "python",
   "nbconvert_exporter": "python",
   "pygments_lexer": "ipython3",
   "version": "3.9.18"
  }
 },
 "nbformat": 4,
 "nbformat_minor": 2
}
