{
 "cells": [
  {
   "cell_type": "markdown",
   "metadata": {},
   "source": [
    "# Prep Work"
   ]
  },
  {
   "cell_type": "markdown",
   "metadata": {},
   "source": [
    "## Import libraries"
   ]
  },
  {
   "cell_type": "code",
   "execution_count": 1,
   "metadata": {},
   "outputs": [],
   "source": [
    "import numpy as np\n",
    "from numpy.random import RandomState\n",
    "import numpy.ma as ma\n",
    "\n",
    "import matplotlib.pyplot as plt\n",
    "from matplotlib.gridspec import GridSpec\n",
    "%matplotlib inline\n",
    "\n",
    "import h5py\n",
    "import ot\n",
    "from numpy.random import Generator, PCG64"
   ]
  },
  {
   "cell_type": "code",
   "execution_count": 2,
   "metadata": {},
   "outputs": [],
   "source": [
    "sigAliasList    = ['sig_A', 'sig_h0', 'sig_hch', 'sig_LQ']\n",
    "sigFilenameList = ['Ato4l_lepFilter_13TeV_filtered.h5', 'hToTauTau_13TeV_PU20_filtered.h5', 'hChToTauNu_13TeV_PU20_filtered.h5', 'leptoquark_LOWMASS_lepFilter_13TeV_filtered.h5']"
   ]
  },
  {
   "cell_type": "code",
   "execution_count": 3,
   "metadata": {},
   "outputs": [],
   "source": [
    "#-- Set base directory and data directory path --#\n",
    "basePath   = '/Users/bobli/Dropbox/AnomalyDetection/OnML4Jets2021DataChallenge/'\n",
    "dataPath   = 'Data/'\n",
    "\n",
    "bkgPath    = basePath+dataPath+'background_for_training.h5'\n",
    "sigPathList = []\n",
    "for x in sigFilenameList:\n",
    "  sigPathList.append(basePath+dataPath+x)"
   ]
  },
  {
   "cell_type": "markdown",
   "metadata": {},
   "source": [
    "## Functions"
   ]
  },
  {
   "cell_type": "code",
   "execution_count": 4,
   "metadata": {},
   "outputs": [
    {
     "name": "stdout",
     "output_type": "stream",
     "text": [
      "/Users/bobli/Library/CloudStorage/Dropbox/AnomalyDetection/OnML4Jets2021DataChallenge/anomaly_detection_code/functions\n"
     ]
    }
   ],
   "source": [
    "%cd ~/Dropbox/AnomalyDetection/OnML4Jets2021DataChallenge/anomaly_detection_code/functions\n",
    "%run centralFunctions.ipynb"
   ]
  },
  {
   "cell_type": "markdown",
   "metadata": {},
   "source": [
    "## Loading Data"
   ]
  },
  {
   "cell_type": "code",
   "execution_count": 5,
   "metadata": {},
   "outputs": [],
   "source": [
    "# create a dictionary to store data\n",
    "dataDict = {}\n",
    "dataDict['bkg'] = h5py.File(bkgPath, 'r')\n",
    "\n",
    "for i in range(len(sigAliasList)):\n",
    "  alias   = sigAliasList[i]\n",
    "  sigPath = sigPathList[i]\n",
    "  dataDict[alias] = h5py.File(sigPath, 'r')"
   ]
  },
  {
   "cell_type": "code",
   "execution_count": 22,
   "metadata": {},
   "outputs": [],
   "source": [
    "# store data in dictionary as numpy arrays\n",
    "bkg_data = dataDict['bkg']['Particles'][:, :, 0:3]\n",
    "sig_data = {}\n",
    "\n",
    "for alias in sigAliasList:\n",
    "  sig_data[alias] = dataDict[alias]['Particles'][:, :, 0:3]"
   ]
  },
  {
   "cell_type": "markdown",
   "metadata": {},
   "source": [
    "# kNN with distance matrix on 3D ground space, model-agnostic training"
   ]
  },
  {
   "cell_type": "code",
   "execution_count": 23,
   "metadata": {},
   "outputs": [],
   "source": [
    "# set basic parameters\n",
    "nEvents = 1000\n",
    "random_state = Generator(PCG64(1))\n",
    "np.random.seed(100)\n",
    "OTSCHEME = {}\n",
    "OTSCHEME['normPT'] = False\n",
    "OTSCHEME['balanced'] = True\n",
    "OTSCHEME['noZeroPad'] = False\n",
    "OTSCHEME['individualOT'] = False"
   ]
  },
  {
   "cell_type": "code",
   "execution_count": 24,
   "metadata": {},
   "outputs": [
    {
     "name": "stdout",
     "output_type": "stream",
     "text": [
      "(120,)\n",
      "(1620, 19, 3)\n",
      "(1620,)\n"
     ]
    },
    {
     "name": "stderr",
     "output_type": "stream",
     "text": [
      "100%|██████████| 2624400/2624400 [01:43<00:00, 25404.08it/s] \n",
      "Fitting Models: 100%|██████████| 6/6 [00:00<00:00, 153.47it/s]\n"
     ]
    }
   ],
   "source": [
    "neighbor_list = list(range(5, 400,10))\n",
    "\n",
    "train_events = []\n",
    "test_events = []\n",
    "events = {}\n",
    "\n",
    "events['bkg'] = randomDataSample(bkg_data, nEvents + nEvents // 5, random_state)\n",
    "train_events.extend(events['bkg'][:nEvents])\n",
    "test_events.extend(events['bkg'][nEvents:])\n",
    "\n",
    "for alias in sigAliasList:\n",
    "    events[alias] = randomDataSample(sig_data[alias] , nEvents + nEvents // 5, random_state)\n",
    "    train_events.extend(events[alias][:nEvents])\n",
    "    if alias == 'sig_LQ':\n",
    "        test_events.extend(events[alias][nEvents:])\n",
    "    \n",
    "del bkg_data, sig_data\n",
    "\n",
    "permutation = np.random.permutation(nEvents * 5)\n",
    "\n",
    "test_events = np.asarray(test_events)\n",
    "train_events = np.asarray(train_events)\n",
    "train_labels = np.array([0] * nEvents + [1] * 4 * nEvents)\n",
    "train_events = train_events[permutation]\n",
    "train_labels = train_labels[permutation]\n",
    "test_labels = np.array([0] * (nEvents // 5) + [1] * (nEvents // 5))\n",
    "print(test_labels.shape)\n",
    "total_events = np.concatenate((train_events, test_events))\n",
    "labels = np.concatenate((train_labels, test_labels))\n",
    "print(total_events.shape)\n",
    "print(labels.shape)\n",
    "\n",
    "distance_matrix = calcOTDistance(total_events, total_events, OTSCHEME, '3D', Matrix=True)\n",
    "\n",
    "neighbor_list = list(range(5, int(np.sqrt(nEvents * 5)), 6))\n",
    "\n",
    "best_auc, best_k, best_model, auc_list = kNN_with_distance_matrix(distance_matrix, labels, nEvents * 4, nEvents, nEvents//5 * 2, neighbor_list, AUC_list=True)"
   ]
  },
  {
   "cell_type": "code",
   "execution_count": 25,
   "metadata": {},
   "outputs": [
    {
     "name": "stdout",
     "output_type": "stream",
     "text": [
      "0.87125 29 [0.8100598461100028, 0.8387004844685096, 0.8461100028498149, 0.8443644913080651, 0.8493872898261613, 0.8478911370760901]\n"
     ]
    }
   ],
   "source": [
    "\n",
    "print(best_auc, best_k, auc_list)\n",
    "\n"
   ]
  },
  {
   "cell_type": "code",
   "execution_count": null,
   "metadata": {},
   "outputs": [],
   "source": [
    "0.8315277777777778 29 [0.8100598461100028, 0.8387004844685096, 0.8461100028498149, 0.8443644913080651, 0.8493872898261613, 0.8478911370760901]\n",
    "0.7904166666666668 29 [0.8100598461100028, 0.8387004844685096, 0.8461100028498149, 0.8443644913080651, 0.8493872898261613, 0.8478911370760901]\n",
    "0.8905555555555554 29 [0.8100598461100028, 0.8387004844685096, 0.8461100028498149, 0.8443644913080651, 0.8493872898261613, 0.8478911370760901]\n",
    "0.87125 29 [0.8100598461100028, 0.8387004844685096, 0.8461100028498149, 0.8443644913080651, 0.8493872898261613, 0.8478911370760901]"
   ]
  }
 ],
 "metadata": {
  "kernelspec": {
   "display_name": "Research",
   "language": "python",
   "name": "python3"
  },
  "language_info": {
   "codemirror_mode": {
    "name": "ipython",
    "version": 3
   },
   "file_extension": ".py",
   "mimetype": "text/x-python",
   "name": "python",
   "nbconvert_exporter": "python",
   "pygments_lexer": "ipython3",
   "version": "3.11.4"
  }
 },
 "nbformat": 4,
 "nbformat_minor": 2
}
