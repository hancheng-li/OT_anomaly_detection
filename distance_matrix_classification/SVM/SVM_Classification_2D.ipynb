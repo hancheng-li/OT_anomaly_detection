{
 "cells": [
  {
   "cell_type": "markdown",
   "id": "49a6434f-8a6b-436e-8afd-450b1c94eec3",
   "metadata": {
    "id": "HzPInTTSYm2D",
    "tags": []
   },
   "source": [
    "# Import libraries"
   ]
  },
  {
   "cell_type": "code",
   "execution_count": 1,
   "id": "424b1167-6ef6-46be-a350-2408f6aefff3",
   "metadata": {
    "colab": {
     "base_uri": "https://localhost:8080/"
    },
    "executionInfo": {
     "elapsed": 15521,
     "status": "ok",
     "timestamp": 1697237483540,
     "user": {
      "displayName": "Hancheng Li",
      "userId": "16561302137020690535"
     },
     "user_tz": 420
    },
    "id": "Sm0J6usIYrxN",
    "outputId": "2e7cf2ec-503e-4497-fddb-c6ecfc53c65f",
    "tags": []
   },
   "outputs": [],
   "source": [
    "import numpy as np\n",
    "from numpy.random import RandomState\n",
    "import numpy.ma as ma\n",
    "\n",
    "\n",
    "import matplotlib.pyplot as plt\n",
    "from matplotlib.gridspec import GridSpec\n",
    "%matplotlib inline\n",
    "\n",
    "import h5py\n",
    "import ot\n",
    "from numpy.random import Generator, PCG64\n",
    "from sklearn import metrics\n",
    "import itertools\n",
    "\n",
    "from sklearn.svm import SVC\n",
    "from sklearn.model_selection import train_test_split\n",
    "from sklearn.metrics import roc_curve, roc_auc_score\n",
    "from sklearn.svm import LinearSVC\n",
    "from sklearn.calibration import CalibratedClassifierCV\n",
    "from sklearn.neighbors import KNeighborsClassifier\n",
    "from tqdm import tqdm"
   ]
  },
  {
   "cell_type": "code",
   "execution_count": 2,
   "id": "8ccdc904-948a-457e-974c-fd9504062208",
   "metadata": {
    "executionInfo": {
     "elapsed": 3,
     "status": "ok",
     "timestamp": 1697237502373,
     "user": {
      "displayName": "Hancheng Li",
      "userId": "16561302137020690535"
     },
     "user_tz": 420
    },
    "id": "RFyfcq8A-sPF",
    "tags": []
   },
   "outputs": [],
   "source": [
    "sigAliasList    = ['sig_A', 'sig_h0', 'sig_hch', 'sig_LQ']\n",
    "sigFilenameList = ['Ato4l_lepFilter_13TeV_filtered.h5', 'hToTauTau_13TeV_PU20_filtered.h5', 'hChToTauNu_13TeV_PU20_filtered.h5', 'leptoquark_LOWMASS_lepFilter_13TeV_filtered.h5']"
   ]
  },
  {
   "cell_type": "code",
   "execution_count": 3,
   "id": "608c73d9-0dba-42fd-a4d0-f32d24eb4144",
   "metadata": {
    "executionInfo": {
     "elapsed": 3,
     "status": "ok",
     "timestamp": 1697237502373,
     "user": {
      "displayName": "Hancheng Li",
      "userId": "16561302137020690535"
     },
     "user_tz": 420
    },
    "id": "GHoYrlq5-fFO",
    "tags": []
   },
   "outputs": [],
   "source": [
    "#-- Set base directory and data directory path --#\n",
    "basePath   = '/Users/hanchengli/Dropbox/AnomalyDetection/OnML4Jets2021DataChallenge/'\n",
    "dataPath   = 'Data/'\n",
    "\n",
    "bkgPath    = basePath+dataPath+'background_for_training.h5'\n",
    "sigPathList = []\n",
    "for x in sigFilenameList:\n",
    "  sigPathList.append(basePath+dataPath+x)"
   ]
  },
  {
   "cell_type": "markdown",
   "id": "3470c650-6b6b-4694-9306-9dd04621f40e",
   "metadata": {
    "id": "-eXKRtFSi-HW",
    "tags": []
   },
   "source": [
    "# Functions"
   ]
  },
  {
   "cell_type": "code",
   "execution_count": 4,
   "id": "6b10cc1c-02a7-4de2-8efc-cc871d2eba6b",
   "metadata": {
    "colab": {
     "base_uri": "https://localhost:8080/"
    },
    "executionInfo": {
     "elapsed": 7941,
     "status": "ok",
     "timestamp": 1697237510313,
     "user": {
      "displayName": "Hancheng Li",
      "userId": "16561302137020690535"
     },
     "user_tz": 420
    },
    "id": "VB6jsmDyQKDm",
    "outputId": "29994d0c-626b-46e8-cb71-1765b21d6e61",
    "tags": []
   },
   "outputs": [
    {
     "name": "stdout",
     "output_type": "stream",
     "text": [
      "/Users/hanchengli/Library/CloudStorage/Dropbox/AnomalyDetection/OnML4Jets2021DataChallenge/anomaly_detection_code/functions\n"
     ]
    }
   ],
   "source": [
    "%cd ~/Dropbox/AnomalyDetection/OnML4Jets2021DataChallenge/anomaly_detection_code/functions\n",
    "%run centralFunctions.ipynb"
   ]
  },
  {
   "cell_type": "markdown",
   "id": "eb40a8ee-a28a-4815-94ec-14b41d9b75f5",
   "metadata": {
    "id": "RYNI1N6rPCKE",
    "tags": []
   },
   "source": [
    "# Loading Data"
   ]
  },
  {
   "cell_type": "code",
   "execution_count": 5,
   "id": "4eca1ff0-27d5-42ff-9352-d64da54de616",
   "metadata": {
    "executionInfo": {
     "elapsed": 1225,
     "status": "ok",
     "timestamp": 1697237511963,
     "user": {
      "displayName": "Hancheng Li",
      "userId": "16561302137020690535"
     },
     "user_tz": 420
    },
    "id": "Aa4Q0Zho-QtR",
    "tags": []
   },
   "outputs": [],
   "source": [
    "dataDict = {}\n",
    "dataDict['bkg'] = h5py.File(bkgPath, 'r')\n",
    "\n",
    "for i in range(len(sigAliasList)):\n",
    "  alias   = sigAliasList[i]\n",
    "  sigPath = sigPathList[i]\n",
    "  dataDict[alias] = h5py.File(sigPath, 'r')"
   ]
  },
  {
   "cell_type": "code",
   "execution_count": 6,
   "id": "a4e98d3b-36a7-4b8b-acdd-414ced52f151",
   "metadata": {
    "executionInfo": {
     "elapsed": 43685,
     "status": "ok",
     "timestamp": 1697237555970,
     "user": {
      "displayName": "Hancheng Li",
      "userId": "16561302137020690535"
     },
     "user_tz": 420
    },
    "id": "a95ujWJO_Anp",
    "tags": []
   },
   "outputs": [],
   "source": [
    "bkg_data = dataDict['bkg']['Particles'][:,:,0:3]\n",
    "sig_data = {}\n",
    "\n",
    "for alias in sigAliasList:\n",
    "  sig_data[alias] = dataDict[alias]['Particles'][:,:,0:3]"
   ]
  },
  {
   "cell_type": "markdown",
   "id": "3e1a0c8c-194b-4eeb-b11c-79fe088564d8",
   "metadata": {
    "id": "BIjh0rhNDhWd"
   },
   "source": [
    "# Low $p_T$ range"
   ]
  },
  {
   "cell_type": "code",
   "execution_count": 7,
   "id": "6f73457d-3f20-4a67-9cfc-216bb36f5530",
   "metadata": {
    "executionInfo": {
     "elapsed": 184,
     "status": "ok",
     "timestamp": 1697237651805,
     "user": {
      "displayName": "Hancheng Li",
      "userId": "16561302137020690535"
     },
     "user_tz": 420
    },
    "id": "dZVT5d7gDnML",
    "tags": []
   },
   "outputs": [],
   "source": [
    "nEvents = 500\n",
    "random_state = Generator(PCG64(123))\n",
    "OTSCHEME = {}\n",
    "OTSCHEME['normPT'] = True\n",
    "OTSCHEME['balanced'] = True\n",
    "OTSCHEME['noZeroPad'] = False\n",
    "OTSCHEME['individualOT'] = False"
   ]
  },
  {
   "cell_type": "code",
   "execution_count": 8,
   "id": "8ca876c8-bc5f-41af-b377-4e1e1d08caa9",
   "metadata": {
    "tags": []
   },
   "outputs": [],
   "source": [
    "total_event_pT = {}\n",
    "\n",
    "total_event_pT['bkg'] = np.sum(bkg_data[:, :, 0], axis=1)\n",
    "\n",
    "for alias in sigAliasList:\n",
    "    total_event_pT[alias] = np.sum(sig_data[alias][:,:,0], axis=1)\n",
    "\n",
    "pTrange = [0,50,100,150,200,500,1000]\n",
    "avg_aucs = []\n",
    "std_aucs = []\n",
    "avg_ks = []\n",
    "std_ks = []\n",
    "\n",
    "filtered_events = {}\n",
    "filtered_events['bkg'] = {}\n",
    "for alias in sigAliasList:\n",
    "    filtered_events[alias] = {}\n",
    "\n",
    "for i in range(0, len(pTrange)-1):\n",
    "    lower_bound = pTrange[i]\n",
    "    upper_bound = pTrange[i+1]\n",
    "    \n",
    "    mask = (total_event_pT['bkg'] >= lower_bound) & (total_event_pT['bkg'] <= upper_bound)\n",
    "    \n",
    "    filtered_events['bkg'][str(pTrange[i+1])] = randomDataSample(bkg_data[mask],nEvents,random_state)\n",
    "    \n",
    "    for alias in sigAliasList:\n",
    "        mask = (total_event_pT[alias] >= lower_bound) & (total_event_pT[alias] <= upper_bound)\n",
    "        filtered_events[alias][str(pTrange[i+1])] = randomDataSample(sig_data[alias][mask],nEvents,random_state)\n",
    "\n",
    "del sig_data\n",
    "del bkg_data"
   ]
  },
  {
   "cell_type": "code",
   "execution_count": 9,
   "id": "d6e6d685-9e28-44db-a5ac-266069f6134e",
   "metadata": {
    "tags": []
   },
   "outputs": [
    {
     "name": "stderr",
     "output_type": "stream",
     "text": [
      "100%|██████████| 1000000/1000000 [02:50<00:00, 5872.12it/s]\n"
     ]
    },
    {
     "name": "stdout",
     "output_type": "stream",
     "text": [
      "0.6303405149081824 0.01936360204743351\n",
      "10.2 6.794115100585212\n",
      "2.6 1.9595917942265426\n"
     ]
    },
    {
     "name": "stderr",
     "output_type": "stream",
     "text": [
      "100%|██████████| 1000000/1000000 [02:51<00:00, 5837.64it/s]\n"
     ]
    },
    {
     "name": "stdout",
     "output_type": "stream",
     "text": [
      "0.5444127984285997 0.06622861144491755\n",
      "0.7 0.2449489742783178\n",
      "22.6 38.856659660861226\n"
     ]
    },
    {
     "name": "stderr",
     "output_type": "stream",
     "text": [
      "100%|██████████| 1000000/1000000 [02:52<00:00, 5805.41it/s]\n"
     ]
    },
    {
     "name": "stdout",
     "output_type": "stream",
     "text": [
      "0.6157855276197932 0.015616934656263569\n",
      "7.0 2.449489742783178\n",
      "4.2 1.6000000000000003\n"
     ]
    },
    {
     "name": "stderr",
     "output_type": "stream",
     "text": [
      "100%|██████████| 1000000/1000000 [02:51<00:00, 5821.43it/s]\n"
     ]
    },
    {
     "name": "stdout",
     "output_type": "stream",
     "text": [
      "0.7750932857568176 0.024140940819309398\n",
      "17.0 4.0\n",
      "1.0 0.0\n"
     ]
    },
    {
     "name": "stderr",
     "output_type": "stream",
     "text": [
      "100%|██████████| 1000000/1000000 [02:52<00:00, 5796.31it/s]\n"
     ]
    },
    {
     "name": "stdout",
     "output_type": "stream",
     "text": [
      "0.6964910086152898 0.012843045984173497\n",
      "1.6009999999999998 1.742642820545851\n",
      "2.6 1.9595917942265426\n"
     ]
    },
    {
     "name": "stderr",
     "output_type": "stream",
     "text": [
      "100%|██████████| 1000000/1000000 [02:52<00:00, 5781.88it/s]\n"
     ]
    },
    {
     "name": "stdout",
     "output_type": "stream",
     "text": [
      "0.6153292029603513 0.06408431310884657\n",
      "0.8001999999999999 0.3996\n",
      "20.8 39.6\n"
     ]
    },
    {
     "name": "stderr",
     "output_type": "stream",
     "text": [
      "100%|██████████| 1000000/1000000 [02:52<00:00, 5806.92it/s]\n"
     ]
    },
    {
     "name": "stdout",
     "output_type": "stream",
     "text": [
      "0.5944919096722272 0.05212170640404553\n",
      "1.8 1.6000000000000003\n",
      "2.6002 3.720075289560683\n"
     ]
    },
    {
     "name": "stderr",
     "output_type": "stream",
     "text": [
      "100%|██████████| 1000000/1000000 [02:52<00:00, 5794.86it/s]\n"
     ]
    },
    {
     "name": "stdout",
     "output_type": "stream",
     "text": [
      "0.7115222133710833 0.040458109444738155\n",
      "1.0 0.0\n",
      "1.0 0.0\n"
     ]
    },
    {
     "name": "stderr",
     "output_type": "stream",
     "text": [
      "100%|██████████| 1000000/1000000 [02:52<00:00, 5784.16it/s]\n"
     ]
    },
    {
     "name": "stdout",
     "output_type": "stream",
     "text": [
      "0.6302056114519298 0.045675514833859586\n",
      "0.8099999999999999 0.38\n",
      "1.8 1.6000000000000003\n"
     ]
    },
    {
     "name": "stderr",
     "output_type": "stream",
     "text": [
      "100%|██████████| 1000000/1000000 [02:52<00:00, 5806.47it/s]\n"
     ]
    },
    {
     "name": "stdout",
     "output_type": "stream",
     "text": [
      "0.5397642824836262 0.02868639060740983\n",
      "1.231 1.920193740225189\n",
      "13.2 18.465102220134064\n"
     ]
    },
    {
     "name": "stderr",
     "output_type": "stream",
     "text": [
      "100%|██████████| 1000000/1000000 [02:51<00:00, 5818.82it/s]\n"
     ]
    },
    {
     "name": "stdout",
     "output_type": "stream",
     "text": [
      "0.5413249915593005 0.029942327641509028\n",
      "1.3004000000000002 1.8865206704406925\n",
      "41.4 47.86898787315228\n"
     ]
    },
    {
     "name": "stderr",
     "output_type": "stream",
     "text": [
      "100%|██████████| 1000000/1000000 [02:52<00:00, 5811.37it/s]\n"
     ]
    },
    {
     "name": "stdout",
     "output_type": "stream",
     "text": [
      "0.6651737604279623 0.046440870268945555\n",
      "1.8 1.6000000000000003\n",
      "1.0 0.0\n"
     ]
    },
    {
     "name": "stderr",
     "output_type": "stream",
     "text": [
      "100%|██████████| 1000000/1000000 [02:53<00:00, 5765.62it/s]\n"
     ]
    },
    {
     "name": "stdout",
     "output_type": "stream",
     "text": [
      "0.5982509435618326 0.019377380550728705\n",
      "1.0 0.0\n",
      "3.6 3.5552777669262356\n"
     ]
    },
    {
     "name": "stderr",
     "output_type": "stream",
     "text": [
      "100%|██████████| 1000000/1000000 [02:53<00:00, 5765.27it/s]\n"
     ]
    },
    {
     "name": "stdout",
     "output_type": "stream",
     "text": [
      "0.5372287329997312 0.0341793542763526\n",
      "0.61 0.35832945734337834\n",
      "22.6 38.85665966086123\n"
     ]
    },
    {
     "name": "stderr",
     "output_type": "stream",
     "text": [
      "100%|██████████| 1000000/1000000 [02:53<00:00, 5779.62it/s]\n"
     ]
    },
    {
     "name": "stdout",
     "output_type": "stream",
     "text": [
      "0.6115124436548282 0.055130815707967636\n",
      "0.6 0.2\n",
      "2.8 3.6000000000000005\n"
     ]
    },
    {
     "name": "stderr",
     "output_type": "stream",
     "text": [
      "100%|██████████| 1000000/1000000 [02:54<00:00, 5744.84it/s]\n"
     ]
    },
    {
     "name": "stdout",
     "output_type": "stream",
     "text": [
      "0.636469730343084 0.03313239884638092\n",
      "0.62 0.34292856398964494\n",
      "12.6 19.022092419079453\n"
     ]
    },
    {
     "name": "stderr",
     "output_type": "stream",
     "text": [
      "100%|██████████| 1000000/1000000 [02:54<00:00, 5740.09it/s]\n"
     ]
    },
    {
     "name": "stdout",
     "output_type": "stream",
     "text": [
      "0.5822591712503499 0.03318717737023812\n",
      "2.3 2.2045407685048604\n",
      "1.0 0.0\n"
     ]
    },
    {
     "name": "stderr",
     "output_type": "stream",
     "text": [
      "100%|██████████| 1000000/1000000 [02:53<00:00, 5754.69it/s]\n"
     ]
    },
    {
     "name": "stdout",
     "output_type": "stream",
     "text": [
      "0.5901046969701162 0.033122303664527716\n",
      "0.52 0.28565713714171403\n",
      "2.8 3.6\n"
     ]
    },
    {
     "name": "stderr",
     "output_type": "stream",
     "text": [
      "100%|██████████| 1000000/1000000 [02:54<00:00, 5739.24it/s]\n"
     ]
    },
    {
     "name": "stdout",
     "output_type": "stream",
     "text": [
      "0.6700494587175196 0.03193073439978575\n",
      "0.502 0.3130750708695919\n",
      "1.8 1.6\n"
     ]
    },
    {
     "name": "stderr",
     "output_type": "stream",
     "text": [
      "100%|██████████| 1000000/1000000 [02:54<00:00, 5746.52it/s]\n"
     ]
    },
    {
     "name": "stdout",
     "output_type": "stream",
     "text": [
      "0.6106804868201502 0.03914501436455363\n",
      "0.64 0.440908153700972\n",
      "1.8 1.6\n"
     ]
    },
    {
     "name": "stderr",
     "output_type": "stream",
     "text": [
      "100%|██████████| 1000000/1000000 [02:54<00:00, 5730.99it/s]\n"
     ]
    },
    {
     "name": "stdout",
     "output_type": "stream",
     "text": [
      "0.7152123109207675 0.04007276061305116\n",
      "0.7001999999999999 0.3996500469160488\n",
      "10.8 19.6\n"
     ]
    },
    {
     "name": "stderr",
     "output_type": "stream",
     "text": [
      "100%|██████████| 1000000/1000000 [02:54<00:00, 5724.64it/s]\n"
     ]
    },
    {
     "name": "stdout",
     "output_type": "stream",
     "text": [
      "0.5323381725416881 0.03160765183078647\n",
      "1.3102 1.8798606756884937\n",
      "21.6 39.23060030129542\n"
     ]
    },
    {
     "name": "stderr",
     "output_type": "stream",
     "text": [
      "100%|██████████| 1000000/1000000 [02:54<00:00, 5735.31it/s]\n"
     ]
    },
    {
     "name": "stdout",
     "output_type": "stream",
     "text": [
      "0.6125320918765759 0.01999592837451562\n",
      "0.82 0.36\n",
      "1.8 1.6000000000000003\n"
     ]
    },
    {
     "name": "stderr",
     "output_type": "stream",
     "text": [
      "100%|██████████| 1000000/1000000 [02:56<00:00, 5673.17it/s]\n"
     ]
    },
    {
     "name": "stdout",
     "output_type": "stream",
     "text": [
      "0.5534120659596762 0.03589229688079254\n",
      "0.5022 0.4447643870635328\n",
      "23.4 38.44268460968874\n"
     ]
    }
   ],
   "source": [
    "gamma_list = [0.001, 0.005, 0.01, 0.05, 0.1, 0.5, 1, 5, 10, 15, 20]\n",
    "C_list = [0.001, 0.005, 0.01, 0.05, 1, 5, 10, 50, 100]\n",
    "\n",
    "# This result in done using SVC() with probability = false and using predict instead of predict_proba\n",
    "for i in range(0, len(pTrange)-1):\n",
    "    np.random.seed(i)\n",
    "    permutation = np.random.permutation(nEvents*2)\n",
    "    for alias in sigAliasList:\n",
    "        event_list = np.concatenate((filtered_events['bkg'][str(pTrange[i+1])],filtered_events[alias][str(pTrange[i+1])]))\n",
    "        event_labels = np.asarray([0] * nEvents + [1] * nEvents)\n",
    "        event_list = event_list[permutation]\n",
    "        event_labels = event_labels[permutation]\n",
    "        \n",
    "        distance_matrix = calcOTDistance(event_list, event_list, OTSCHEME, '2D', Matrix = True)\n",
    "        \n",
    "        auc_list, best_gamma_list, best_C_list = SVM_cross_validation(distance_matrix, event_labels, gamma_list, C_list)\n",
    "        print(np.mean(auc_list), np.std(auc_list))\n",
    "        print(np.mean(best_gamma_list), np.std(best_gamma_list))\n",
    "        print(np.mean(best_C_list), np.std(best_C_list))"
   ]
  },
  {
   "cell_type": "code",
   "execution_count": null,
   "id": "49ed109e-76e0-4603-a107-7ace7c1284d6",
   "metadata": {},
   "outputs": [],
   "source": []
  }
 ],
 "metadata": {
  "kernelspec": {
   "display_name": "Python 3",
   "language": "python",
   "name": "python3"
  },
  "language_info": {
   "codemirror_mode": {
    "name": "ipython",
    "version": 3
   },
   "file_extension": ".py",
   "mimetype": "text/x-python",
   "name": "python",
   "nbconvert_exporter": "python",
   "pygments_lexer": "ipython3",
   "version": "3.9.18"
  }
 },
 "nbformat": 4,
 "nbformat_minor": 5
}
