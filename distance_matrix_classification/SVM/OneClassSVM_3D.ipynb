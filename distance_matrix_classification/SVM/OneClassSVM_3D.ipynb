{
 "cells": [
  {
   "cell_type": "markdown",
   "metadata": {},
   "source": [
    "# Prep Work"
   ]
  },
  {
   "cell_type": "markdown",
   "metadata": {},
   "source": [
    "## Import libraries"
   ]
  },
  {
   "cell_type": "code",
   "execution_count": 1,
   "metadata": {},
   "outputs": [],
   "source": [
    "import numpy as np\n",
    "from numpy.random import RandomState\n",
    "import numpy.ma as ma\n",
    "\n",
    "import matplotlib.pyplot as plt\n",
    "from matplotlib.gridspec import GridSpec\n",
    "%matplotlib inline\n",
    "\n",
    "import h5py\n",
    "import ot\n",
    "from numpy.random import Generator, PCG64\n",
    "from sklearn import svm\n",
    "from sklearn.metrics import roc_auc_score"
   ]
  },
  {
   "cell_type": "code",
   "execution_count": 2,
   "metadata": {},
   "outputs": [],
   "source": [
    "sigAliasList    = ['sig_A', 'sig_h0', 'sig_hch', 'sig_LQ']\n",
    "sigFilenameList = ['Ato4l_lepFilter_13TeV_filtered.h5', 'hToTauTau_13TeV_PU20_filtered.h5', 'hChToTauNu_13TeV_PU20_filtered.h5', 'leptoquark_LOWMASS_lepFilter_13TeV_filtered.h5']"
   ]
  },
  {
   "cell_type": "code",
   "execution_count": 3,
   "metadata": {},
   "outputs": [],
   "source": [
    "#-- Set base directory and data directory path --#\n",
    "basePath   = '/Users/hanchengli/Dropbox/AnomalyDetection/OnML4Jets2021DataChallenge/'\n",
    "# basePath   = '/Users/bobli/Dropbox/AnomalyDetection/OnML4Jets2021DataChallenge/'\n",
    "dataPath   = 'Data/'\n",
    "\n",
    "bkgPath    = basePath+dataPath+'background_for_training.h5'\n",
    "sigPathList = []\n",
    "for x in sigFilenameList:\n",
    "  sigPathList.append(basePath+dataPath+x)"
   ]
  },
  {
   "cell_type": "markdown",
   "metadata": {},
   "source": [
    "## Functions"
   ]
  },
  {
   "cell_type": "code",
   "execution_count": 4,
   "metadata": {},
   "outputs": [
    {
     "name": "stdout",
     "output_type": "stream",
     "text": [
      "/Users/hanchengli/Library/CloudStorage/Dropbox/AnomalyDetection/OnML4Jets2021DataChallenge/anomaly_detection_code/functions\n"
     ]
    }
   ],
   "source": [
    "%cd ~/Dropbox/AnomalyDetection/OnML4Jets2021DataChallenge/anomaly_detection_code/functions\n",
    "%run centralFunctions.ipynb"
   ]
  },
  {
   "cell_type": "markdown",
   "metadata": {},
   "source": [
    "## Loading Data"
   ]
  },
  {
   "cell_type": "code",
   "execution_count": 5,
   "metadata": {},
   "outputs": [],
   "source": [
    "dataDict = {}\n",
    "dataDict['bkg'] = h5py.File(bkgPath, 'r')\n",
    "\n",
    "for i in range(len(sigAliasList)):\n",
    "  alias   = sigAliasList[i]\n",
    "  sigPath = sigPathList[i]\n",
    "  dataDict[alias] = h5py.File(sigPath, 'r')"
   ]
  },
  {
   "cell_type": "code",
   "execution_count": 6,
   "metadata": {},
   "outputs": [],
   "source": [
    "bkg_data = dataDict['bkg']['Particles'][:, :, 0:3]\n",
    "sig_data = {}\n",
    "\n",
    "for alias in sigAliasList:\n",
    "  sig_data[alias] = dataDict[alias]['Particles'][:, :, 0:3]"
   ]
  },
  {
   "cell_type": "markdown",
   "metadata": {},
   "source": [
    "# One Class SVM on 3D Ground Space"
   ]
  },
  {
   "cell_type": "code",
   "execution_count": 7,
   "metadata": {},
   "outputs": [],
   "source": [
    "test_size = 200\n",
    "train_size = 2000\n",
    "random_state = Generator(PCG64(1))\n",
    "np.random.seed(100)\n",
    "OTSCHEME = {}\n",
    "OTSCHEME['normPT'] = False\n",
    "OTSCHEME['balanced'] = True\n",
    "OTSCHEME['noZeroPad'] = False\n",
    "OTSCHEME['individualOT'] = False"
   ]
  },
  {
   "cell_type": "code",
   "execution_count": 8,
   "metadata": {},
   "outputs": [],
   "source": [
    "bkg_events = randomDataSample(bkg_data, train_size + test_size * 5, random_state)\n",
    "sig_events = {}\n",
    "for alias in sigAliasList:\n",
    "    sig_events[alias] = randomDataSample(sig_data[alias], test_size * 5, random_state)\n",
    "\n",
    "train_events = bkg_events[:train_size]\n",
    "test_events = []\n",
    "\n",
    "for i in range(0, 5):\n",
    "    test_events.append({})\n",
    "    test_events[i]['bkg'] = bkg_events[train_size+test_size*i:train_size+test_size*(i+1)]\n",
    "    for alias in sigAliasList:\n",
    "        test_events[i][alias] = sig_events[alias][test_size*i:test_size*(i+1)]\n",
    "    \n",
    "del bkg_data, sig_data\n"
   ]
  },
  {
   "cell_type": "code",
   "execution_count": 9,
   "metadata": {},
   "outputs": [
    {
     "name": "stderr",
     "output_type": "stream",
     "text": [
      "100%|██████████| 4000000/4000000 [06:52<00:00, 9693.62it/s] \n"
     ]
    }
   ],
   "source": [
    "train_matrix = calcOTDistance(train_events, train_events, OTSCHEME, '3D', Matrix=True)"
   ]
  },
  {
   "cell_type": "code",
   "execution_count": 10,
   "metadata": {},
   "outputs": [
    {
     "name": "stderr",
     "output_type": "stream",
     "text": [
      "100%|██████████| 2000000/2000000 [05:41<00:00, 5850.30it/s]\n",
      "100%|██████████| 2000000/2000000 [05:53<00:00, 5655.63it/s]\n",
      "100%|██████████| 2000000/2000000 [05:18<00:00, 6281.49it/s]\n",
      "100%|██████████| 2000000/2000000 [05:19<00:00, 6256.73it/s]\n",
      "100%|██████████| 2000000/2000000 [05:18<00:00, 6272.73it/s]\n"
     ]
    },
    {
     "name": "stdout",
     "output_type": "stream",
     "text": [
      "{'sig_A': array([0.730625, 0.75125 , 0.7225  , 0.721875, 0.733125]), 'sig_h0': array([0.730625, 0.75125 , 0.7225  , 0.721875, 0.733125]), 'sig_hch': array([0.730625, 0.75125 , 0.7225  , 0.721875, 0.733125]), 'sig_LQ': array([0.730625, 0.75125 , 0.7225  , 0.721875, 0.733125])}\n",
      "{'sig_A': array([0.0775, 0.1   , 0.1   , 0.0505, 0.1   ]), 'sig_h0': array([0.0775, 0.1   , 0.1   , 0.0505, 0.1   ]), 'sig_hch': array([0.0775, 0.1   , 0.1   , 0.0505, 0.1   ]), 'sig_LQ': array([0.0775, 0.1   , 0.1   , 0.0505, 0.1   ])}\n",
      "{'sig_A': array([0.1175, 0.1875, 0.225 , 0.2125, 0.275 ]), 'sig_h0': array([0.1175, 0.1875, 0.225 , 0.2125, 0.275 ]), 'sig_hch': array([0.1175, 0.1875, 0.225 , 0.2125, 0.275 ]), 'sig_LQ': array([0.1175, 0.1875, 0.225 , 0.2125, 0.275 ])}\n"
     ]
    }
   ],
   "source": [
    "test_labels = np.asarray([1] * test_size + [-1] * test_size * 4)\n",
    "nu_list = [0.001, 0.01, 0.1, 0.15, 0.20, 0.25, 0.3]\n",
    "gamma_list = [0.00001, 0.0001, 0.001, 0.01, 0.1, 1, 10]\n",
    "\n",
    "best_aucs = {}\n",
    "best_gammas = {}\n",
    "best_nus = {}\n",
    "\n",
    "aucs = np.zeros((5,4,len(nu_list), len(gamma_list)))\n",
    "best_aucs = np.zeros((5,4))\n",
    "best_gammas = np.zeros((5,4))\n",
    "best_nus = np.zeros((5,4))\n",
    "\n",
    "for j in range(0, 5):\n",
    "    test_set = []\n",
    "    test_set.extend(test_events[j]['bkg'])\n",
    "    for alias in sigAliasList:\n",
    "        test_set.extend(test_events[j][alias])\n",
    "    test_set = np.asarray(test_set)\n",
    "    # print(test_set.shape)\n",
    "    test_matrix = calcOTDistance_non_square(test_set, train_events, OTSCHEME, '3D', Matrix=True)\n",
    "    for i in range(0, len(sigAliasList)):\n",
    "        for k, nu in enumerate(nu_list):\n",
    "            for l, gamma in enumerate(gamma_list):\n",
    "                train_matrix_gamma = np.exp(-gamma*train_matrix)\n",
    "                test_matrix_gamma = np.exp(-gamma*np.concatenate((test_matrix[0:test_size, :], test_matrix[test_size * (i+1):test_size * (i+2), :])))\n",
    "                model = svm.OneClassSVM(nu = nu, kernel='precomputed')\n",
    "                model.fit(train_matrix_gamma)\n",
    "                train_pred = model.predict(train_matrix_gamma)\n",
    "                # auc = roc_auc_score(np.asarray([-1] * train_pred.shape[0]), train_pred)\n",
    "                # print(auc)\n",
    "                # print(np.sum(train_pred == 1))\n",
    "                pred = model.predict(test_matrix_gamma)\n",
    "                # print(np.sum(pred == test_labels))\n",
    "                auc = roc_auc_score(np.concatenate((test_labels[0:test_size], test_labels[test_size * (i+1):test_size * (i+2)])), pred)\n",
    "                aucs[j][i][k][l] = auc;\n",
    "        best_aucs[j][i] = np.amax(aucs[j][i], axis=None)\n",
    "        best_gamma_index = np.unravel_index(np.argmax(aucs[j][i]), aucs[j][i].shape)[1]\n",
    "        best_gammas[j][i] = gamma_list[best_gamma_index]\n",
    "        best_nu_index = np.unravel_index(np.argmax(aucs[j][i]), aucs[j][i].shape)[0]\n",
    "        best_nus[j][i] = nu_list[best_nu_index]"
   ]
  },
  {
   "cell_type": "code",
   "execution_count": 18,
   "metadata": {},
   "outputs": [
    {
     "name": "stdout",
     "output_type": "stream",
     "text": [
      "{'sig_A': 0.7270000000000001, 'sig_h0': 0.6595, 'sig_hch': 0.8130000000000001, 'sig_LQ': 0.7280000000000001}\n",
      "{'sig_A': 0.17200000000000001, 'sig_h0': 0.182, 'sig_hch': 0.2, 'sig_LQ': 0.26}\n",
      "{'sig_A': 0.1, 'sig_h0': 0.08020000000000001, 'sig_hch': 0.06220000000000001, 'sig_LQ': 0.1}\n",
      "{'sig_A': 0.0128840987267251, 'sig_h0': 0.015604486534327191, 'sig_hch': 0.01668831926827863, 'sig_LQ': 0.01399999999999999}\n",
      "{'sig_A': 0.09453041838477179, 'sig_h0': 0.09947864092356709, 'sig_hch': 0.0316227766016838, 'sig_LQ': 0.0374165738677394}\n",
      "{'sig_A': 0.0, 'sig_h0': 0.0396, 'sig_hch': 0.04638275541621045, 'sig_LQ': 0.0}\n"
     ]
    }
   ],
   "source": [
    "mean_aucs = {}\n",
    "std_aucs = {}\n",
    "mean_nus = {}\n",
    "std_nus = {}\n",
    "mean_gammas = {}\n",
    "std_gammas = {}\n",
    "\n",
    "for i, alias in enumerate(sigAliasList):\n",
    "    mean_aucs[alias] = np.mean(best_aucs, axis=0)[i]\n",
    "    std_aucs[alias] = np.std(best_aucs, axis=0)[i]\n",
    "    mean_nus[alias] = np.mean(best_nus, axis=0)[i]\n",
    "    std_nus[alias] = np.std(best_nus, axis=0)[i]\n",
    "    mean_gammas[alias] = np.mean(best_gammas, axis=0)[i]\n",
    "    std_gammas[alias] = np.std(best_gammas, axis=0)[i]\n",
    "\n",
    "print(mean_aucs)\n",
    "print(mean_nus)\n",
    "print(mean_gammas)\n",
    "\n",
    "print(std_aucs)\n",
    "print(std_nus)\n",
    "print(std_gammas)"
   ]
  },
  {
   "cell_type": "code",
   "execution_count": 16,
   "metadata": {},
   "outputs": [
    {
     "name": "stdout",
     "output_type": "stream",
     "text": [
      "[[0.7125 0.66   0.8225 0.7275]\n",
      " [0.74   0.6725 0.8375 0.755 ]\n",
      " [0.7275 0.63   0.815  0.7175]\n",
      " [0.7125 0.6625 0.79   0.7225]\n",
      " [0.7425 0.6725 0.8    0.7175]]\n",
      "[0.727  0.6595 0.813  0.728 ]\n"
     ]
    }
   ],
   "source": [
    "print(best_aucs)\n",
    "print(np.mean(best_aucs, axis=0))"
   ]
  },
  {
   "cell_type": "code",
   "execution_count": null,
   "metadata": {},
   "outputs": [],
   "source": [
    "# train_matrix_gamma = train_matrix\n",
    "# test_matrix_gamma = np.concatenate((test_matrix[0:test_size, :], test_matrix[test_size * (i+1):test_size * (i+2), :]))\n",
    "# model = svm.OneClassSVM(nu = 0.1, kernel='precomputed')\n",
    "# model.fit(train_matrix_gamma)\n",
    "# train_pred = model.predict(train_matrix_gamma)\n",
    "# # auc = roc_auc_score(np.asarray([-1] * train_pred.shape[0]), train_pred)\n",
    "# # print(auc)\n",
    "# # print(np.sum(train_pred == 1))\n",
    "# pred = model.predict(test_matrix_gamma)\n",
    "# # print(np.sum(pred == test_labels))\n",
    "# auc = roc_auc_score(np.concatenate((test_labels[0:test_size], test_labels[test_size * (i+1):test_size * (i+2)])), pred)\n",
    "# print(auc)\n",
    "# aucs.append(auc)"
   ]
  }
 ],
 "metadata": {
  "kernelspec": {
   "display_name": "base",
   "language": "python",
   "name": "python3"
  },
  "language_info": {
   "codemirror_mode": {
    "name": "ipython",
    "version": 3
   },
   "file_extension": ".py",
   "mimetype": "text/x-python",
   "name": "python",
   "nbconvert_exporter": "python",
   "pygments_lexer": "ipython3",
   "version": "3.9.18"
  }
 },
 "nbformat": 4,
 "nbformat_minor": 2
}
