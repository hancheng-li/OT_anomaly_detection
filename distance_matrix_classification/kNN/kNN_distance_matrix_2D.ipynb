{
 "cells": [
  {
   "cell_type": "markdown",
   "metadata": {
    "id": "FzUcC4Xt9j_R"
   },
   "source": [
    "# Google Drive Preliminaries"
   ]
  },
  {
   "cell_type": "markdown",
   "metadata": {
    "id": "HzPInTTSYm2D"
   },
   "source": [
    "# Import libraries"
   ]
  },
  {
   "cell_type": "code",
   "execution_count": 1,
   "metadata": {
    "colab": {
     "base_uri": "https://localhost:8080/"
    },
    "executionInfo": {
     "elapsed": 18284,
     "status": "ok",
     "timestamp": 1696576022368,
     "user": {
      "displayName": "Hancheng Li",
      "userId": "16561302137020690535"
     },
     "user_tz": 420
    },
    "id": "Sm0J6usIYrxN",
    "outputId": "0e5a3e83-ef94-4dc6-fe27-3ade8172fcd9"
   },
   "outputs": [],
   "source": [
    "import numpy as np\n",
    "from numpy.random import RandomState\n",
    "import numpy.ma as ma\n",
    "\n",
    "import matplotlib.pyplot as plt\n",
    "from matplotlib.gridspec import GridSpec\n",
    "%matplotlib inline\n",
    "\n",
    "import h5py\n",
    "import ot\n",
    "from numpy.random import Generator, PCG64\n",
    "from sklearn import metrics\n",
    "import itertools\n",
    "\n",
    "from sklearn.svm import SVC\n",
    "from sklearn.model_selection import train_test_split\n",
    "from sklearn.metrics import roc_curve, roc_auc_score\n",
    "from sklearn.svm import LinearSVC\n",
    "from sklearn.calibration import CalibratedClassifierCV\n",
    "from sklearn.neighbors import KNeighborsClassifier\n",
    "from tqdm import tqdm"
   ]
  },
  {
   "cell_type": "code",
   "execution_count": 2,
   "metadata": {
    "executionInfo": {
     "elapsed": 7,
     "status": "ok",
     "timestamp": 1696576238891,
     "user": {
      "displayName": "Hancheng Li",
      "userId": "16561302137020690535"
     },
     "user_tz": 420
    },
    "id": "RFyfcq8A-sPF"
   },
   "outputs": [],
   "source": [
    "sigAliasList    = ['sig_A', 'sig_h0', 'sig_hch', 'sig_LQ']\n",
    "sigFilenameList = ['Ato4l_lepFilter_13TeV_filtered.h5', 'hToTauTau_13TeV_PU20_filtered.h5', 'hChToTauNu_13TeV_PU20_filtered.h5', 'leptoquark_LOWMASS_lepFilter_13TeV_filtered.h5']"
   ]
  },
  {
   "cell_type": "code",
   "execution_count": 3,
   "metadata": {
    "executionInfo": {
     "elapsed": 5,
     "status": "ok",
     "timestamp": 1696576238891,
     "user": {
      "displayName": "Hancheng Li",
      "userId": "16561302137020690535"
     },
     "user_tz": 420
    },
    "id": "GHoYrlq5-fFO"
   },
   "outputs": [],
   "source": [
    "#-- Set base directory and data directory path --#\n",
    "basePath   = '/Users/hanchengli/Dropbox/AnomalyDetection/OnML4Jets2021DataChallenge/'\n",
    "dataPath   = 'Data/'\n",
    "\n",
    "bkgPath    = basePath+dataPath+'background_for_training.h5'\n",
    "sigPathList = []\n",
    "for x in sigFilenameList:\n",
    "  sigPathList.append(basePath+dataPath+x)"
   ]
  },
  {
   "cell_type": "markdown",
   "metadata": {
    "id": "-eXKRtFSi-HW"
   },
   "source": [
    "# Functions"
   ]
  },
  {
   "cell_type": "code",
   "execution_count": 4,
   "metadata": {
    "colab": {
     "base_uri": "https://localhost:8080/"
    },
    "executionInfo": {
     "elapsed": 12165,
     "status": "ok",
     "timestamp": 1696576251051,
     "user": {
      "displayName": "Hancheng Li",
      "userId": "16561302137020690535"
     },
     "user_tz": 420
    },
    "id": "VB6jsmDyQKDm",
    "outputId": "7bdbd947-1ce9-4f80-eb67-a43f11f55b07"
   },
   "outputs": [
    {
     "name": "stdout",
     "output_type": "stream",
     "text": [
      "/Users/hanchengli/Library/CloudStorage/Dropbox/AnomalyDetection/OnML4Jets2021DataChallenge/anomaly_detection_code/functions\n"
     ]
    }
   ],
   "source": [
    "%cd ~/Dropbox/AnomalyDetection/OnML4Jets2021DataChallenge/anomaly_detection_code/functions\n",
    "%run centralFunctions.ipynb"
   ]
  },
  {
   "cell_type": "markdown",
   "metadata": {
    "id": "RYNI1N6rPCKE"
   },
   "source": [
    "# Loading Data"
   ]
  },
  {
   "cell_type": "code",
   "execution_count": 5,
   "metadata": {
    "executionInfo": {
     "elapsed": 3231,
     "status": "ok",
     "timestamp": 1696576254920,
     "user": {
      "displayName": "Hancheng Li",
      "userId": "16561302137020690535"
     },
     "user_tz": 420
    },
    "id": "Aa4Q0Zho-QtR"
   },
   "outputs": [],
   "source": [
    "dataDict = {}\n",
    "dataDict['bkg'] = h5py.File(bkgPath, 'r')\n",
    "\n",
    "for i in range(len(sigAliasList)):\n",
    "  alias   = sigAliasList[i]\n",
    "  sigPath = sigPathList[i]\n",
    "  dataDict[alias] = h5py.File(sigPath, 'r')"
   ]
  },
  {
   "cell_type": "code",
   "execution_count": 6,
   "metadata": {
    "executionInfo": {
     "elapsed": 50735,
     "status": "ok",
     "timestamp": 1696576305651,
     "user": {
      "displayName": "Hancheng Li",
      "userId": "16561302137020690535"
     },
     "user_tz": 420
    },
    "id": "a95ujWJO_Anp"
   },
   "outputs": [],
   "source": [
    "bkg_data = dataDict['bkg']['Particles'][:, :, 0:3]\n",
    "sig_data = {}\n",
    "\n",
    "for alias in sigAliasList:\n",
    "  sig_data[alias] = dataDict[alias]['Particles'][:, :, 0:3]"
   ]
  },
  {
   "cell_type": "markdown",
   "metadata": {
    "id": "JKOrpQGf_GsT"
   },
   "source": [
    "# kNN using distance matrix with 3d ground space"
   ]
  },
  {
   "cell_type": "code",
   "execution_count": 7,
   "metadata": {},
   "outputs": [],
   "source": [
    "nEvents = 1000\n",
    "random_state = Generator(PCG64(1))\n",
    "OTSCHEME = {}\n",
    "OTSCHEME['normPT'] = True\n",
    "OTSCHEME['balanced'] = True\n",
    "OTSCHEME['noZeroPad'] = False\n",
    "OTSCHEME['individualOT'] = False"
   ]
  },
  {
   "cell_type": "code",
   "execution_count": 8,
   "metadata": {
    "tags": []
   },
   "outputs": [
    {
     "name": "stderr",
     "output_type": "stream",
     "text": [
      "100%|██████████| 4000000/4000000 [11:46<00:00, 5665.48it/s] \n",
      "Fitting Models: 100%|██████████| 40/40 [00:00<00:00, 54.48it/s]\n",
      "Fitting Models: 100%|██████████| 40/40 [00:00<00:00, 60.28it/s]\n",
      "Fitting Models: 100%|██████████| 40/40 [00:00<00:00, 58.79it/s]\n",
      "Fitting Models: 100%|██████████| 40/40 [00:00<00:00, 57.32it/s]\n",
      "Fitting Models: 100%|██████████| 40/40 [00:01<00:00, 31.08it/s]\n"
     ]
    },
    {
     "name": "stdout",
     "output_type": "stream",
     "text": [
      "0.6947582733388014 0.017948357453657943 37.0 23.15167380558045\n"
     ]
    },
    {
     "name": "stderr",
     "output_type": "stream",
     "text": [
      "100%|██████████| 4000000/4000000 [13:38<00:00, 4885.06it/s] \n",
      "Fitting Models: 100%|██████████| 40/40 [00:00<00:00, 56.30it/s]\n",
      "Fitting Models: 100%|██████████| 40/40 [00:00<00:00, 59.43it/s]\n",
      "Fitting Models: 100%|██████████| 40/40 [00:00<00:00, 62.00it/s]\n",
      "Fitting Models: 100%|██████████| 40/40 [00:00<00:00, 62.79it/s]\n",
      "Fitting Models: 100%|██████████| 40/40 [00:01<00:00, 22.86it/s]\n"
     ]
    },
    {
     "name": "stdout",
     "output_type": "stream",
     "text": [
      "0.669764010403308 0.011783244458465292 145.0 86.48699324175861\n"
     ]
    },
    {
     "name": "stderr",
     "output_type": "stream",
     "text": [
      "100%|██████████| 4000000/4000000 [11:29<00:00, 5805.00it/s] \n",
      "Fitting Models: 100%|██████████| 40/40 [00:00<00:00, 56.25it/s]\n",
      "Fitting Models: 100%|██████████| 40/40 [00:00<00:00, 58.79it/s]\n",
      "Fitting Models: 100%|██████████| 40/40 [00:00<00:00, 59.74it/s]\n",
      "Fitting Models: 100%|██████████| 40/40 [00:00<00:00, 58.81it/s]\n",
      "Fitting Models: 100%|██████████| 40/40 [00:01<00:00, 23.93it/s]\n"
     ]
    },
    {
     "name": "stdout",
     "output_type": "stream",
     "text": [
      "0.8103431594284152 0.016734256523563844 161.0 85.46344247688599\n"
     ]
    },
    {
     "name": "stderr",
     "output_type": "stream",
     "text": [
      "100%|██████████| 4000000/4000000 [11:28<00:00, 5807.29it/s] \n",
      "Fitting Models: 100%|██████████| 40/40 [00:00<00:00, 55.24it/s]\n",
      "Fitting Models: 100%|██████████| 40/40 [00:00<00:00, 57.94it/s]\n",
      "Fitting Models: 100%|██████████| 40/40 [00:00<00:00, 58.12it/s]\n",
      "Fitting Models: 100%|██████████| 40/40 [00:00<00:00, 61.75it/s]\n",
      "Fitting Models: 100%|██████████| 40/40 [00:01<00:00, 23.26it/s]\n"
     ]
    },
    {
     "name": "stdout",
     "output_type": "stream",
     "text": [
      "0.7905600332483893 0.025314221471884484 163.0 24.819347291981714\n"
     ]
    }
   ],
   "source": [
    "events = {}\n",
    "\n",
    "events['bkg'] = randomDataSample(bkg_data, nEvents, random_state)\n",
    "\n",
    "neighbor_list = list(range(5, 400,10))\n",
    "avg_aucs = []\n",
    "std_aucs = []\n",
    "avg_ks = []\n",
    "std_ks = []\n",
    "\n",
    "i = 0\n",
    "\n",
    "for alias in sigAliasList:\n",
    "    events[alias] = randomDataSample(sig_data[alias], nEvents, random_state)\n",
    "\n",
    "del sig_data, bkg_data\n",
    "\n",
    "for alias in sigAliasList:\n",
    "    np.random.seed(i)\n",
    "    permutation = np.random.permutation(nEvents * 2)\n",
    "    \n",
    "    event_list = np.concatenate((events['bkg'], events[alias]))\n",
    "    event_labels = np.asarray([0] * nEvents + [1] * nEvents)\n",
    "    event_list = event_list[permutation]\n",
    "    event_labels = event_labels[permutation]\n",
    "    \n",
    "    distance_matrix = calcOTDistance(event_list, event_list, OTSCHEME, '2D', Matrix = True)\n",
    "    \n",
    "    avg_auc, std_auc, avg_k, std_k = kNN_cross_validation(distance_matrix, event_labels, neighbor_list, k_fold=5)\n",
    "    print(avg_auc, std_auc, avg_k, std_k)\n",
    "    avg_aucs.append(avg_auc)\n",
    "    std_aucs.append(std_auc)\n",
    "    avg_ks.append(avg_k)\n",
    "    std_ks.append(std_k)\n",
    "    i += 1"
   ]
  },
  {
   "cell_type": "code",
   "execution_count": null,
   "metadata": {},
   "outputs": [],
   "source": []
  }
 ],
 "metadata": {
  "colab": {
   "authorship_tag": "ABX9TyNKHfi00USAyeBByIH798Mq",
   "provenance": []
  },
  "kernelspec": {
   "display_name": "Python 3 (ipykernel)",
   "language": "python",
   "name": "python3"
  },
  "language_info": {
   "codemirror_mode": {
    "name": "ipython",
    "version": 3
   },
   "file_extension": ".py",
   "mimetype": "text/x-python",
   "name": "python",
   "nbconvert_exporter": "python",
   "pygments_lexer": "ipython3",
   "version": "3.9.18"
  }
 },
 "nbformat": 4,
 "nbformat_minor": 4
}
