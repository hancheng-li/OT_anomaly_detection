{
 "cells": [
  {
   "cell_type": "markdown",
   "metadata": {
    "id": "HzPInTTSYm2D",
    "tags": []
   },
   "source": [
    "# Import libraries"
   ]
  },
  {
   "cell_type": "code",
   "execution_count": 1,
   "metadata": {
    "colab": {
     "base_uri": "https://localhost:8080/"
    },
    "executionInfo": {
     "elapsed": 15521,
     "status": "ok",
     "timestamp": 1697237483540,
     "user": {
      "displayName": "Hancheng Li",
      "userId": "16561302137020690535"
     },
     "user_tz": 420
    },
    "id": "Sm0J6usIYrxN",
    "outputId": "2e7cf2ec-503e-4497-fddb-c6ecfc53c65f",
    "tags": []
   },
   "outputs": [],
   "source": [
    "import numpy as np\n",
    "from numpy.random import RandomState\n",
    "import numpy.ma as ma\n",
    "\n",
    "import matplotlib.pyplot as plt\n",
    "from matplotlib.gridspec import GridSpec\n",
    "%matplotlib inline\n",
    "\n",
    "import h5py\n",
    "import ot\n",
    "from numpy.random import Generator, PCG64\n",
    "from sklearn import metrics\n",
    "import itertools\n",
    "\n",
    "from sklearn.svm import SVC\n",
    "from sklearn.model_selection import train_test_split\n",
    "from sklearn.metrics import roc_curve, roc_auc_score\n",
    "from sklearn.svm import LinearSVC\n",
    "from sklearn.calibration import CalibratedClassifierCV\n",
    "from sklearn.neighbors import KNeighborsClassifier\n",
    "from tqdm import tqdm"
   ]
  },
  {
   "cell_type": "code",
   "execution_count": 2,
   "metadata": {
    "executionInfo": {
     "elapsed": 3,
     "status": "ok",
     "timestamp": 1697237502373,
     "user": {
      "displayName": "Hancheng Li",
      "userId": "16561302137020690535"
     },
     "user_tz": 420
    },
    "id": "RFyfcq8A-sPF",
    "tags": []
   },
   "outputs": [],
   "source": [
    "sigAliasList    = ['sig_A', 'sig_h0', 'sig_hch', 'sig_LQ']\n",
    "sigFilenameList = ['Ato4l_lepFilter_13TeV_filtered.h5', 'hToTauTau_13TeV_PU20_filtered.h5', 'hChToTauNu_13TeV_PU20_filtered.h5', 'leptoquark_LOWMASS_lepFilter_13TeV_filtered.h5']"
   ]
  },
  {
   "cell_type": "code",
   "execution_count": 3,
   "metadata": {
    "executionInfo": {
     "elapsed": 3,
     "status": "ok",
     "timestamp": 1697237502373,
     "user": {
      "displayName": "Hancheng Li",
      "userId": "16561302137020690535"
     },
     "user_tz": 420
    },
    "id": "GHoYrlq5-fFO",
    "tags": []
   },
   "outputs": [],
   "source": [
    "#-- Set base directory and data directory path --#\n",
    "basePath   = './'\n",
    "dataPath   = 'Data/'\n",
    "\n",
    "bkgPath    = basePath+dataPath+'background_for_training.h5'\n",
    "sigPathList = []\n",
    "for x in sigFilenameList:\n",
    "  sigPathList.append(basePath+dataPath+x)"
   ]
  },
  {
   "cell_type": "markdown",
   "metadata": {
    "id": "-eXKRtFSi-HW",
    "tags": []
   },
   "source": [
    "# Functions"
   ]
  },
  {
   "cell_type": "code",
   "execution_count": 4,
   "metadata": {
    "colab": {
     "base_uri": "https://localhost:8080/"
    },
    "executionInfo": {
     "elapsed": 7941,
     "status": "ok",
     "timestamp": 1697237510313,
     "user": {
      "displayName": "Hancheng Li",
      "userId": "16561302137020690535"
     },
     "user_tz": 420
    },
    "id": "VB6jsmDyQKDm",
    "outputId": "29994d0c-626b-46e8-cb71-1765b21d6e61",
    "tags": []
   },
   "outputs": [],
   "source": [
    "%run centralFunctions.ipynb"
   ]
  },
  {
   "cell_type": "markdown",
   "metadata": {
    "id": "RYNI1N6rPCKE"
   },
   "source": [
    "# Loading Data"
   ]
  },
  {
   "cell_type": "code",
   "execution_count": 5,
   "metadata": {
    "executionInfo": {
     "elapsed": 1225,
     "status": "ok",
     "timestamp": 1697237511963,
     "user": {
      "displayName": "Hancheng Li",
      "userId": "16561302137020690535"
     },
     "user_tz": 420
    },
    "id": "Aa4Q0Zho-QtR",
    "tags": []
   },
   "outputs": [],
   "source": [
    "dataDict = {}\n",
    "dataDict['bkg'] = h5py.File(bkgPath, 'r')\n",
    "\n",
    "for i in range(len(sigAliasList)):\n",
    "  alias   = sigAliasList[i]\n",
    "  sigPath = sigPathList[i]\n",
    "  dataDict[alias] = h5py.File(sigPath, 'r')"
   ]
  },
  {
   "cell_type": "code",
   "execution_count": 6,
   "metadata": {
    "executionInfo": {
     "elapsed": 43685,
     "status": "ok",
     "timestamp": 1697237555970,
     "user": {
      "displayName": "Hancheng Li",
      "userId": "16561302137020690535"
     },
     "user_tz": 420
    },
    "id": "a95ujWJO_Anp",
    "tags": []
   },
   "outputs": [],
   "source": [
    "bkg_data = dataDict['bkg']['Particles'][:,:,0:3]\n",
    "sig_data = {}\n",
    "\n",
    "for alias in sigAliasList:\n",
    "  sig_data[alias] = dataDict[alias]['Particles'][:,:,0:3]"
   ]
  },
  {
   "cell_type": "markdown",
   "metadata": {
    "id": "BIjh0rhNDhWd"
   },
   "source": [
    "# Low $p_T$ range"
   ]
  },
  {
   "cell_type": "code",
   "execution_count": 7,
   "metadata": {
    "executionInfo": {
     "elapsed": 184,
     "status": "ok",
     "timestamp": 1697237651805,
     "user": {
      "displayName": "Hancheng Li",
      "userId": "16561302137020690535"
     },
     "user_tz": 420
    },
    "id": "dZVT5d7gDnML",
    "tags": []
   },
   "outputs": [],
   "source": [
    "nEvents = 100\n",
    "random_state = Generator(PCG64(123))\n",
    "OTSCHEME = {}\n",
    "OTSCHEME['normPT'] = True\n",
    "OTSCHEME['balanced'] = True\n",
    "OTSCHEME['noZeroPad'] = False\n",
    "OTSCHEME['individualOT'] = False"
   ]
  },
  {
   "cell_type": "code",
   "execution_count": 8,
   "metadata": {
    "tags": []
   },
   "outputs": [
    {
     "name": "stderr",
     "output_type": "stream",
     "text": [
      "100%|██████████| 4000000/4000000 [04:46<00:00, 13971.56it/s]\n",
      "Fitting Models: 100%|██████████| 40/40 [00:00<00:00, 77.27it/s]\n",
      "Fitting Models: 100%|██████████| 40/40 [00:00<00:00, 80.20it/s] \n",
      "Fitting Models: 100%|██████████| 40/40 [00:00<00:00, 79.05it/s] \n",
      "Fitting Models: 100%|██████████| 40/40 [00:00<00:00, 78.93it/s] \n",
      "Fitting Models: 100%|██████████| 40/40 [00:00<00:00, 69.70it/s]\n"
     ]
    },
    {
     "name": "stdout",
     "output_type": "stream",
     "text": [
      "0.6193241561554373 0.013909554559565948 25.0 12.649110640673518\n"
     ]
    },
    {
     "name": "stderr",
     "output_type": "stream",
     "text": [
      "100%|██████████| 4000000/4000000 [04:46<00:00, 13944.60it/s]\n",
      "Fitting Models: 100%|██████████| 40/40 [00:00<00:00, 77.13it/s]\n",
      "Fitting Models: 100%|██████████| 40/40 [00:00<00:00, 78.73it/s] \n",
      "Fitting Models: 100%|██████████| 40/40 [00:00<00:00, 79.37it/s] \n",
      "Fitting Models: 100%|██████████| 40/40 [00:00<00:00, 78.88it/s] \n",
      "Fitting Models: 100%|██████████| 40/40 [00:00<00:00, 75.99it/s]\n"
     ]
    },
    {
     "name": "stdout",
     "output_type": "stream",
     "text": [
      "0.5560362022323223 0.026013491872497616 85.0 87.40709353364863\n"
     ]
    },
    {
     "name": "stderr",
     "output_type": "stream",
     "text": [
      "100%|██████████| 4000000/4000000 [04:47<00:00, 13908.51it/s]\n",
      "Fitting Models: 100%|██████████| 40/40 [00:00<00:00, 76.43it/s]\n",
      "Fitting Models: 100%|██████████| 40/40 [00:00<00:00, 77.06it/s] \n",
      "Fitting Models: 100%|██████████| 40/40 [00:00<00:00, 76.78it/s] \n",
      "Fitting Models: 100%|██████████| 40/40 [00:00<00:00, 80.17it/s] \n",
      "Fitting Models: 100%|██████████| 40/40 [00:00<00:00, 73.63it/s] \n"
     ]
    },
    {
     "name": "stdout",
     "output_type": "stream",
     "text": [
      "0.5752272736176252 0.037555171735308014 115.0 127.59310326189265\n"
     ]
    },
    {
     "name": "stderr",
     "output_type": "stream",
     "text": [
      "100%|██████████| 4000000/4000000 [04:47<00:00, 13928.89it/s]\n",
      "Fitting Models: 100%|██████████| 40/40 [00:00<00:00, 76.09it/s] \n",
      "Fitting Models: 100%|██████████| 40/40 [00:00<00:00, 77.54it/s] \n",
      "Fitting Models: 100%|██████████| 40/40 [00:00<00:00, 78.89it/s] \n",
      "Fitting Models: 100%|██████████| 40/40 [00:00<00:00, 79.17it/s] \n",
      "Fitting Models: 100%|██████████| 40/40 [00:00<00:00, 75.09it/s]\n"
     ]
    },
    {
     "name": "stdout",
     "output_type": "stream",
     "text": [
      "0.6840947062389287 0.03150385066000139 25.0 40.0\n"
     ]
    },
    {
     "name": "stderr",
     "output_type": "stream",
     "text": [
      "100%|██████████| 4000000/4000000 [04:45<00:00, 13990.30it/s]\n",
      "Fitting Models: 100%|██████████| 40/40 [00:00<00:00, 76.64it/s] \n",
      "Fitting Models: 100%|██████████| 40/40 [00:00<00:00, 77.99it/s] \n",
      "Fitting Models: 100%|██████████| 40/40 [00:00<00:00, 78.11it/s] \n",
      "Fitting Models: 100%|██████████| 40/40 [00:00<00:00, 77.44it/s] \n",
      "Fitting Models: 100%|██████████| 40/40 [00:00<00:00, 76.89it/s]\n"
     ]
    },
    {
     "name": "stdout",
     "output_type": "stream",
     "text": [
      "0.797380753997553 0.008993921054521814 43.0 36.55133376499413\n"
     ]
    },
    {
     "name": "stderr",
     "output_type": "stream",
     "text": [
      "100%|██████████| 4000000/4000000 [04:46<00:00, 13967.24it/s]\n",
      "Fitting Models: 100%|██████████| 40/40 [00:00<00:00, 70.35it/s]\n",
      "Fitting Models: 100%|██████████| 40/40 [00:00<00:00, 73.71it/s]\n",
      "Fitting Models: 100%|██████████| 40/40 [00:00<00:00, 80.99it/s] \n",
      "Fitting Models: 100%|██████████| 40/40 [00:00<00:00, 74.57it/s]\n",
      "Fitting Models: 100%|██████████| 40/40 [00:00<00:00, 76.61it/s]\n"
     ]
    },
    {
     "name": "stdout",
     "output_type": "stream",
     "text": [
      "0.6761395554738507 0.035688653156475125 57.0 49.95998398718719\n"
     ]
    },
    {
     "name": "stderr",
     "output_type": "stream",
     "text": [
      "100%|██████████| 4000000/4000000 [04:47<00:00, 13914.39it/s]\n",
      "Fitting Models: 100%|██████████| 40/40 [00:00<00:00, 75.91it/s] \n",
      "Fitting Models: 100%|██████████| 40/40 [00:00<00:00, 76.88it/s] \n",
      "Fitting Models: 100%|██████████| 40/40 [00:00<00:00, 80.70it/s] \n",
      "Fitting Models: 100%|██████████| 40/40 [00:00<00:00, 77.59it/s] \n",
      "Fitting Models: 100%|██████████| 40/40 [00:00<00:00, 77.86it/s] \n"
     ]
    },
    {
     "name": "stdout",
     "output_type": "stream",
     "text": [
      "0.607118567366921 0.026939186162531433 75.0 45.16635916254486\n"
     ]
    },
    {
     "name": "stderr",
     "output_type": "stream",
     "text": [
      "100%|██████████| 4000000/4000000 [04:47<00:00, 13931.42it/s]\n",
      "Fitting Models: 100%|██████████| 40/40 [00:00<00:00, 69.75it/s]\n",
      "Fitting Models: 100%|██████████| 40/40 [00:00<00:00, 74.37it/s] \n",
      "Fitting Models: 100%|██████████| 40/40 [00:00<00:00, 77.41it/s] \n",
      "Fitting Models: 100%|██████████| 40/40 [00:00<00:00, 78.93it/s] \n",
      "Fitting Models: 100%|██████████| 40/40 [00:00<00:00, 78.44it/s] \n"
     ]
    },
    {
     "name": "stdout",
     "output_type": "stream",
     "text": [
      "0.7468665866068318 0.021490142570251385 65.0 30.331501776206203\n"
     ]
    },
    {
     "name": "stderr",
     "output_type": "stream",
     "text": [
      "100%|██████████| 4000000/4000000 [04:44<00:00, 14055.29it/s]\n",
      "Fitting Models: 100%|██████████| 40/40 [00:00<00:00, 77.04it/s] \n",
      "Fitting Models: 100%|██████████| 40/40 [00:00<00:00, 76.45it/s] \n",
      "Fitting Models: 100%|██████████| 40/40 [00:00<00:00, 74.01it/s] \n",
      "Fitting Models: 100%|██████████| 40/40 [00:00<00:00, 65.33it/s]\n",
      "Fitting Models: 100%|██████████| 40/40 [00:00<00:00, 74.93it/s]\n"
     ]
    },
    {
     "name": "stdout",
     "output_type": "stream",
     "text": [
      "0.7011452113981134 0.005785647854299646 15.0 8.94427190999916\n"
     ]
    },
    {
     "name": "stderr",
     "output_type": "stream",
     "text": [
      "100%|██████████| 4000000/4000000 [04:46<00:00, 13951.53it/s]\n",
      "Fitting Models: 100%|██████████| 40/40 [00:00<00:00, 77.15it/s] \n",
      "Fitting Models: 100%|██████████| 40/40 [00:00<00:00, 77.82it/s] \n",
      "Fitting Models: 100%|██████████| 40/40 [00:00<00:00, 68.22it/s]\n",
      "Fitting Models: 100%|██████████| 40/40 [00:00<00:00, 75.86it/s]\n",
      "Fitting Models: 100%|██████████| 40/40 [00:00<00:00, 76.19it/s] \n"
     ]
    },
    {
     "name": "stdout",
     "output_type": "stream",
     "text": [
      "0.5667354772174112 0.04953517731908581 89.0 98.91410415102591\n"
     ]
    },
    {
     "name": "stderr",
     "output_type": "stream",
     "text": [
      "100%|██████████| 4000000/4000000 [04:46<00:00, 13937.83it/s]\n",
      "Fitting Models: 100%|██████████| 40/40 [00:00<00:00, 75.54it/s]\n",
      "Fitting Models: 100%|██████████| 40/40 [00:00<00:00, 78.73it/s] \n",
      "Fitting Models: 100%|██████████| 40/40 [00:00<00:00, 80.73it/s] \n",
      "Fitting Models: 100%|██████████| 40/40 [00:00<00:00, 79.96it/s] \n",
      "Fitting Models: 100%|██████████| 40/40 [00:00<00:00, 74.79it/s]\n"
     ]
    },
    {
     "name": "stdout",
     "output_type": "stream",
     "text": [
      "0.6015605971417531 0.03723336061553597 31.0 18.547236990991408\n"
     ]
    },
    {
     "name": "stderr",
     "output_type": "stream",
     "text": [
      "100%|██████████| 4000000/4000000 [04:48<00:00, 13856.90it/s]\n",
      "Fitting Models: 100%|██████████| 40/40 [00:00<00:00, 72.65it/s]\n",
      "Fitting Models: 100%|██████████| 40/40 [00:00<00:00, 80.02it/s] \n",
      "Fitting Models: 100%|██████████| 40/40 [00:00<00:00, 76.92it/s] \n",
      "Fitting Models: 100%|██████████| 40/40 [00:00<00:00, 79.93it/s] \n",
      "Fitting Models: 100%|██████████| 40/40 [00:00<00:00, 74.00it/s]\n"
     ]
    },
    {
     "name": "stdout",
     "output_type": "stream",
     "text": [
      "0.6883180348051865 0.015572400289487753 63.0 47.07440918375928\n"
     ]
    },
    {
     "name": "stderr",
     "output_type": "stream",
     "text": [
      "100%|██████████| 4000000/4000000 [04:44<00:00, 14038.20it/s]\n",
      "Fitting Models: 100%|██████████| 40/40 [00:00<00:00, 80.82it/s] \n",
      "Fitting Models: 100%|██████████| 40/40 [00:00<00:00, 77.04it/s] \n",
      "Fitting Models: 100%|██████████| 40/40 [00:00<00:00, 80.70it/s] \n",
      "Fitting Models: 100%|██████████| 40/40 [00:00<00:00, 76.44it/s] \n",
      "Fitting Models: 100%|██████████| 40/40 [00:00<00:00, 79.89it/s] \n"
     ]
    },
    {
     "name": "stdout",
     "output_type": "stream",
     "text": [
      "0.6251299810860171 0.020683095471606176 59.0 24.979991993593593\n"
     ]
    },
    {
     "name": "stderr",
     "output_type": "stream",
     "text": [
      "100%|██████████| 4000000/4000000 [04:45<00:00, 13992.27it/s]\n",
      "Fitting Models: 100%|██████████| 40/40 [00:00<00:00, 79.32it/s] \n",
      "Fitting Models: 100%|██████████| 40/40 [00:00<00:00, 78.65it/s] \n",
      "Fitting Models: 100%|██████████| 40/40 [00:00<00:00, 76.67it/s] \n",
      "Fitting Models: 100%|██████████| 40/40 [00:00<00:00, 77.09it/s] \n",
      "Fitting Models: 100%|██████████| 40/40 [00:00<00:00, 79.09it/s]\n"
     ]
    },
    {
     "name": "stdout",
     "output_type": "stream",
     "text": [
      "0.5761864516416402 0.02572489625664325 51.0 29.393876913398138\n"
     ]
    },
    {
     "name": "stderr",
     "output_type": "stream",
     "text": [
      "100%|██████████| 4000000/4000000 [04:46<00:00, 13985.04it/s]\n",
      "Fitting Models: 100%|██████████| 40/40 [00:00<00:00, 78.91it/s] \n",
      "Fitting Models: 100%|██████████| 40/40 [00:00<00:00, 77.47it/s] \n",
      "Fitting Models: 100%|██████████| 40/40 [00:00<00:00, 77.96it/s] \n",
      "Fitting Models: 100%|██████████| 40/40 [00:00<00:00, 77.86it/s] \n",
      "Fitting Models: 100%|██████████| 40/40 [00:00<00:00, 81.40it/s] \n"
     ]
    },
    {
     "name": "stdout",
     "output_type": "stream",
     "text": [
      "0.6665967908890511 0.021584085318690237 51.0 28.705400188814647\n"
     ]
    },
    {
     "name": "stderr",
     "output_type": "stream",
     "text": [
      "100%|██████████| 4000000/4000000 [04:45<00:00, 14010.59it/s]\n",
      "Fitting Models: 100%|██████████| 40/40 [00:00<00:00, 77.40it/s] \n",
      "Fitting Models: 100%|██████████| 40/40 [00:00<00:00, 77.88it/s] \n",
      "Fitting Models: 100%|██████████| 40/40 [00:00<00:00, 79.90it/s] \n",
      "Fitting Models: 100%|██████████| 40/40 [00:00<00:00, 76.25it/s] \n",
      "Fitting Models: 100%|██████████| 40/40 [00:00<00:00, 82.46it/s] \n"
     ]
    },
    {
     "name": "stdout",
     "output_type": "stream",
     "text": [
      "0.6981814488486944 0.019362046157130636 65.0 15.491933384829668\n"
     ]
    },
    {
     "name": "stderr",
     "output_type": "stream",
     "text": [
      "100%|██████████| 4000000/4000000 [04:44<00:00, 14052.55it/s]\n",
      "Fitting Models: 100%|██████████| 40/40 [00:00<00:00, 77.66it/s] \n",
      "Fitting Models: 100%|██████████| 40/40 [00:00<00:00, 76.68it/s] \n",
      "Fitting Models: 100%|██████████| 40/40 [00:00<00:00, 74.28it/s] \n",
      "Fitting Models: 100%|██████████| 40/40 [00:00<00:00, 76.42it/s] \n",
      "Fitting Models: 100%|██████████| 40/40 [00:00<00:00, 77.10it/s] \n"
     ]
    },
    {
     "name": "stdout",
     "output_type": "stream",
     "text": [
      "0.6258593862764383 0.024167621160884223 69.0 67.70524351924303\n"
     ]
    },
    {
     "name": "stderr",
     "output_type": "stream",
     "text": [
      "100%|██████████| 4000000/4000000 [04:44<00:00, 14053.22it/s]\n",
      "Fitting Models: 100%|██████████| 40/40 [00:00<00:00, 78.94it/s] \n",
      "Fitting Models: 100%|██████████| 40/40 [00:00<00:00, 78.34it/s] \n",
      "Fitting Models: 100%|██████████| 40/40 [00:00<00:00, 77.60it/s] \n",
      "Fitting Models: 100%|██████████| 40/40 [00:00<00:00, 79.76it/s] \n",
      "Fitting Models: 100%|██████████| 40/40 [00:00<00:00, 77.18it/s] \n"
     ]
    },
    {
     "name": "stdout",
     "output_type": "stream",
     "text": [
      "0.5841808994695518 0.006719364053971755 59.0 38.262252939417984\n"
     ]
    },
    {
     "name": "stderr",
     "output_type": "stream",
     "text": [
      "100%|██████████| 4000000/4000000 [04:43<00:00, 14111.99it/s]\n",
      "Fitting Models: 100%|██████████| 40/40 [00:00<00:00, 81.35it/s] \n",
      "Fitting Models: 100%|██████████| 40/40 [00:00<00:00, 76.52it/s] \n",
      "Fitting Models: 100%|██████████| 40/40 [00:00<00:00, 81.59it/s] \n",
      "Fitting Models: 100%|██████████| 40/40 [00:00<00:00, 76.52it/s] \n",
      "Fitting Models: 100%|██████████| 40/40 [00:00<00:00, 76.63it/s] \n"
     ]
    },
    {
     "name": "stdout",
     "output_type": "stream",
     "text": [
      "0.6885509588655917 0.020427488648409705 63.0 42.14261501141095\n"
     ]
    },
    {
     "name": "stderr",
     "output_type": "stream",
     "text": [
      "100%|██████████| 4000000/4000000 [04:44<00:00, 14072.39it/s]\n",
      "Fitting Models: 100%|██████████| 40/40 [00:00<00:00, 78.53it/s] \n",
      "Fitting Models: 100%|██████████| 40/40 [00:00<00:00, 81.35it/s] \n",
      "Fitting Models: 100%|██████████| 40/40 [00:00<00:00, 77.59it/s] \n",
      "Fitting Models: 100%|██████████| 40/40 [00:00<00:00, 80.45it/s] \n",
      "Fitting Models: 100%|██████████| 40/40 [00:00<00:00, 76.86it/s] \n"
     ]
    },
    {
     "name": "stdout",
     "output_type": "stream",
     "text": [
      "0.6166094819906541 0.020159541926277634 101.0 98.10198774744578\n"
     ]
    },
    {
     "name": "stderr",
     "output_type": "stream",
     "text": [
      "100%|██████████| 4000000/4000000 [04:47<00:00, 13908.07it/s]\n",
      "Fitting Models: 100%|██████████| 40/40 [00:00<00:00, 74.13it/s]\n",
      "Fitting Models: 100%|██████████| 40/40 [00:00<00:00, 79.30it/s] \n",
      "Fitting Models: 100%|██████████| 40/40 [00:00<00:00, 79.18it/s] \n",
      "Fitting Models: 100%|██████████| 40/40 [00:00<00:00, 78.28it/s] \n",
      "Fitting Models: 100%|██████████| 40/40 [00:00<00:00, 76.50it/s] \n"
     ]
    },
    {
     "name": "stdout",
     "output_type": "stream",
     "text": [
      "0.798913933102407 0.02230500501928155 29.0 10.198039027185569\n"
     ]
    },
    {
     "name": "stderr",
     "output_type": "stream",
     "text": [
      "100%|██████████| 4000000/4000000 [04:46<00:00, 13969.70it/s]\n",
      "Fitting Models: 100%|██████████| 40/40 [00:00<00:00, 75.15it/s]\n",
      "Fitting Models: 100%|██████████| 40/40 [00:00<00:00, 77.91it/s] \n",
      "Fitting Models: 100%|██████████| 40/40 [00:00<00:00, 78.70it/s] \n",
      "Fitting Models: 100%|██████████| 40/40 [00:00<00:00, 77.50it/s] \n",
      "Fitting Models: 100%|██████████| 40/40 [00:00<00:00, 76.47it/s] \n"
     ]
    },
    {
     "name": "stdout",
     "output_type": "stream",
     "text": [
      "0.5829378691399614 0.021238964288079334 83.0 63.686733312362634\n"
     ]
    },
    {
     "name": "stderr",
     "output_type": "stream",
     "text": [
      "100%|██████████| 4000000/4000000 [04:45<00:00, 14023.70it/s]\n",
      "Fitting Models: 100%|██████████| 40/40 [00:00<00:00, 74.57it/s]\n",
      "Fitting Models: 100%|██████████| 40/40 [00:00<00:00, 79.22it/s] \n",
      "Fitting Models: 100%|██████████| 40/40 [00:00<00:00, 79.06it/s] \n",
      "Fitting Models: 100%|██████████| 40/40 [00:00<00:00, 74.84it/s] \n",
      "Fitting Models: 100%|██████████| 40/40 [00:00<00:00, 76.12it/s] \n"
     ]
    },
    {
     "name": "stdout",
     "output_type": "stream",
     "text": [
      "0.6202817253317441 0.0341775808408001 81.0 74.45804187594514\n"
     ]
    },
    {
     "name": "stderr",
     "output_type": "stream",
     "text": [
      "100%|██████████| 4000000/4000000 [04:46<00:00, 13962.60it/s]\n",
      "Fitting Models: 100%|██████████| 40/40 [00:00<00:00, 76.04it/s]\n",
      "Fitting Models: 100%|██████████| 40/40 [00:00<00:00, 78.88it/s] \n",
      "Fitting Models: 100%|██████████| 40/40 [00:00<00:00, 78.73it/s] \n",
      "Fitting Models: 100%|██████████| 40/40 [00:00<00:00, 77.39it/s] \n",
      "Fitting Models: 100%|██████████| 40/40 [00:00<00:00, 76.53it/s] \n"
     ]
    },
    {
     "name": "stdout",
     "output_type": "stream",
     "text": [
      "0.5284963612145445 0.015364811569643429 57.0 80.34923770640266\n"
     ]
    }
   ],
   "source": [
    "total_event_pT = {}\n",
    "\n",
    "total_event_pT['bkg'] = np.sum(bkg_data[:, :, 0], axis=1)\n",
    "\n",
    "for alias in sigAliasList:\n",
    "    total_event_pT[alias] = np.sum(sig_data[alias][:,:,0], axis=1)\n",
    "\n",
    "pTrange = [0,50,100,150,200,500,1000]\n",
    "neighbor_list = list(range(5, 400,10))\n",
    "avg_aucs = []\n",
    "std_aucs = []\n",
    "avg_ks = []\n",
    "std_ks = []\n",
    "for i in range(0, len(pTrange)-1):\n",
    "    lower_bound = pTrange[i]\n",
    "    upper_bound = pTrange[i+1]\n",
    "    \n",
    "    filtered_events = {}\n",
    "    mask = (total_event_pT['bkg'] >= lower_bound) & (total_event_pT['bkg'] <= upper_bound)\n",
    "    \n",
    "    filtered_events['bkg'] = randomDataSample(bkg_data[mask],nEvents,random_state)\n",
    "    np.random.seed(i)\n",
    "    permutation = np.random.permutation(nEvents*2)\n",
    "    \n",
    "    for alias in sigAliasList:\n",
    "        mask = (total_event_pT[alias] >= lower_bound) & (total_event_pT[alias] <= upper_bound)\n",
    "        filtered_events[alias] = randomDataSample(sig_data[alias][mask],nEvents,random_state)\n",
    "        \n",
    "        event_list = np.concatenate((filtered_events['bkg'],filtered_events[alias]))\n",
    "        event_labels = np.asarray([0] * nEvents + [1] * nEvents)\n",
    "        event_list = event_list[permutation]\n",
    "        event_labels = event_labels[permutation]\n",
    "        \n",
    "        distance_matrix = calcOTDistance(event_list, event_list, OTSCHEME, '2D', Matrix = True)\n",
    "        \n",
    "        avg_auc, std_auc, avg_k, std_k = kNN_cross_validation(distance_matrix, event_labels, neighbor_list, k_fold=5)\n",
    "        print(avg_auc, std_auc, avg_k, std_k)\n",
    "        avg_aucs.append(avg_auc)\n",
    "        std_aucs.append(std_auc)\n",
    "        avg_ks.append(avg_k)\n",
    "        std_ks.append(std_k)"
   ]
  },
  {
   "cell_type": "code",
   "execution_count": 9,
   "metadata": {
    "tags": []
   },
   "outputs": [
    {
     "name": "stdout",
     "output_type": "stream",
     "text": [
      "[0.6193241561554373, 0.5560362022323223, 0.5752272736176252, 0.6840947062389287, 0.797380753997553, 0.6761395554738507, 0.607118567366921, 0.7468665866068318, 0.7011452113981134, 0.5667354772174112, 0.6015605971417531, 0.6883180348051865, 0.6251299810860171, 0.5761864516416402, 0.6665967908890511, 0.6981814488486944, 0.6258593862764383, 0.5841808994695518, 0.6885509588655917, 0.6166094819906541, 0.798913933102407, 0.5829378691399614, 0.6202817253317441, 0.5284963612145445]\n",
      "[0.013909554559565948, 0.026013491872497616, 0.037555171735308014, 0.03150385066000139, 0.008993921054521814, 0.035688653156475125, 0.026939186162531433, 0.021490142570251385, 0.005785647854299646, 0.04953517731908581, 0.03723336061553597, 0.015572400289487753, 0.020683095471606176, 0.02572489625664325, 0.021584085318690237, 0.019362046157130636, 0.024167621160884223, 0.006719364053971755, 0.020427488648409705, 0.020159541926277634, 0.02230500501928155, 0.021238964288079334, 0.0341775808408001, 0.015364811569643429]\n"
     ]
    }
   ],
   "source": [
    "print(avg_aucs)\n",
    "print(std_aucs)"
   ]
  },
  {
   "cell_type": "code",
   "execution_count": 10,
   "metadata": {
    "tags": []
   },
   "outputs": [
    {
     "name": "stdout",
     "output_type": "stream",
     "text": [
      "[[0.6193241561554373, 0.5560362022323223, 0.5752272736176252, 0.6840947062389287], [0.797380753997553, 0.6761395554738507, 0.607118567366921, 0.7468665866068318], [0.7011452113981134, 0.5667354772174112, 0.6015605971417531, 0.6883180348051865], [0.6251299810860171, 0.5761864516416402, 0.6665967908890511, 0.6981814488486944], [0.6258593862764383, 0.5841808994695518, 0.6885509588655917, 0.6166094819906541], [0.798913933102407, 0.5829378691399614, 0.6202817253317441, 0.5284963612145445]]\n",
      "[[0.013909554559565948, 0.026013491872497616, 0.037555171735308014, 0.03150385066000139], [0.008993921054521814, 0.035688653156475125, 0.026939186162531433, 0.021490142570251385], [0.005785647854299646, 0.04953517731908581, 0.03723336061553597, 0.015572400289487753], [0.020683095471606176, 0.02572489625664325, 0.021584085318690237, 0.019362046157130636], [0.024167621160884223, 0.006719364053971755, 0.020427488648409705, 0.020159541926277634], [0.02230500501928155, 0.021238964288079334, 0.0341775808408001, 0.015364811569643429]]\n"
     ]
    }
   ],
   "source": [
    "grouped_data_1 = [avg_aucs[i:i+4] for i in range(0, len(avg_aucs), 4)]\n",
    "grouped_data_2 = [std_aucs[i:i+4] for i in range(0, len(std_aucs), 4)]\n",
    "print(grouped_data_1)\n",
    "print(grouped_data_2)"
   ]
  },
  {
   "cell_type": "code",
   "execution_count": 8,
   "metadata": {
    "id": "bxOVdUuvGZWg"
   },
   "outputs": [],
   "source": [
    "total_event_pT_bkg = np.sum(bkg_data[:, :, 0], axis=1)\n",
    "mask = total_event_pT_bkg <= 50\n",
    "low_pT_events_bkg = randomDataSample(bkg_data[mask],nEvents, random_state)"
   ]
  },
  {
   "cell_type": "code",
   "execution_count": 9,
   "metadata": {
    "id": "ORGX4tWrN5YQ"
   },
   "outputs": [],
   "source": [
    "total_event_pT_A = np.sum(sig_data['sig_A'][:,:,0],axis = 1)\n",
    "mask = total_event_pT_A <= 50\n",
    "low_pT_events_A = randomDataSample(sig_data['sig_A'][mask],nEvents, random_state)"
   ]
  },
  {
   "cell_type": "code",
   "execution_count": 10,
   "metadata": {
    "id": "gX2XnOKnO0yN"
   },
   "outputs": [],
   "source": [
    "total_event_pT_h0 = np.sum(sig_data['sig_h0'][:,:,0],axis = 1)\n",
    "mask = total_event_pT_h0 <= 50\n",
    "low_pT_events_h0 = randomDataSample(sig_data['sig_h0'][mask],nEvents, random_state)"
   ]
  },
  {
   "cell_type": "code",
   "execution_count": 11,
   "metadata": {
    "id": "KOkhA0ZBO2dr"
   },
   "outputs": [],
   "source": [
    "total_event_pT_hch = np.sum(sig_data['sig_hch'][:,:,0],axis = 1)\n",
    "mask = total_event_pT_hch <= 50\n",
    "low_pT_events_hch = randomDataSample(sig_data['sig_hch'][mask],nEvents, random_state)"
   ]
  },
  {
   "cell_type": "code",
   "execution_count": 12,
   "metadata": {
    "id": "aMHM--cNO22W"
   },
   "outputs": [],
   "source": [
    "total_event_pT_LQ = np.sum(sig_data['sig_LQ'][:,:,0],axis = 1)\n",
    "mask = total_event_pT_LQ <= 50\n",
    "low_pT_events_LQ = randomDataSample(sig_data['sig_LQ'][mask],nEvents, random_state)"
   ]
  },
  {
   "cell_type": "code",
   "execution_count": 13,
   "metadata": {
    "executionInfo": {
     "elapsed": 2,
     "status": "ok",
     "timestamp": 1697237678275,
     "user": {
      "displayName": "Hancheng Li",
      "userId": "16561302137020690535"
     },
     "user_tz": 420
    },
    "id": "7bF2wGx8WRHk"
   },
   "outputs": [],
   "source": [
    "OTSCHEME = {}\n",
    "OTSCHEME['normPT'] = True\n",
    "OTSCHEME['balanced'] = True\n",
    "OTSCHEME['noZeroPad'] = False\n",
    "OTSCHEME['individualOT'] = False"
   ]
  },
  {
   "cell_type": "code",
   "execution_count": 14,
   "metadata": {
    "id": "eQTmmX7EUVOC"
   },
   "outputs": [],
   "source": [
    "bkg_A_event_list = np.concatenate((low_pT_events_bkg,low_pT_events_A))\n",
    "bkg_A_labels = np.array([0] * nEvents + [1] * nEvents)\n",
    "np.random.seed(1)\n",
    "permutation = np.random.permutation(2*nEvents)\n",
    "bkg_A_event_list = bkg_A_event_list[permutation]\n",
    "bkg_A_labels = bkg_A_labels[permutation]\n",
    "bkg_A_dm = calcOTDistance(bkg_A_event_list, bkg_A_event_list, OTSCHEME, '2D', Matrix=True)"
   ]
  },
  {
   "cell_type": "code",
   "execution_count": 15,
   "metadata": {
    "colab": {
     "base_uri": "https://localhost:8080/"
    },
    "executionInfo": {
     "elapsed": 6,
     "status": "ok",
     "timestamp": 1697183872039,
     "user": {
      "displayName": "Hancheng Li",
      "userId": "16561302137020690535"
     },
     "user_tz": 420
    },
    "id": "HzexRtJdXPuY",
    "outputId": "5df57c0f-9715-4041-d3a9-9c562914bc3f"
   },
   "outputs": [
    {
     "name": "stderr",
     "output_type": "stream",
     "text": [
      "Fitting Models: 100%|██████████| 15/15 [00:00<00:00, 311.11it/s]"
     ]
    },
    {
     "name": "stdout",
     "output_type": "stream",
     "text": [
      "\n",
      "0.5685897435897436 5\n",
      "[0.6069594247560348, 0.5748587570621468, 0.5323574730354391, 0.5147663071391885, 0.49370826913199795, 0.4803543913713405, 0.4587827426810478, 0.4287365177195686, 0.43695428864920394, 0.45993836671802774, 0.44851052901900357, 0.4703389830508474, 0.4844632768361581, 0.4684129429892142, 0.4404211607601438]\n"
     ]
    },
    {
     "name": "stderr",
     "output_type": "stream",
     "text": [
      "\n"
     ]
    }
   ],
   "source": [
    "neighbor_list = [5, 10, 12, 14, 16, 18, 20, 25, 30, 40, 50, 60, 70, 80, 90]\n",
    "best_auc, best_k_neighbor, best_model, auc_list = kNN_with_distance_matrix(bkg_A_dm, bkg_A_labels, nEvents//2, nEvents//4, nEvents//4,neighbor_list, AUC_list=True)\n",
    "print()\n",
    "print(best_auc, best_k_neighbor)\n",
    "print(auc_list)\n",
    "del bkg_A_dm"
   ]
  },
  {
   "cell_type": "code",
   "execution_count": 16,
   "metadata": {
    "colab": {
     "base_uri": "https://localhost:8080/",
     "height": 363
    },
    "executionInfo": {
     "elapsed": 419550,
     "status": "error",
     "timestamp": 1697186744236,
     "user": {
      "displayName": "Hancheng Li",
      "userId": "16561302137020690535"
     },
     "user_tz": 420
    },
    "id": "qldbcJmaf_Pd",
    "outputId": "51425838-350c-4adc-a817-6a3422c9fbed"
   },
   "outputs": [],
   "source": [
    "bkg_h0_event_list = np.concatenate((low_pT_events_bkg,low_pT_events_h0))\n",
    "bkg_h0_labels = np.array([0] * nEvents + [1] * nEvents)\n",
    "np.random.seed(1)\n",
    "permutation = np.random.permutation(2*nEvents)\n",
    "bkg_h0_event_list = bkg_h0_event_list[permutation]\n",
    "bkg_h0_labels = bkg_h0_labels[permutation]\n",
    "bkg_h0_dm = calcOTDistance(bkg_h0_event_list, bkg_h0_event_list, OTSCHEME, '2D', Matrix=True)"
   ]
  },
  {
   "cell_type": "code",
   "execution_count": 17,
   "metadata": {
    "id": "F9-7dAv3jHmy"
   },
   "outputs": [
    {
     "name": "stderr",
     "output_type": "stream",
     "text": [
      "Fitting Models: 100%|██████████| 15/15 [00:00<00:00, 380.48it/s]"
     ]
    },
    {
     "name": "stdout",
     "output_type": "stream",
     "text": [
      "\n",
      "0.6067948717948718 10\n",
      "[0.4789419619928095, 0.49897277863379563, 0.470467385721623, 0.42873651771956856, 0.44260400616332823, 0.4331022085259374, 0.42205957883923984, 0.46623009758602973, 0.42424242424242425, 0.40896250642013354, 0.42308680020544426, 0.4354134565998973, 0.45120698510529017, 0.4417051874678994, 0.4788135593220339]\n"
     ]
    },
    {
     "name": "stderr",
     "output_type": "stream",
     "text": [
      "\n"
     ]
    }
   ],
   "source": [
    "neighbor_list = [5, 10, 12, 14, 16, 18, 20, 25, 30, 40, 50, 60, 70, 80, 90]\n",
    "best_auc, best_k_neighbor, best_model, auc_list = kNN_with_distance_matrix(bkg_h0_dm, bkg_h0_labels, nEvents//2, nEvents//4, nEvents//4,neighbor_list, AUC_list=True)\n",
    "print()\n",
    "print(best_auc, best_k_neighbor)\n",
    "print(auc_list)\n",
    "del bkg_h0_dm"
   ]
  },
  {
   "cell_type": "code",
   "execution_count": 18,
   "metadata": {
    "id": "sC-ZKBRljOM0"
   },
   "outputs": [],
   "source": [
    "bkg_hch_event_list = np.concatenate((low_pT_events_bkg,low_pT_events_hch))\n",
    "bkg_hch_labels = np.array([0] * nEvents + [1] * nEvents)\n",
    "np.random.seed(1)\n",
    "permutation = np.random.permutation(2*nEvents)\n",
    "bkg_hch_event_list = bkg_hch_event_list[permutation]\n",
    "bkg_hch_labels = bkg_hch_labels[permutation]\n",
    "bkg_hch_dm = calcOTDistance(bkg_hch_event_list, bkg_hch_event_list, OTSCHEME, '2D', Matrix=True)"
   ]
  },
  {
   "cell_type": "code",
   "execution_count": 19,
   "metadata": {
    "id": "NfI-Wdivlepc"
   },
   "outputs": [
    {
     "name": "stderr",
     "output_type": "stream",
     "text": [
      "Fitting Models: 100%|██████████| 15/15 [00:00<00:00, 370.12it/s]"
     ]
    },
    {
     "name": "stdout",
     "output_type": "stream",
     "text": [
      "\n",
      "0.5234615384615384 14\n",
      "[0.6114535182331793, 0.6212121212121212, 0.6302003081664098, 0.6377760657421674, 0.6201848998459167, 0.5980996404725218, 0.5654853620955316, 0.5676682074987159, 0.5621468926553672, 0.5259373394966614, 0.5147663071391885, 0.5295326142783771, 0.5132254750898818, 0.50115562403698, 0.5523882896764253]\n"
     ]
    },
    {
     "name": "stderr",
     "output_type": "stream",
     "text": [
      "\n"
     ]
    }
   ],
   "source": [
    "neighbor_list = [5, 10, 12, 14, 16, 18, 20, 25, 30, 40, 50, 60, 70, 80, 90]\n",
    "best_auc, best_k_neighbor, best_model, auc_list = kNN_with_distance_matrix(bkg_hch_dm, bkg_hch_labels, nEvents//2, nEvents//4, nEvents//4,neighbor_list, AUC_list=True)\n",
    "print()\n",
    "print(best_auc, best_k_neighbor)\n",
    "print(auc_list)\n",
    "del bkg_hch_dm"
   ]
  },
  {
   "cell_type": "code",
   "execution_count": 20,
   "metadata": {
    "id": "DvvJcS0Tl_4P"
   },
   "outputs": [],
   "source": [
    "bkg_LQ_event_list = np.concatenate((low_pT_events_bkg,low_pT_events_LQ))\n",
    "bkg_LQ_labels = np.array([0] * nEvents + [1] * nEvents)\n",
    "np.random.seed(1)\n",
    "permutation = np.random.permutation(2*nEvents)\n",
    "bkg_LQ_event_list = bkg_LQ_event_list[permutation]\n",
    "bkg_LQ_labels = bkg_LQ_labels[permutation]\n",
    "bkg_LQ_dm = calcOTDistance(bkg_LQ_event_list, bkg_LQ_event_list, OTSCHEME, '2D', Matrix=True)\n"
   ]
  },
  {
   "cell_type": "code",
   "execution_count": 21,
   "metadata": {
    "id": "Q6pkAj-ImAqs"
   },
   "outputs": [
    {
     "name": "stderr",
     "output_type": "stream",
     "text": [
      "Fitting Models: 100%|██████████| 15/15 [00:00<00:00, 540.87it/s]"
     ]
    },
    {
     "name": "stdout",
     "output_type": "stream",
     "text": [
      "\n",
      "0.5761538461538461 5\n",
      "[0.6856702619414483, 0.6258346173600411, 0.5991268618387262, 0.579738058551618, 0.533256291730868, 0.5047508988186955, 0.5038520801232665, 0.513995891114535, 0.5202876219825372, 0.5240112994350283, 0.5254237288135593, 0.5582948125321006, 0.5394196199280945, 0.515793528505393, 0.4717514124293785]\n"
     ]
    },
    {
     "name": "stderr",
     "output_type": "stream",
     "text": [
      "\n"
     ]
    }
   ],
   "source": [
    "neighbor_list = [5, 10, 12, 14, 16, 18, 20, 25, 30, 40, 50, 60, 70, 80, 90]\n",
    "best_auc, best_k_neighbor, best_model, auc_list = kNN_with_distance_matrix(bkg_LQ_dm, bkg_LQ_labels, nEvents//2, nEvents//4, nEvents//4,neighbor_list, AUC_list=True)\n",
    "print()\n",
    "print(best_auc, best_k_neighbor)\n",
    "print(auc_list)\n",
    "del bkg_LQ_dm"
   ]
  },
  {
   "cell_type": "markdown",
   "metadata": {
    "id": "J_lQ46zHm16o"
   },
   "source": [
    "# Mid $p_T$ range (50 GeV - 100 GeV)"
   ]
  },
  {
   "cell_type": "code",
   "execution_count": 22,
   "metadata": {
    "executionInfo": {
     "elapsed": 3215,
     "status": "ok",
     "timestamp": 1697237659931,
     "user": {
      "displayName": "Hancheng Li",
      "userId": "16561302137020690535"
     },
     "user_tz": 420
    },
    "id": "NO4x9lRPm5J5"
   },
   "outputs": [],
   "source": [
    "mask = (total_event_pT_bkg >= 50) & (total_event_pT_bkg <= 100)\n",
    "mid_pT_events_bkg = randomDataSample(bkg_data[mask],nEvents, random_state)\n",
    "\n",
    "mask = (total_event_pT_A >= 50) & (total_event_pT_A <= 100)\n",
    "mid_pT_events_A = randomDataSample(sig_data['sig_A'][mask],nEvents, random_state)\n",
    "\n",
    "mask = (total_event_pT_h0 >= 50) & (total_event_pT_h0 <= 100)\n",
    "mid_pT_events_h0 = randomDataSample(sig_data['sig_h0'][mask],nEvents, random_state)\n",
    "\n",
    "mask = (total_event_pT_hch >= 50) & (total_event_pT_hch <= 100)\n",
    "mid_pT_events_hch = randomDataSample(sig_data['sig_hch'][mask],nEvents, random_state)\n",
    "\n",
    "mask = (total_event_pT_LQ >= 50) & (total_event_pT_LQ <= 100)\n",
    "mid_pT_events_LQ = randomDataSample(sig_data['sig_LQ'][mask],nEvents, random_state)"
   ]
  },
  {
   "cell_type": "code",
   "execution_count": 23,
   "metadata": {
    "colab": {
     "base_uri": "https://localhost:8080/"
    },
    "executionInfo": {
     "elapsed": 267764,
     "status": "ok",
     "timestamp": 1697237951569,
     "user": {
      "displayName": "Hancheng Li",
      "userId": "16561302137020690535"
     },
     "user_tz": 420
    },
    "id": "MQzu1VehAmFW",
    "outputId": "6c4d1d3b-8d95-421a-a09e-a169ca0fa7c7"
   },
   "outputs": [
    {
     "name": "stderr",
     "output_type": "stream",
     "text": [
      "Fitting Models: 100%|██████████| 17/17 [00:00<00:00, 746.73it/s]"
     ]
    },
    {
     "name": "stdout",
     "output_type": "stream",
     "text": [
      "\n",
      "0.6967948717948719 18\n",
      "[0.7227786337955828, 0.743708269131998, 0.7177709296353364, 0.74653312788906, 0.7274011299435028, 0.7378017462763227, 0.7519260400616332, 0.7521828454031844, 0.7453775038520801, 0.7213662044170519, 0.7226502311248074, 0.7000513610683102, 0.6837442218798151, 0.6503595274781715, 0.6323831535695943, 0.6145351823317925, 0.6344375963020031]\n"
     ]
    },
    {
     "name": "stderr",
     "output_type": "stream",
     "text": [
      "\n"
     ]
    }
   ],
   "source": [
    "bkg_A_event_list = np.concatenate((mid_pT_events_bkg, mid_pT_events_A))\n",
    "bkg_A_labels = np.array([0] * nEvents + [1] * nEvents)\n",
    "np.random.seed(1)\n",
    "permutation = np.random.permutation(2*nEvents)\n",
    "bkg_A_event_list = bkg_A_event_list[permutation]\n",
    "bkg_A_labels = bkg_A_labels[permutation]\n",
    "bkg_A_dm = calcOTDistance(bkg_A_event_list, bkg_A_event_list, OTSCHEME, '2D', Matrix=True)\n",
    "\n",
    "neighbor_list = [3,4,5, 10, 12, 14, 16, 18, 20, 25, 30, 40, 50, 60, 70, 80, 90]\n",
    "best_auc, best_k_neighbor, best_model, auc_list = kNN_with_distance_matrix(bkg_A_dm, bkg_A_labels, nEvents//2, nEvents//4, nEvents//4,neighbor_list, AUC_list=True)\n",
    "print()\n",
    "print(best_auc, best_k_neighbor)\n",
    "print(auc_list)\n",
    "\n",
    "del bkg_A_dm"
   ]
  },
  {
   "cell_type": "code",
   "execution_count": 24,
   "metadata": {
    "executionInfo": {
     "elapsed": 2,
     "status": "aborted",
     "timestamp": 1697237559195,
     "user": {
      "displayName": "Hancheng Li",
      "userId": "16561302137020690535"
     },
     "user_tz": 420
    },
    "id": "dSXXXH64A-S5"
   },
   "outputs": [
    {
     "name": "stderr",
     "output_type": "stream",
     "text": [
      "Fitting Models: 100%|██████████| 17/17 [00:00<00:00, 765.32it/s]"
     ]
    },
    {
     "name": "stdout",
     "output_type": "stream",
     "text": [
      "\n",
      "0.6241025641025642 3\n",
      "[0.6905495634309193, 0.6590909090909091, 0.6706471494607088, 0.6786081150487931, 0.653954802259887, 0.6501027221366205, 0.6406009244992296, 0.6245505906522855, 0.6056753980482794, 0.6086286594761171, 0.6200564971751413, 0.6413713405238829, 0.6253210066769389, 0.5951463790446841, 0.5996404725218285, 0.6113251155624037, 0.5829481253210067]\n"
     ]
    },
    {
     "name": "stderr",
     "output_type": "stream",
     "text": [
      "\n"
     ]
    }
   ],
   "source": [
    "bkg_h0_event_list = np.concatenate((mid_pT_events_bkg, mid_pT_events_h0))\n",
    "bkg_h0_labels = np.array([0] * nEvents + [1] * nEvents)\n",
    "np.random.seed(1)\n",
    "permutation = np.random.permutation(2*nEvents)\n",
    "bkg_h0_event_list = bkg_h0_event_list[permutation]\n",
    "bkg_h0_labels = bkg_h0_labels[permutation]\n",
    "bkg_h0_dm = calcOTDistance(bkg_h0_event_list, bkg_h0_event_list, OTSCHEME, '2D', Matrix=True)\n",
    "\n",
    "neighbor_list = [3,4,5, 10, 12, 14, 16, 18, 20, 25, 30, 40, 50, 60, 70, 80, 90]\n",
    "best_auc, best_k_neighbor, best_model, auc_list = kNN_with_distance_matrix(bkg_h0_dm, bkg_h0_labels, nEvents//2, nEvents//4, nEvents//4,neighbor_list, AUC_list=True)\n",
    "print()\n",
    "print(best_auc, best_k_neighbor)\n",
    "print(auc_list)\n",
    "del bkg_h0_dm"
   ]
  },
  {
   "cell_type": "code",
   "execution_count": 25,
   "metadata": {
    "executionInfo": {
     "elapsed": 2,
     "status": "aborted",
     "timestamp": 1697237559195,
     "user": {
      "displayName": "Hancheng Li",
      "userId": "16561302137020690535"
     },
     "user_tz": 420
    },
    "id": "QarfyuXKFGD5"
   },
   "outputs": [
    {
     "name": "stderr",
     "output_type": "stream",
     "text": [
      "Fitting Models: 100%|██████████| 17/17 [00:00<00:00, 636.30it/s]"
     ]
    },
    {
     "name": "stdout",
     "output_type": "stream",
     "text": [
      "\n",
      "0.637051282051282 30\n",
      "[0.5611196712891628, 0.5693374422187981, 0.561633281972265, 0.5638161273754494, 0.5557267591165896, 0.5480225988700564, 0.5364663585002567, 0.5200308166409862, 0.5318438623523368, 0.5952747817154597, 0.6142783769902413, 0.5630457113507962, 0.5670261941448382, 0.5701078582434516, 0.554185927067283, 0.5123266563944531, 0.4938366718027735]\n"
     ]
    },
    {
     "name": "stderr",
     "output_type": "stream",
     "text": [
      "\n"
     ]
    }
   ],
   "source": [
    "bkg_hch_event_list = np.concatenate((mid_pT_events_bkg, mid_pT_events_hch))\n",
    "bkg_hch_labels = np.array([0] * nEvents + [1] * nEvents)\n",
    "np.random.seed(1)\n",
    "permutation = np.random.permutation(2*nEvents)\n",
    "bkg_hch_event_list = bkg_hch_event_list[permutation]\n",
    "bkg_hch_labels = bkg_hch_labels[permutation]\n",
    "bkg_hch_dm = calcOTDistance(bkg_hch_event_list, bkg_hch_event_list, OTSCHEME, '2D', Matrix=True)\n",
    "\n",
    "neighbor_list = [3,4,5, 10, 12, 14, 16, 18, 20, 25, 30, 40, 50, 60, 70, 80, 90]\n",
    "best_auc, best_k_neighbor, best_model, auc_list = kNN_with_distance_matrix(bkg_hch_dm, bkg_hch_labels, nEvents//2, nEvents//4, nEvents//4,neighbor_list, AUC_list=True)\n",
    "print()\n",
    "print(best_auc, best_k_neighbor)\n",
    "print(auc_list)\n",
    "del bkg_hch_dm"
   ]
  },
  {
   "cell_type": "code",
   "execution_count": null,
   "metadata": {
    "executionInfo": {
     "elapsed": 2,
     "status": "aborted",
     "timestamp": 1697237559195,
     "user": {
      "displayName": "Hancheng Li",
      "userId": "16561302137020690535"
     },
     "user_tz": 420
    },
    "id": "BJcziAVjFZAg"
   },
   "outputs": [],
   "source": [
    "bkg_LQ_event_list = np.concatenate((mid_pT_events_bkg, mid_pT_events_LQ))\n",
    "bkg_LQ_labels = np.array([0] * nEvents + [1] * nEvents)\n",
    "np.random.seed(1)\n",
    "permutation = np.random.permutation(2*nEvents)\n",
    "bkg_LQ_event_list = bkg_LQ_event_list[permutation]\n",
    "bkg_LQ_labels = bkg_LQ_labels[permutation]\n",
    "bkg_LQ_dm = calcOTDistance(bkg_LQ_event_list, bkg_LQ_event_list, OTSCHEME, '2D', Matrix=True)\n",
    "\n",
    "neighbor_list = [3,4,5, 10, 12, 14, 16, 18, 20, 25, 30, 40, 50, 60, 70, 80, 90]\n",
    "best_auc, best_k_neighbor, best_model, auc_list = kNN_with_distance_matrix(bkg_LQ_dm, bkg_LQ_labels, nEvents//2, nEvents//4, nEvents//4,neighbor_list, AUC_list=True)\n",
    "print()\n",
    "print(best_auc, best_k_neighbor)\n",
    "print(auc_list)\n",
    "del bkg_LQ_dm"
   ]
  },
  {
   "cell_type": "markdown",
   "metadata": {
    "id": "jUveKkUcGvCt"
   },
   "source": [
    "# Mid range 2 $p_T$(100 GeV - 150 GeV)"
   ]
  },
  {
   "cell_type": "code",
   "execution_count": null,
   "metadata": {
    "id": "xj-8yTRKFmtu"
   },
   "outputs": [],
   "source": [
    "mask = (total_event_pT_bkg >= 100) & (total_event_pT_bkg <= 150)\n",
    "mid_pT_events_bkg_2 = randomDataSample(bkg_data[mask],nEvents, random_state)\n",
    "\n",
    "mask = (total_event_pT_A >= 100) & (total_event_pT_A <= 150)\n",
    "mid_pT_events_A_2 = randomDataSample(sig_data['sig_A'][mask],nEvents, random_state)\n",
    "\n",
    "mask = (total_event_pT_h0 >= 100) & (total_event_pT_h0 <= 150)\n",
    "mid_pT_events_h0_2 = randomDataSample(sig_data['sig_h0'][mask],nEvents, random_state)\n",
    "\n",
    "mask = (total_event_pT_hch >= 100) & (total_event_pT_hch <= 150)\n",
    "mid_pT_events_hch_2 = randomDataSample(sig_data['sig_hch'][mask],nEvents, random_state)\n",
    "\n",
    "mask = (total_event_pT_LQ >= 100) & (total_event_pT_LQ <= 150)\n",
    "mid_pT_events_LQ_2 = randomDataSample(sig_data['sig_LQ'][mask],nEvents, random_state)"
   ]
  },
  {
   "cell_type": "code",
   "execution_count": null,
   "metadata": {
    "id": "8ERqKbm8Ieg9"
   },
   "outputs": [],
   "source": [
    "bkg_A_event_list = np.concatenate((mid_pT_events_bkg_2, mid_pT_events_A_2))\n",
    "bkg_A_labels = np.array([0] * nEvents + [1] * nEvents)\n",
    "np.random.seed(4)\n",
    "permutation = np.random.permutation(2*nEvents)\n",
    "bkg_A_event_list = bkg_A_event_list[permutation]\n",
    "bkg_A_labels = bkg_A_labels[permutation]\n",
    "bkg_A_dm = calcOTDistance(bkg_A_event_list, bkg_A_event_list, OTSCHEME, '2D', Matrix=True)\n",
    "\n",
    "neighbor_list = [3,4,5, 10, 12, 14, 16, 18, 20, 25, 30, 40, 50, 60, 70, 80, 90]\n",
    "best_auc, best_k_neighbor, best_model, auc_list = kNN_with_distance_matrix(bkg_A_dm, bkg_A_labels, nEvents//2, nEvents//4, nEvents//4,neighbor_list, AUC_list=True)\n",
    "print()\n",
    "print(best_auc, best_k_neighbor)\n",
    "print(auc_list)"
   ]
  },
  {
   "cell_type": "code",
   "execution_count": null,
   "metadata": {
    "id": "1PiZM3o0JILH"
   },
   "outputs": [],
   "source": [
    "bkg_h0_event_list = np.concatenate((mid_pT_events_bkg_2, mid_pT_events_h0_2))\n",
    "bkg_h0_labels = np.array([0] * nEvents + [1] * nEvents)\n",
    "np.random.seed(4)\n",
    "permutation = np.random.permutation(2*nEvents)\n",
    "bkg_h0_event_list = bkg_h0_event_list[permutation]\n",
    "bkg_h0_labels = bkg_h0_labels[permutation]\n",
    "bkg_h0_dm = calcOTDistance(bkg_h0_event_list, bkg_h0_event_list, OTSCHEME, '2D', Matrix=True)\n",
    "\n",
    "neighbor_list = [3,4,5, 10, 12, 14, 16, 18, 20, 25, 30, 40, 50, 60, 70, 80, 90]\n",
    "best_auc, best_k_neighbor, best_model, auc_list = kNN_with_distance_matrix(bkg_h0_dm, bkg_h0_labels, nEvents//2, nEvents//4, nEvents//4,neighbor_list, AUC_list=True)\n",
    "print()\n",
    "print(best_auc, best_k_neighbor)\n",
    "print(auc_list)"
   ]
  },
  {
   "cell_type": "code",
   "execution_count": null,
   "metadata": {
    "id": "ERfRxU-nJc7W"
   },
   "outputs": [],
   "source": [
    "bkg_hch_event_list = np.concatenate((mid_pT_events_bkg_2, mid_pT_events_hch_2))\n",
    "bkg_hch_labels = np.array([0] * nEvents + [1] * nEvents)\n",
    "np.random.seed(4)\n",
    "permutation = np.random.permutation(2*nEvents)\n",
    "bkg_hch_event_list = bkg_hch_event_list[permutation]\n",
    "bkg_hch_labels = bkg_hch_labels[permutation]\n",
    "bkg_hch_dm = calcOTDistance(bkg_hch_event_list, bkg_hch_event_list, OTSCHEME, '2D', Matrix=True)\n",
    "\n",
    "neighbor_list = [3,4,5, 10, 12, 14, 16, 18, 20, 25, 30, 40, 50, 60, 70, 80, 90]\n",
    "best_auc, best_k_neighbor, best_model, auc_list = kNN_with_distance_matrix(bkg_hch_dm, bkg_hch_labels, nEvents//2, nEvents//4, nEvents//4,neighbor_list, AUC_list=True)\n",
    "print()\n",
    "print(best_auc, best_k_neighbor)\n",
    "print(auc_list)"
   ]
  },
  {
   "cell_type": "code",
   "execution_count": null,
   "metadata": {
    "id": "iTzpT2jhJ0Kb"
   },
   "outputs": [],
   "source": [
    "bkg_LQ_event_list = np.concatenate((mid_pT_events_bkg_2, mid_pT_events_LQ_2))\n",
    "bkg_LQ_labels = np.array([0] * nEvents + [1] * nEvents)\n",
    "np.random.seed(4)\n",
    "permutation = np.random.permutation(2*nEvents)\n",
    "bkg_LQ_event_list = bkg_LQ_event_list[permutation]\n",
    "bkg_LQ_labels = bkg_LQ_labels[permutation]\n",
    "bkg_LQ_dm = calcOTDistance(bkg_LQ_event_list, bkg_LQ_event_list, OTSCHEME, '2D', Matrix=True)\n",
    "\n",
    "neighbor_list = [3,4,5, 10, 12, 14, 16, 18, 20, 25, 30, 40, 50, 60, 70, 80, 90]\n",
    "best_auc, best_k_neighbor, best_model, auc_list = kNN_with_distance_matrix(bkg_LQ_dm, bkg_LQ_labels, nEvents//2, nEvents//4, nEvents//4,neighbor_list, AUC_list=True)\n",
    "print()\n",
    "print(best_auc, best_k_neighbor)\n",
    "print(auc_list)"
   ]
  },
  {
   "cell_type": "markdown",
   "metadata": {
    "id": "zqKTXVbvLpi5"
   },
   "source": [
    "# Mid range 3 $p_T$(150 GeV - 200 GeV)"
   ]
  },
  {
   "cell_type": "code",
   "execution_count": null,
   "metadata": {
    "id": "awYSttzvLrDm"
   },
   "outputs": [],
   "source": [
    "total_event_pT_bkg = np.sum(bkg_data[:, :, 0], axis=1)\n",
    "mask = (total_event_pT_bkg >= 150) & (total_event_pT_bkg <= 200)\n",
    "mid_pT_events_bkg_3 = randomDataSample(bkg_data[mask],nEvents, random_state)\n",
    "\n",
    "del total_event_pT_bkg\n",
    "\n",
    "total_event_pT_A = np.sum(sig_data['sig_A'][:,:,0],axis = 1)\n",
    "mask = (total_event_pT_A >= 150) & (total_event_pT_A <= 200)\n",
    "mid_pT_events_A_3 = randomDataSample(sig_data['sig_A'][mask],nEvents, random_state)\n",
    "\n",
    "del total_event_pT_A\n",
    "\n",
    "total_event_pT_h0 = np.sum(sig_data['sig_h0'][:,:,0],axis = 1)\n",
    "mask = (total_event_pT_h0 >= 150) & (total_event_pT_h0 <= 200)\n",
    "mid_pT_events_h0_3 = randomDataSample(sig_data['sig_h0'][mask],nEvents, random_state)\n",
    "\n",
    "del total_event_pT_h0\n",
    "\n",
    "total_event_pT_hch = np.sum(sig_data['sig_hch'][:,:,0],axis = 1)\n",
    "mask = (total_event_pT_hch >= 150) & (total_event_pT_hch <= 200)\n",
    "mid_pT_events_hch_3 = randomDataSample(sig_data['sig_hch'][mask],nEvents, random_state)\n",
    "\n",
    "del total_event_pT_hch\n",
    "\n",
    "total_event_pT_LQ = np.sum(sig_data['sig_LQ'][:,:,0],axis = 1)\n",
    "mask = (total_event_pT_LQ >= 150) & (total_event_pT_LQ <= 200)\n",
    "mid_pT_events_LQ_3 = randomDataSample(sig_data['sig_LQ'][mask],nEvents, random_state)\n",
    "\n",
    "del total_event_pT_LQ"
   ]
  },
  {
   "cell_type": "code",
   "execution_count": null,
   "metadata": {
    "id": "97r3WBvbME4x"
   },
   "outputs": [],
   "source": [
    "bkg_A_event_list = np.concatenate((mid_pT_events_bkg_3, mid_pT_events_A_3))\n",
    "bkg_A_labels = np.array([0] * nEvents + [1] * nEvents)\n",
    "np.random.seed(4)\n",
    "permutation = np.random.permutation(2*nEvents)\n",
    "bkg_A_event_list = bkg_A_event_list[permutation]\n",
    "bkg_A_labels = bkg_A_labels[permutation]\n",
    "bkg_A_dm = calcOTDistance(bkg_A_event_list, bkg_A_event_list, OTSCHEME, '2D', Matrix=True)\n",
    "\n",
    "neighbor_list = [3,4,5, 10, 12, 14, 16, 18, 20, 25, 30, 40, 50, 60, 70, 80, 90]\n",
    "best_auc, best_k_neighbor, best_model, auc_list = kNN_with_distance_matrix(bkg_A_dm, bkg_A_labels, nEvents//2, nEvents//4, nEvents//4,neighbor_list, AUC_list=True)\n",
    "print()\n",
    "print(best_auc, best_k_neighbor)\n",
    "print(auc_list)\n",
    "\n",
    "bkg_h0_event_list = np.concatenate((mid_pT_events_bkg_3, mid_pT_events_h0_3))\n",
    "bkg_h0_labels = np.array([0] * nEvents + [1] * nEvents)\n",
    "np.random.seed(4)\n",
    "permutation = np.random.permutation(2*nEvents)\n",
    "bkg_h0_event_list = bkg_h0_event_list[permutation]\n",
    "bkg_h0_labels = bkg_h0_labels[permutation]\n",
    "bkg_h0_dm = calcOTDistance(bkg_h0_event_list, bkg_h0_event_list, OTSCHEME, '2D', Matrix=True)\n",
    "\n",
    "neighbor_list = [3,4,5, 10, 12, 14, 16, 18, 20, 25, 30, 40, 50, 60, 70, 80, 90]\n",
    "best_auc, best_k_neighbor, best_model, auc_list = kNN_with_distance_matrix(bkg_h0_dm, bkg_h0_labels, nEvents//2, nEvents//4, nEvents//4,neighbor_list, AUC_list=True)\n",
    "print()\n",
    "print(best_auc, best_k_neighbor)\n",
    "print(auc_list)\n",
    "\n",
    "bkg_hch_event_list = np.concatenate((mid_pT_events_bkg_3, mid_pT_events_hch_3))\n",
    "bkg_hch_labels = np.array([0] * nEvents + [1] * nEvents)\n",
    "np.random.seed(4)\n",
    "permutation = np.random.permutation(2*nEvents)\n",
    "bkg_hch_event_list = bkg_hch_event_list[permutation]\n",
    "bkg_hch_labels = bkg_hch_labels[permutation]\n",
    "bkg_hch_dm = calcOTDistance(bkg_hch_event_list, bkg_hch_event_list, OTSCHEME, '2D', Matrix=True)\n",
    "\n",
    "neighbor_list = [3,4,5, 10, 12, 14, 16, 18, 20, 25, 30, 40, 50, 60, 70, 80, 90]\n",
    "best_auc, best_k_neighbor, best_model, auc_list = kNN_with_distance_matrix(bkg_hch_dm, bkg_hch_labels, nEvents//2, nEvents//4, nEvents//4,neighbor_list, AUC_list=True)\n",
    "print()\n",
    "print(best_auc, best_k_neighbor)\n",
    "print(auc_list)\n",
    "\n",
    "bkg_LQ_event_list = np.concatenate((mid_pT_events_bkg_3, mid_pT_events_LQ_3))\n",
    "bkg_LQ_labels = np.array([0] * nEvents + [1] * nEvents)\n",
    "np.random.seed(4)\n",
    "permutation = np.random.permutation(2*nEvents)\n",
    "bkg_LQ_event_list = bkg_LQ_event_list[permutation]\n",
    "bkg_LQ_labels = bkg_LQ_labels[permutation]\n",
    "bkg_LQ_dm = calcOTDistance(bkg_LQ_event_list, bkg_LQ_event_list, OTSCHEME, '2D', Matrix=True)\n",
    "\n",
    "neighbor_list = [3,4,5, 10, 12, 14, 16, 18, 20, 25, 30, 40, 50, 60, 70, 80, 90]\n",
    "best_auc, best_k_neighbor, best_model, auc_list = kNN_with_distance_matrix(bkg_LQ_dm, bkg_LQ_labels, nEvents//2, nEvents//4, nEvents//4,neighbor_list, AUC_list=True)\n",
    "print()\n",
    "print(best_auc, best_k_neighbor)\n",
    "print(auc_list)"
   ]
  },
  {
   "cell_type": "code",
   "execution_count": null,
   "metadata": {
    "id": "Rq5A3fftM2FV"
   },
   "outputs": [],
   "source": [
    "total_event_pT_bkg = np.sum(bkg_data[:, :, 0], axis=1)\n",
    "# Plotting the histogram\n",
    "plt.hist(total_event_pT_bkg, bins=1000, edgecolor='black')  # 'bins' determines the number of bins (intervals) in the histogram\n",
    "\n",
    "# Adding title and labels\n",
    "plt.title('Histogram of Data')\n",
    "plt.xlabel('Value')\n",
    "plt.ylabel('Frequency')\n",
    "# plt.yscale('log')\n",
    "plt.xlim(0,1000)\n",
    "\n",
    "# Display the plot\n",
    "plt.show()"
   ]
  },
  {
   "cell_type": "markdown",
   "metadata": {
    "id": "yFrOnTuTNUll"
   },
   "source": [
    "# Mid range 4 $p_T$(200 GeV - 500 GeV)"
   ]
  },
  {
   "cell_type": "code",
   "execution_count": null,
   "metadata": {
    "id": "d4as0ycjNDjU"
   },
   "outputs": [],
   "source": [
    "total_event_pT_bkg = np.sum(bkg_data[:, :, 0], axis=1)\n",
    "mask = (total_event_pT_bkg >= 200) & (total_event_pT_bkg <= 500)\n",
    "mid_pT_events_bkg_3 = randomDataSample(bkg_data[mask],nEvents, random_state)\n",
    "\n",
    "\n",
    "total_event_pT_A = np.sum(sig_data['sig_A'][:,:,0],axis = 1)\n",
    "mask = (total_event_pT_A >= 200) & (total_event_pT_A <= 500)\n",
    "mid_pT_events_A_3 = randomDataSample(sig_data['sig_A'][mask],nEvents, random_state)\n",
    "\n",
    "\n",
    "total_event_pT_h0 = np.sum(sig_data['sig_h0'][:,:,0],axis = 1)\n",
    "mask = (total_event_pT_h0 >= 200) & (total_event_pT_h0 <= 500)\n",
    "mid_pT_events_h0_3 = randomDataSample(sig_data['sig_h0'][mask],nEvents, random_state)\n",
    "\n",
    "\n",
    "total_event_pT_hch = np.sum(sig_data['sig_hch'][:,:,0],axis = 1)\n",
    "mask = (total_event_pT_hch >= 200) & (total_event_pT_hch <= 500)\n",
    "mid_pT_events_hch_3 = randomDataSample(sig_data['sig_hch'][mask],nEvents, random_state)\n",
    "\n",
    "\n",
    "total_event_pT_LQ = np.sum(sig_data['sig_LQ'][:,:,0],axis = 1)\n",
    "mask = (total_event_pT_LQ >= 200) & (total_event_pT_LQ <= 500)\n",
    "mid_pT_events_LQ_3 = randomDataSample(sig_data['sig_LQ'][mask],nEvents, random_state)"
   ]
  },
  {
   "cell_type": "code",
   "execution_count": null,
   "metadata": {
    "id": "XNEZmpzXOAyQ"
   },
   "outputs": [],
   "source": [
    "bkg_A_event_list = np.concatenate((mid_pT_events_bkg_3, mid_pT_events_A_3))\n",
    "bkg_A_labels = np.array([0] * nEvents + [1] * nEvents)\n",
    "np.random.seed(4)\n",
    "permutation = np.random.permutation(2*nEvents)\n",
    "bkg_A_event_list = bkg_A_event_list[permutation]\n",
    "bkg_A_labels = bkg_A_labels[permutation]\n",
    "bkg_A_dm = calcOTDistance(bkg_A_event_list, bkg_A_event_list, OTSCHEME, '2D', Matrix=True)\n",
    "\n",
    "neighbor_list = [3,4,5, 10, 12, 14, 16, 18, 20, 25, 30, 40, 50, 60, 70, 80, 90]\n",
    "best_auc, best_k_neighbor, best_model, auc_list = kNN_with_distance_matrix(bkg_A_dm, bkg_A_labels, nEvents//2, nEvents//4, nEvents//4,neighbor_list, AUC_list=True)\n",
    "print()\n",
    "print(best_auc, best_k_neighbor)\n",
    "print(auc_list)\n",
    "\n",
    "bkg_h0_event_list = np.concatenate((mid_pT_events_bkg_3, mid_pT_events_h0_3))\n",
    "bkg_h0_labels = np.array([0] * nEvents + [1] * nEvents)\n",
    "np.random.seed(4)\n",
    "permutation = np.random.permutation(2*nEvents)\n",
    "bkg_h0_event_list = bkg_h0_event_list[permutation]\n",
    "bkg_h0_labels = bkg_h0_labels[permutation]\n",
    "bkg_h0_dm = calcOTDistance(bkg_h0_event_list, bkg_h0_event_list, OTSCHEME, '2D', Matrix=True)\n",
    "\n",
    "neighbor_list = [3,4,5, 10, 12, 14, 16, 18, 20, 25, 30, 40, 50, 60, 70, 80, 90]\n",
    "best_auc, best_k_neighbor, best_model, auc_list = kNN_with_distance_matrix(bkg_h0_dm, bkg_h0_labels, nEvents//2, nEvents//4, nEvents//4,neighbor_list, AUC_list=True)\n",
    "print()\n",
    "print(best_auc, best_k_neighbor)\n",
    "print(auc_list)\n",
    "\n",
    "bkg_hch_event_list = np.concatenate((mid_pT_events_bkg_3, mid_pT_events_hch_3))\n",
    "bkg_hch_labels = np.array([0] * nEvents + [1] * nEvents)\n",
    "np.random.seed(4)\n",
    "permutation = np.random.permutation(2*nEvents)\n",
    "bkg_hch_event_list = bkg_hch_event_list[permutation]\n",
    "bkg_hch_labels = bkg_hch_labels[permutation]\n",
    "bkg_hch_dm = calcOTDistance(bkg_hch_event_list, bkg_hch_event_list, OTSCHEME, '2D', Matrix=True)\n",
    "\n",
    "neighbor_list = [3,4,5, 10, 12, 14, 16, 18, 20, 25, 30, 40, 50, 60, 70, 80, 90]\n",
    "best_auc, best_k_neighbor, best_model, auc_list = kNN_with_distance_matrix(bkg_hch_dm, bkg_hch_labels, nEvents//2, nEvents//4, nEvents//4,neighbor_list, AUC_list=True)\n",
    "print()\n",
    "print(best_auc, best_k_neighbor)\n",
    "print(auc_list)\n",
    "\n",
    "bkg_LQ_event_list = np.concatenate((mid_pT_events_bkg_3, mid_pT_events_LQ_3))\n",
    "bkg_LQ_labels = np.array([0] * nEvents + [1] * nEvents)\n",
    "np.random.seed(4)\n",
    "permutation = np.random.permutation(2*nEvents)\n",
    "bkg_LQ_event_list = bkg_LQ_event_list[permutation]\n",
    "bkg_LQ_labels = bkg_LQ_labels[permutation]\n",
    "bkg_LQ_dm = calcOTDistance(bkg_LQ_event_list, bkg_LQ_event_list, OTSCHEME, '2D', Matrix=True)\n",
    "\n",
    "neighbor_list = [3,4,5, 10, 12, 14, 16, 18, 20, 25, 30, 40, 50, 60, 70, 80, 90]\n",
    "best_auc, best_k_neighbor, best_model, auc_list = kNN_with_distance_matrix(bkg_LQ_dm, bkg_LQ_labels, nEvents//2, nEvents//4, nEvents//4,neighbor_list, AUC_list=True)\n",
    "print()\n",
    "print(best_auc, best_k_neighbor)\n",
    "print(auc_list)"
   ]
  },
  {
   "cell_type": "markdown",
   "metadata": {
    "id": "08o5f6CEPxfk"
   },
   "source": [
    "# High range (500 - 1000)"
   ]
  },
  {
   "cell_type": "code",
   "execution_count": null,
   "metadata": {
    "id": "AbMcw17TP8cN"
   },
   "outputs": [],
   "source": [
    "mask = (total_event_pT_bkg >= 500) & (total_event_pT_bkg <= 1000)\n",
    "mid_pT_events_bkg_3 = randomDataSample(bkg_data[mask],nEvents, random_state)\n",
    "\n",
    "mask = (total_event_pT_A >= 500) & (total_event_pT_A <= 1000)\n",
    "mid_pT_events_A_3 = randomDataSample(sig_data['sig_A'][mask],nEvents, random_state)\n",
    "\n",
    "mask = (total_event_pT_h0 >= 500) & (total_event_pT_h0 <= 1000)\n",
    "mid_pT_events_h0_3 = randomDataSample(sig_data['sig_h0'][mask],nEvents, random_state)\n",
    "\n",
    "mask = (total_event_pT_hch >= 500) & (total_event_pT_hch <= 1000)\n",
    "mid_pT_events_hch_3 = randomDataSample(sig_data['sig_hch'][mask],nEvents, random_state)\n",
    "\n",
    "mask = (total_event_pT_LQ >= 500) & (total_event_pT_LQ <= 1000)\n",
    "mid_pT_events_LQ_3 = randomDataSample(sig_data['sig_LQ'][mask],nEvents, random_state)"
   ]
  },
  {
   "cell_type": "code",
   "execution_count": null,
   "metadata": {
    "id": "_OAb57DoQOYE",
    "tags": []
   },
   "outputs": [],
   "source": [
    "bkg_A_event_list = np.concatenate((mid_pT_events_bkg_3, mid_pT_events_A_3))\n",
    "bkg_A_labels = np.array([0] * nEvents + [1] * nEvents)\n",
    "np.random.seed(4)\n",
    "permutation = np.random.permutation(2*nEvents)\n",
    "bkg_A_event_list = bkg_A_event_list[permutation]\n",
    "bkg_A_labels = bkg_A_labels[permutation]\n",
    "bkg_A_dm = calcOTDistance(bkg_A_event_list, bkg_A_event_list, OTSCHEME, '2D', Matrix=True)\n",
    "\n",
    "neighbor_list = [3,4,5, 10, 12, 14, 16, 18, 20, 25, 30, 40, 50, 60, 70, 80, 90]\n",
    "best_auc, best_k_neighbor, best_model, auc_list = kNN_with_distance_matrix(bkg_A_dm, bkg_A_labels, nEvents//2, nEvents//4, nEvents//4,neighbor_list, AUC_list=True)\n",
    "print()\n",
    "print(best_auc, best_k_neighbor)\n",
    "print(auc_list)\n",
    "\n",
    "bkg_h0_event_list = np.concatenate((mid_pT_events_bkg_3, mid_pT_events_h0_3))\n",
    "bkg_h0_labels = np.array([0] * nEvents + [1] * nEvents)\n",
    "np.random.seed(4)\n",
    "permutation = np.random.permutation(2*nEvents)\n",
    "bkg_h0_event_list = bkg_h0_event_list[permutation]\n",
    "bkg_h0_labels = bkg_h0_labels[permutation]\n",
    "bkg_h0_dm = calcOTDistance(bkg_h0_event_list, bkg_h0_event_list, OTSCHEME, '2D', Matrix=True)\n",
    "\n",
    "neighbor_list = [3,4,5, 10, 12, 14, 16, 18, 20, 25, 30, 40, 50, 60, 70, 80, 90]\n",
    "best_auc, best_k_neighbor, best_model, auc_list = kNN_with_distance_matrix(bkg_h0_dm, bkg_h0_labels, nEvents//2, nEvents//4, nEvents//4,neighbor_list, AUC_list=True)\n",
    "print()\n",
    "print(best_auc, best_k_neighbor)\n",
    "print(auc_list)\n",
    "\n",
    "bkg_hch_event_list = np.concatenate((mid_pT_events_bkg_3, mid_pT_events_hch_3))\n",
    "bkg_hch_labels = np.array([0] * nEvents + [1] * nEvents)\n",
    "np.random.seed(4)\n",
    "permutation = np.random.permutation(2*nEvents)\n",
    "bkg_hch_event_list = bkg_hch_event_list[permutation]\n",
    "bkg_hch_labels = bkg_hch_labels[permutation]\n",
    "bkg_hch_dm = calcOTDistance(bkg_hch_event_list, bkg_hch_event_list, OTSCHEME, '2D', Matrix=True)\n",
    "\n",
    "neighbor_list = [3,4,5, 10, 12, 14, 16, 18, 20, 25, 30, 40, 50, 60, 70, 80, 90]\n",
    "best_auc, best_k_neighbor, best_model, auc_list = kNN_with_distance_matrix(bkg_hch_dm, bkg_hch_labels, nEvents//2, nEvents//4, nEvents//4,neighbor_list, AUC_list=True)\n",
    "print()\n",
    "print(best_auc, best_k_neighbor)\n",
    "print(auc_list)\n",
    "\n",
    "bkg_LQ_event_list = np.concatenate((mid_pT_events_bkg_3, mid_pT_events_LQ_3))\n",
    "bkg_LQ_labels = np.array([0] * nEvents + [1] * nEvents)\n",
    "np.random.seed(4)\n",
    "permutation = np.random.permutation(2*nEvents)\n",
    "bkg_LQ_event_list = bkg_LQ_event_list[permutation]\n",
    "bkg_LQ_labels = bkg_LQ_labels[permutation]\n",
    "bkg_LQ_dm = calcOTDistance(bkg_LQ_event_list, bkg_LQ_event_list, OTSCHEME, '2D', Matrix=True)\n",
    "\n",
    "neighbor_list = [3,4,5, 10, 12, 14, 16, 18, 20, 25, 30, 40, 50, 60, 70, 80, 90]\n",
    "best_auc, best_k_neighbor, best_model, auc_list = kNN_with_distance_matrix(bkg_LQ_dm, bkg_LQ_labels, nEvents//2, nEvents//4, nEvents//4,neighbor_list, AUC_list=True)\n",
    "print()\n",
    "print(best_auc, best_k_neighbor)\n",
    "print(auc_list)"
   ]
  }
 ],
 "metadata": {
  "colab": {
   "authorship_tag": "ABX9TyMfzyRMk1fbS0iIqhPEnHQA",
   "provenance": [],
   "toc_visible": true
  },
  "kernelspec": {
   "display_name": "Python 3 (ipykernel)",
   "language": "python",
   "name": "python3"
  },
  "language_info": {
   "codemirror_mode": {
    "name": "ipython",
    "version": 3
   },
   "file_extension": ".py",
   "mimetype": "text/x-python",
   "name": "python",
   "nbconvert_exporter": "python",
   "pygments_lexer": "ipython3",
   "version": "3.11.4"
  }
 },
 "nbformat": 4,
 "nbformat_minor": 4
}
