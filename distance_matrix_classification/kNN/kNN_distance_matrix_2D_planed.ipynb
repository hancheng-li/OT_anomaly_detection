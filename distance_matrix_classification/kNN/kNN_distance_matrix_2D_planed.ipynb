{
 "cells": [
  {
   "cell_type": "markdown",
   "metadata": {
    "id": "HzPInTTSYm2D",
    "tags": []
   },
   "source": [
    "# Import libraries"
   ]
  },
  {
   "cell_type": "code",
   "execution_count": 1,
   "metadata": {
    "colab": {
     "base_uri": "https://localhost:8080/"
    },
    "executionInfo": {
     "elapsed": 15521,
     "status": "ok",
     "timestamp": 1697237483540,
     "user": {
      "displayName": "Hancheng Li",
      "userId": "16561302137020690535"
     },
     "user_tz": 420
    },
    "id": "Sm0J6usIYrxN",
    "outputId": "2e7cf2ec-503e-4497-fddb-c6ecfc53c65f",
    "tags": []
   },
   "outputs": [],
   "source": [
    "import numpy as np\n",
    "from numpy.random import RandomState\n",
    "import numpy.ma as ma\n",
    "\n",
    "import matplotlib.pyplot as plt\n",
    "from matplotlib.gridspec import GridSpec\n",
    "%matplotlib inline\n",
    "\n",
    "import h5py\n",
    "import ot\n",
    "from numpy.random import Generator, PCG64\n",
    "from sklearn import metrics\n",
    "import itertools\n",
    "\n",
    "from sklearn.svm import SVC\n",
    "from sklearn.model_selection import train_test_split\n",
    "from sklearn.metrics import roc_curve, roc_auc_score\n",
    "from sklearn.svm import LinearSVC\n",
    "from sklearn.calibration import CalibratedClassifierCV\n",
    "from sklearn.neighbors import KNeighborsClassifier\n",
    "from tqdm import tqdm"
   ]
  },
  {
   "cell_type": "code",
   "execution_count": 2,
   "metadata": {
    "executionInfo": {
     "elapsed": 3,
     "status": "ok",
     "timestamp": 1697237502373,
     "user": {
      "displayName": "Hancheng Li",
      "userId": "16561302137020690535"
     },
     "user_tz": 420
    },
    "id": "RFyfcq8A-sPF",
    "tags": []
   },
   "outputs": [],
   "source": [
    "sigAliasList    = ['sig_A', 'sig_h0', 'sig_hch', 'sig_LQ']\n",
    "sigFilenameList = ['Ato4l_lepFilter_13TeV_filtered.h5', 'hToTauTau_13TeV_PU20_filtered.h5', 'hChToTauNu_13TeV_PU20_filtered.h5', 'leptoquark_LOWMASS_lepFilter_13TeV_filtered.h5']"
   ]
  },
  {
   "cell_type": "code",
   "execution_count": 3,
   "metadata": {
    "executionInfo": {
     "elapsed": 3,
     "status": "ok",
     "timestamp": 1697237502373,
     "user": {
      "displayName": "Hancheng Li",
      "userId": "16561302137020690535"
     },
     "user_tz": 420
    },
    "id": "GHoYrlq5-fFO",
    "tags": []
   },
   "outputs": [],
   "source": [
    "#-- Set base directory and data directory path --#\n",
    "basePath   = './'\n",
    "dataPath   = 'Data/'\n",
    "\n",
    "bkgPath    = basePath+dataPath+'background_for_training.h5'\n",
    "sigPathList = []\n",
    "for x in sigFilenameList:\n",
    "  sigPathList.append(basePath+dataPath+x)"
   ]
  },
  {
   "cell_type": "markdown",
   "metadata": {
    "id": "-eXKRtFSi-HW",
    "tags": []
   },
   "source": [
    "# Functions"
   ]
  },
  {
   "cell_type": "code",
   "execution_count": 4,
   "metadata": {
    "colab": {
     "base_uri": "https://localhost:8080/"
    },
    "executionInfo": {
     "elapsed": 7941,
     "status": "ok",
     "timestamp": 1697237510313,
     "user": {
      "displayName": "Hancheng Li",
      "userId": "16561302137020690535"
     },
     "user_tz": 420
    },
    "id": "VB6jsmDyQKDm",
    "outputId": "29994d0c-626b-46e8-cb71-1765b21d6e61",
    "tags": []
   },
   "outputs": [],
   "source": [
    "%run centralFunctions.ipynb"
   ]
  },
  {
   "cell_type": "markdown",
   "metadata": {
    "id": "RYNI1N6rPCKE"
   },
   "source": [
    "# Loading Data"
   ]
  },
  {
   "cell_type": "code",
   "execution_count": 5,
   "metadata": {
    "executionInfo": {
     "elapsed": 1225,
     "status": "ok",
     "timestamp": 1697237511963,
     "user": {
      "displayName": "Hancheng Li",
      "userId": "16561302137020690535"
     },
     "user_tz": 420
    },
    "id": "Aa4Q0Zho-QtR",
    "tags": []
   },
   "outputs": [],
   "source": [
    "dataDict = {}\n",
    "dataDict['bkg'] = h5py.File(bkgPath, 'r')\n",
    "\n",
    "for i in range(len(sigAliasList)):\n",
    "  alias   = sigAliasList[i]\n",
    "  sigPath = sigPathList[i]\n",
    "  dataDict[alias] = h5py.File(sigPath, 'r')"
   ]
  },
  {
   "cell_type": "code",
   "execution_count": 6,
   "metadata": {
    "executionInfo": {
     "elapsed": 43685,
     "status": "ok",
     "timestamp": 1697237555970,
     "user": {
      "displayName": "Hancheng Li",
      "userId": "16561302137020690535"
     },
     "user_tz": 420
    },
    "id": "a95ujWJO_Anp",
    "tags": []
   },
   "outputs": [],
   "source": [
    "bkg_data = dataDict['bkg']['Particles'][:,:,0:3]\n",
    "sig_data = {}\n",
    "\n",
    "for alias in sigAliasList:\n",
    "  sig_data[alias] = dataDict[alias]['Particles'][:,:,0:3]"
   ]
  },
  {
   "cell_type": "markdown",
   "metadata": {
    "id": "BIjh0rhNDhWd"
   },
   "source": [
    "# Low $p_T$ range"
   ]
  },
  {
   "cell_type": "code",
   "execution_count": 7,
   "metadata": {
    "executionInfo": {
     "elapsed": 184,
     "status": "ok",
     "timestamp": 1697237651805,
     "user": {
      "displayName": "Hancheng Li",
      "userId": "16561302137020690535"
     },
     "user_tz": 420
    },
    "id": "dZVT5d7gDnML",
    "tags": []
   },
   "outputs": [],
   "source": [
    "nEvents = 100\n",
    "random_state = Generator(PCG64(123))\n",
    "OTSCHEME = {}\n",
    "OTSCHEME['normPT'] = True\n",
    "OTSCHEME['balanced'] = True\n",
    "OTSCHEME['noZeroPad'] = False\n",
    "OTSCHEME['individualOT'] = False"
   ]
  },
  {
   "cell_type": "code",
   "execution_count": 8,
   "metadata": {
    "tags": []
   },
   "outputs": [
    {
     "name": "stderr",
     "output_type": "stream",
     "text": [
      "100%|██████████| 4000000/4000000 [04:46<00:00, 13971.56it/s]\n",
      "Fitting Models: 100%|██████████| 40/40 [00:00<00:00, 77.27it/s]\n",
      "Fitting Models: 100%|██████████| 40/40 [00:00<00:00, 80.20it/s] \n",
      "Fitting Models: 100%|██████████| 40/40 [00:00<00:00, 79.05it/s] \n",
      "Fitting Models: 100%|██████████| 40/40 [00:00<00:00, 78.93it/s] \n",
      "Fitting Models: 100%|██████████| 40/40 [00:00<00:00, 69.70it/s]\n"
     ]
    },
    {
     "name": "stdout",
     "output_type": "stream",
     "text": [
      "0.6193241561554373 0.013909554559565948 25.0 12.649110640673518\n"
     ]
    },
    {
     "name": "stderr",
     "output_type": "stream",
     "text": [
      "100%|██████████| 4000000/4000000 [04:46<00:00, 13944.60it/s]\n",
      "Fitting Models: 100%|██████████| 40/40 [00:00<00:00, 77.13it/s]\n",
      "Fitting Models: 100%|██████████| 40/40 [00:00<00:00, 78.73it/s] \n",
      "Fitting Models: 100%|██████████| 40/40 [00:00<00:00, 79.37it/s] \n",
      "Fitting Models: 100%|██████████| 40/40 [00:00<00:00, 78.88it/s] \n",
      "Fitting Models: 100%|██████████| 40/40 [00:00<00:00, 75.99it/s]\n"
     ]
    },
    {
     "name": "stdout",
     "output_type": "stream",
     "text": [
      "0.5560362022323223 0.026013491872497616 85.0 87.40709353364863\n"
     ]
    },
    {
     "name": "stderr",
     "output_type": "stream",
     "text": [
      "100%|██████████| 4000000/4000000 [04:47<00:00, 13908.51it/s]\n",
      "Fitting Models: 100%|██████████| 40/40 [00:00<00:00, 76.43it/s]\n",
      "Fitting Models: 100%|██████████| 40/40 [00:00<00:00, 77.06it/s] \n",
      "Fitting Models: 100%|██████████| 40/40 [00:00<00:00, 76.78it/s] \n",
      "Fitting Models: 100%|██████████| 40/40 [00:00<00:00, 80.17it/s] \n",
      "Fitting Models: 100%|██████████| 40/40 [00:00<00:00, 73.63it/s] \n"
     ]
    },
    {
     "name": "stdout",
     "output_type": "stream",
     "text": [
      "0.5752272736176252 0.037555171735308014 115.0 127.59310326189265\n"
     ]
    },
    {
     "name": "stderr",
     "output_type": "stream",
     "text": [
      "100%|██████████| 4000000/4000000 [04:47<00:00, 13928.89it/s]\n",
      "Fitting Models: 100%|██████████| 40/40 [00:00<00:00, 76.09it/s] \n",
      "Fitting Models: 100%|██████████| 40/40 [00:00<00:00, 77.54it/s] \n",
      "Fitting Models: 100%|██████████| 40/40 [00:00<00:00, 78.89it/s] \n",
      "Fitting Models: 100%|██████████| 40/40 [00:00<00:00, 79.17it/s] \n",
      "Fitting Models: 100%|██████████| 40/40 [00:00<00:00, 75.09it/s]\n"
     ]
    },
    {
     "name": "stdout",
     "output_type": "stream",
     "text": [
      "0.6840947062389287 0.03150385066000139 25.0 40.0\n"
     ]
    },
    {
     "name": "stderr",
     "output_type": "stream",
     "text": [
      "100%|██████████| 4000000/4000000 [04:45<00:00, 13990.30it/s]\n",
      "Fitting Models: 100%|██████████| 40/40 [00:00<00:00, 76.64it/s] \n",
      "Fitting Models: 100%|██████████| 40/40 [00:00<00:00, 77.99it/s] \n",
      "Fitting Models: 100%|██████████| 40/40 [00:00<00:00, 78.11it/s] \n",
      "Fitting Models: 100%|██████████| 40/40 [00:00<00:00, 77.44it/s] \n",
      "Fitting Models: 100%|██████████| 40/40 [00:00<00:00, 76.89it/s]\n"
     ]
    },
    {
     "name": "stdout",
     "output_type": "stream",
     "text": [
      "0.797380753997553 0.008993921054521814 43.0 36.55133376499413\n"
     ]
    },
    {
     "name": "stderr",
     "output_type": "stream",
     "text": [
      "100%|██████████| 4000000/4000000 [04:46<00:00, 13967.24it/s]\n",
      "Fitting Models: 100%|██████████| 40/40 [00:00<00:00, 70.35it/s]\n",
      "Fitting Models: 100%|██████████| 40/40 [00:00<00:00, 73.71it/s]\n",
      "Fitting Models: 100%|██████████| 40/40 [00:00<00:00, 80.99it/s] \n",
      "Fitting Models: 100%|██████████| 40/40 [00:00<00:00, 74.57it/s]\n",
      "Fitting Models: 100%|██████████| 40/40 [00:00<00:00, 76.61it/s]\n"
     ]
    },
    {
     "name": "stdout",
     "output_type": "stream",
     "text": [
      "0.6761395554738507 0.035688653156475125 57.0 49.95998398718719\n"
     ]
    },
    {
     "name": "stderr",
     "output_type": "stream",
     "text": [
      "100%|██████████| 4000000/4000000 [04:47<00:00, 13914.39it/s]\n",
      "Fitting Models: 100%|██████████| 40/40 [00:00<00:00, 75.91it/s] \n",
      "Fitting Models: 100%|██████████| 40/40 [00:00<00:00, 76.88it/s] \n",
      "Fitting Models: 100%|██████████| 40/40 [00:00<00:00, 80.70it/s] \n",
      "Fitting Models: 100%|██████████| 40/40 [00:00<00:00, 77.59it/s] \n",
      "Fitting Models: 100%|██████████| 40/40 [00:00<00:00, 77.86it/s] \n"
     ]
    },
    {
     "name": "stdout",
     "output_type": "stream",
     "text": [
      "0.607118567366921 0.026939186162531433 75.0 45.16635916254486\n"
     ]
    },
    {
     "name": "stderr",
     "output_type": "stream",
     "text": [
      "100%|██████████| 4000000/4000000 [04:47<00:00, 13931.42it/s]\n",
      "Fitting Models: 100%|██████████| 40/40 [00:00<00:00, 69.75it/s]\n",
      "Fitting Models: 100%|██████████| 40/40 [00:00<00:00, 74.37it/s] \n",
      "Fitting Models: 100%|██████████| 40/40 [00:00<00:00, 77.41it/s] \n",
      "Fitting Models: 100%|██████████| 40/40 [00:00<00:00, 78.93it/s] \n",
      "Fitting Models: 100%|██████████| 40/40 [00:00<00:00, 78.44it/s] \n"
     ]
    },
    {
     "name": "stdout",
     "output_type": "stream",
     "text": [
      "0.7468665866068318 0.021490142570251385 65.0 30.331501776206203\n"
     ]
    },
    {
     "name": "stderr",
     "output_type": "stream",
     "text": [
      "100%|██████████| 4000000/4000000 [04:44<00:00, 14055.29it/s]\n",
      "Fitting Models: 100%|██████████| 40/40 [00:00<00:00, 77.04it/s] \n",
      "Fitting Models: 100%|██████████| 40/40 [00:00<00:00, 76.45it/s] \n",
      "Fitting Models: 100%|██████████| 40/40 [00:00<00:00, 74.01it/s] \n",
      "Fitting Models: 100%|██████████| 40/40 [00:00<00:00, 65.33it/s]\n",
      "Fitting Models: 100%|██████████| 40/40 [00:00<00:00, 74.93it/s]\n"
     ]
    },
    {
     "name": "stdout",
     "output_type": "stream",
     "text": [
      "0.7011452113981134 0.005785647854299646 15.0 8.94427190999916\n"
     ]
    },
    {
     "name": "stderr",
     "output_type": "stream",
     "text": [
      "100%|██████████| 4000000/4000000 [04:46<00:00, 13951.53it/s]\n",
      "Fitting Models: 100%|██████████| 40/40 [00:00<00:00, 77.15it/s] \n",
      "Fitting Models: 100%|██████████| 40/40 [00:00<00:00, 77.82it/s] \n",
      "Fitting Models: 100%|██████████| 40/40 [00:00<00:00, 68.22it/s]\n",
      "Fitting Models: 100%|██████████| 40/40 [00:00<00:00, 75.86it/s]\n",
      "Fitting Models: 100%|██████████| 40/40 [00:00<00:00, 76.19it/s] \n"
     ]
    },
    {
     "name": "stdout",
     "output_type": "stream",
     "text": [
      "0.5667354772174112 0.04953517731908581 89.0 98.91410415102591\n"
     ]
    },
    {
     "name": "stderr",
     "output_type": "stream",
     "text": [
      "100%|██████████| 4000000/4000000 [04:46<00:00, 13937.83it/s]\n",
      "Fitting Models: 100%|██████████| 40/40 [00:00<00:00, 75.54it/s]\n",
      "Fitting Models: 100%|██████████| 40/40 [00:00<00:00, 78.73it/s] \n",
      "Fitting Models: 100%|██████████| 40/40 [00:00<00:00, 80.73it/s] \n",
      "Fitting Models: 100%|██████████| 40/40 [00:00<00:00, 79.96it/s] \n",
      "Fitting Models: 100%|██████████| 40/40 [00:00<00:00, 74.79it/s]\n"
     ]
    },
    {
     "name": "stdout",
     "output_type": "stream",
     "text": [
      "0.6015605971417531 0.03723336061553597 31.0 18.547236990991408\n"
     ]
    },
    {
     "name": "stderr",
     "output_type": "stream",
     "text": [
      "100%|██████████| 4000000/4000000 [04:48<00:00, 13856.90it/s]\n",
      "Fitting Models: 100%|██████████| 40/40 [00:00<00:00, 72.65it/s]\n",
      "Fitting Models: 100%|██████████| 40/40 [00:00<00:00, 80.02it/s] \n",
      "Fitting Models: 100%|██████████| 40/40 [00:00<00:00, 76.92it/s] \n",
      "Fitting Models: 100%|██████████| 40/40 [00:00<00:00, 79.93it/s] \n",
      "Fitting Models: 100%|██████████| 40/40 [00:00<00:00, 74.00it/s]\n"
     ]
    },
    {
     "name": "stdout",
     "output_type": "stream",
     "text": [
      "0.6883180348051865 0.015572400289487753 63.0 47.07440918375928\n"
     ]
    },
    {
     "name": "stderr",
     "output_type": "stream",
     "text": [
      "100%|██████████| 4000000/4000000 [04:44<00:00, 14038.20it/s]\n",
      "Fitting Models: 100%|██████████| 40/40 [00:00<00:00, 80.82it/s] \n",
      "Fitting Models: 100%|██████████| 40/40 [00:00<00:00, 77.04it/s] \n",
      "Fitting Models: 100%|██████████| 40/40 [00:00<00:00, 80.70it/s] \n",
      "Fitting Models: 100%|██████████| 40/40 [00:00<00:00, 76.44it/s] \n",
      "Fitting Models: 100%|██████████| 40/40 [00:00<00:00, 79.89it/s] \n"
     ]
    },
    {
     "name": "stdout",
     "output_type": "stream",
     "text": [
      "0.6251299810860171 0.020683095471606176 59.0 24.979991993593593\n"
     ]
    },
    {
     "name": "stderr",
     "output_type": "stream",
     "text": [
      "100%|██████████| 4000000/4000000 [04:45<00:00, 13992.27it/s]\n",
      "Fitting Models: 100%|██████████| 40/40 [00:00<00:00, 79.32it/s] \n",
      "Fitting Models: 100%|██████████| 40/40 [00:00<00:00, 78.65it/s] \n",
      "Fitting Models: 100%|██████████| 40/40 [00:00<00:00, 76.67it/s] \n",
      "Fitting Models: 100%|██████████| 40/40 [00:00<00:00, 77.09it/s] \n",
      "Fitting Models: 100%|██████████| 40/40 [00:00<00:00, 79.09it/s]\n"
     ]
    },
    {
     "name": "stdout",
     "output_type": "stream",
     "text": [
      "0.5761864516416402 0.02572489625664325 51.0 29.393876913398138\n"
     ]
    },
    {
     "name": "stderr",
     "output_type": "stream",
     "text": [
      "100%|██████████| 4000000/4000000 [04:46<00:00, 13985.04it/s]\n",
      "Fitting Models: 100%|██████████| 40/40 [00:00<00:00, 78.91it/s] \n",
      "Fitting Models: 100%|██████████| 40/40 [00:00<00:00, 77.47it/s] \n",
      "Fitting Models: 100%|██████████| 40/40 [00:00<00:00, 77.96it/s] \n",
      "Fitting Models: 100%|██████████| 40/40 [00:00<00:00, 77.86it/s] \n",
      "Fitting Models: 100%|██████████| 40/40 [00:00<00:00, 81.40it/s] \n"
     ]
    },
    {
     "name": "stdout",
     "output_type": "stream",
     "text": [
      "0.6665967908890511 0.021584085318690237 51.0 28.705400188814647\n"
     ]
    },
    {
     "name": "stderr",
     "output_type": "stream",
     "text": [
      "100%|██████████| 4000000/4000000 [04:45<00:00, 14010.59it/s]\n",
      "Fitting Models: 100%|██████████| 40/40 [00:00<00:00, 77.40it/s] \n",
      "Fitting Models: 100%|██████████| 40/40 [00:00<00:00, 77.88it/s] \n",
      "Fitting Models: 100%|██████████| 40/40 [00:00<00:00, 79.90it/s] \n",
      "Fitting Models: 100%|██████████| 40/40 [00:00<00:00, 76.25it/s] \n",
      "Fitting Models: 100%|██████████| 40/40 [00:00<00:00, 82.46it/s] \n"
     ]
    },
    {
     "name": "stdout",
     "output_type": "stream",
     "text": [
      "0.6981814488486944 0.019362046157130636 65.0 15.491933384829668\n"
     ]
    },
    {
     "name": "stderr",
     "output_type": "stream",
     "text": [
      "100%|██████████| 4000000/4000000 [04:44<00:00, 14052.55it/s]\n",
      "Fitting Models: 100%|██████████| 40/40 [00:00<00:00, 77.66it/s] \n",
      "Fitting Models: 100%|██████████| 40/40 [00:00<00:00, 76.68it/s] \n",
      "Fitting Models: 100%|██████████| 40/40 [00:00<00:00, 74.28it/s] \n",
      "Fitting Models: 100%|██████████| 40/40 [00:00<00:00, 76.42it/s] \n",
      "Fitting Models: 100%|██████████| 40/40 [00:00<00:00, 77.10it/s] \n"
     ]
    },
    {
     "name": "stdout",
     "output_type": "stream",
     "text": [
      "0.6258593862764383 0.024167621160884223 69.0 67.70524351924303\n"
     ]
    },
    {
     "name": "stderr",
     "output_type": "stream",
     "text": [
      "100%|██████████| 4000000/4000000 [04:44<00:00, 14053.22it/s]\n",
      "Fitting Models: 100%|██████████| 40/40 [00:00<00:00, 78.94it/s] \n",
      "Fitting Models: 100%|██████████| 40/40 [00:00<00:00, 78.34it/s] \n",
      "Fitting Models: 100%|██████████| 40/40 [00:00<00:00, 77.60it/s] \n",
      "Fitting Models: 100%|██████████| 40/40 [00:00<00:00, 79.76it/s] \n",
      "Fitting Models: 100%|██████████| 40/40 [00:00<00:00, 77.18it/s] \n"
     ]
    },
    {
     "name": "stdout",
     "output_type": "stream",
     "text": [
      "0.5841808994695518 0.006719364053971755 59.0 38.262252939417984\n"
     ]
    },
    {
     "name": "stderr",
     "output_type": "stream",
     "text": [
      "100%|██████████| 4000000/4000000 [04:43<00:00, 14111.99it/s]\n",
      "Fitting Models: 100%|██████████| 40/40 [00:00<00:00, 81.35it/s] \n",
      "Fitting Models: 100%|██████████| 40/40 [00:00<00:00, 76.52it/s] \n",
      "Fitting Models: 100%|██████████| 40/40 [00:00<00:00, 81.59it/s] \n",
      "Fitting Models: 100%|██████████| 40/40 [00:00<00:00, 76.52it/s] \n",
      "Fitting Models: 100%|██████████| 40/40 [00:00<00:00, 76.63it/s] \n"
     ]
    },
    {
     "name": "stdout",
     "output_type": "stream",
     "text": [
      "0.6885509588655917 0.020427488648409705 63.0 42.14261501141095\n"
     ]
    },
    {
     "name": "stderr",
     "output_type": "stream",
     "text": [
      "100%|██████████| 4000000/4000000 [04:44<00:00, 14072.39it/s]\n",
      "Fitting Models: 100%|██████████| 40/40 [00:00<00:00, 78.53it/s] \n",
      "Fitting Models: 100%|██████████| 40/40 [00:00<00:00, 81.35it/s] \n",
      "Fitting Models: 100%|██████████| 40/40 [00:00<00:00, 77.59it/s] \n",
      "Fitting Models: 100%|██████████| 40/40 [00:00<00:00, 80.45it/s] \n",
      "Fitting Models: 100%|██████████| 40/40 [00:00<00:00, 76.86it/s] \n"
     ]
    },
    {
     "name": "stdout",
     "output_type": "stream",
     "text": [
      "0.6166094819906541 0.020159541926277634 101.0 98.10198774744578\n"
     ]
    },
    {
     "name": "stderr",
     "output_type": "stream",
     "text": [
      "100%|██████████| 4000000/4000000 [04:47<00:00, 13908.07it/s]\n",
      "Fitting Models: 100%|██████████| 40/40 [00:00<00:00, 74.13it/s]\n",
      "Fitting Models: 100%|██████████| 40/40 [00:00<00:00, 79.30it/s] \n",
      "Fitting Models: 100%|██████████| 40/40 [00:00<00:00, 79.18it/s] \n",
      "Fitting Models: 100%|██████████| 40/40 [00:00<00:00, 78.28it/s] \n",
      "Fitting Models: 100%|██████████| 40/40 [00:00<00:00, 76.50it/s] \n"
     ]
    },
    {
     "name": "stdout",
     "output_type": "stream",
     "text": [
      "0.798913933102407 0.02230500501928155 29.0 10.198039027185569\n"
     ]
    },
    {
     "name": "stderr",
     "output_type": "stream",
     "text": [
      "100%|██████████| 4000000/4000000 [04:46<00:00, 13969.70it/s]\n",
      "Fitting Models: 100%|██████████| 40/40 [00:00<00:00, 75.15it/s]\n",
      "Fitting Models: 100%|██████████| 40/40 [00:00<00:00, 77.91it/s] \n",
      "Fitting Models: 100%|██████████| 40/40 [00:00<00:00, 78.70it/s] \n",
      "Fitting Models: 100%|██████████| 40/40 [00:00<00:00, 77.50it/s] \n",
      "Fitting Models: 100%|██████████| 40/40 [00:00<00:00, 76.47it/s] \n"
     ]
    },
    {
     "name": "stdout",
     "output_type": "stream",
     "text": [
      "0.5829378691399614 0.021238964288079334 83.0 63.686733312362634\n"
     ]
    },
    {
     "name": "stderr",
     "output_type": "stream",
     "text": [
      "100%|██████████| 4000000/4000000 [04:45<00:00, 14023.70it/s]\n",
      "Fitting Models: 100%|██████████| 40/40 [00:00<00:00, 74.57it/s]\n",
      "Fitting Models: 100%|██████████| 40/40 [00:00<00:00, 79.22it/s] \n",
      "Fitting Models: 100%|██████████| 40/40 [00:00<00:00, 79.06it/s] \n",
      "Fitting Models: 100%|██████████| 40/40 [00:00<00:00, 74.84it/s] \n",
      "Fitting Models: 100%|██████████| 40/40 [00:00<00:00, 76.12it/s] \n"
     ]
    },
    {
     "name": "stdout",
     "output_type": "stream",
     "text": [
      "0.6202817253317441 0.0341775808408001 81.0 74.45804187594514\n"
     ]
    },
    {
     "name": "stderr",
     "output_type": "stream",
     "text": [
      "100%|██████████| 4000000/4000000 [04:46<00:00, 13962.60it/s]\n",
      "Fitting Models: 100%|██████████| 40/40 [00:00<00:00, 76.04it/s]\n",
      "Fitting Models: 100%|██████████| 40/40 [00:00<00:00, 78.88it/s] \n",
      "Fitting Models: 100%|██████████| 40/40 [00:00<00:00, 78.73it/s] \n",
      "Fitting Models: 100%|██████████| 40/40 [00:00<00:00, 77.39it/s] \n",
      "Fitting Models: 100%|██████████| 40/40 [00:00<00:00, 76.53it/s] \n"
     ]
    },
    {
     "name": "stdout",
     "output_type": "stream",
     "text": [
      "0.5284963612145445 0.015364811569643429 57.0 80.34923770640266\n"
     ]
    }
   ],
   "source": [
    "total_event_pT = {}\n",
    "\n",
    "total_event_pT['bkg'] = np.sum(bkg_data[:, :, 0], axis=1)\n",
    "\n",
    "for alias in sigAliasList:\n",
    "    total_event_pT[alias] = np.sum(sig_data[alias][:,:,0], axis=1)\n",
    "\n",
    "pTrange = [0,50,100,150,200,500,1000]\n",
    "neighbor_list = list(range(5, 400,10))\n",
    "avg_aucs = []\n",
    "std_aucs = []\n",
    "avg_ks = []\n",
    "std_ks = []\n",
    "for i in range(0, len(pTrange)-1):\n",
    "    lower_bound = pTrange[i]\n",
    "    upper_bound = pTrange[i+1]\n",
    "    \n",
    "    filtered_events = {}\n",
    "    mask = (total_event_pT['bkg'] >= lower_bound) & (total_event_pT['bkg'] <= upper_bound)\n",
    "    \n",
    "    filtered_events['bkg'] = randomDataSample(bkg_data[mask],nEvents,random_state)\n",
    "    np.random.seed(i)\n",
    "    permutation = np.random.permutation(nEvents*2)\n",
    "    \n",
    "    for alias in sigAliasList:\n",
    "        mask = (total_event_pT[alias] >= lower_bound) & (total_event_pT[alias] <= upper_bound)\n",
    "        filtered_events[alias] = randomDataSample(sig_data[alias][mask],nEvents,random_state)\n",
    "        \n",
    "        event_list = np.concatenate((filtered_events['bkg'],filtered_events[alias]))\n",
    "        event_labels = np.asarray([0] * nEvents + [1] * nEvents)\n",
    "        event_list = event_list[permutation]\n",
    "        event_labels = event_labels[permutation]\n",
    "        \n",
    "        distance_matrix = calcOTDistance(event_list, event_list, OTSCHEME, '2D', Matrix = True)\n",
    "        \n",
    "        avg_auc, std_auc, avg_k, std_k = kNN_cross_validation(distance_matrix, event_labels, neighbor_list, k_fold=5)\n",
    "        print(avg_auc, std_auc, avg_k, std_k)\n",
    "        avg_aucs.append(avg_auc)\n",
    "        std_aucs.append(std_auc)\n",
    "        avg_ks.append(avg_k)\n",
    "        std_ks.append(std_k)"
   ]
  },
  {
   "cell_type": "code",
   "execution_count": 9,
   "metadata": {
    "tags": []
   },
   "outputs": [
    {
     "name": "stdout",
     "output_type": "stream",
     "text": [
      "[0.6193241561554373, 0.5560362022323223, 0.5752272736176252, 0.6840947062389287, 0.797380753997553, 0.6761395554738507, 0.607118567366921, 0.7468665866068318, 0.7011452113981134, 0.5667354772174112, 0.6015605971417531, 0.6883180348051865, 0.6251299810860171, 0.5761864516416402, 0.6665967908890511, 0.6981814488486944, 0.6258593862764383, 0.5841808994695518, 0.6885509588655917, 0.6166094819906541, 0.798913933102407, 0.5829378691399614, 0.6202817253317441, 0.5284963612145445]\n",
      "[0.013909554559565948, 0.026013491872497616, 0.037555171735308014, 0.03150385066000139, 0.008993921054521814, 0.035688653156475125, 0.026939186162531433, 0.021490142570251385, 0.005785647854299646, 0.04953517731908581, 0.03723336061553597, 0.015572400289487753, 0.020683095471606176, 0.02572489625664325, 0.021584085318690237, 0.019362046157130636, 0.024167621160884223, 0.006719364053971755, 0.020427488648409705, 0.020159541926277634, 0.02230500501928155, 0.021238964288079334, 0.0341775808408001, 0.015364811569643429]\n"
     ]
    }
   ],
   "source": [
    "print(avg_aucs)\n",
    "print(std_aucs)"
   ]
  },
  {
   "cell_type": "code",
   "execution_count": 10,
   "metadata": {
    "tags": []
   },
   "outputs": [
    {
     "name": "stdout",
     "output_type": "stream",
     "text": [
      "[[0.6193241561554373, 0.5560362022323223, 0.5752272736176252, 0.6840947062389287], [0.797380753997553, 0.6761395554738507, 0.607118567366921, 0.7468665866068318], [0.7011452113981134, 0.5667354772174112, 0.6015605971417531, 0.6883180348051865], [0.6251299810860171, 0.5761864516416402, 0.6665967908890511, 0.6981814488486944], [0.6258593862764383, 0.5841808994695518, 0.6885509588655917, 0.6166094819906541], [0.798913933102407, 0.5829378691399614, 0.6202817253317441, 0.5284963612145445]]\n",
      "[[0.013909554559565948, 0.026013491872497616, 0.037555171735308014, 0.03150385066000139], [0.008993921054521814, 0.035688653156475125, 0.026939186162531433, 0.021490142570251385], [0.005785647854299646, 0.04953517731908581, 0.03723336061553597, 0.015572400289487753], [0.020683095471606176, 0.02572489625664325, 0.021584085318690237, 0.019362046157130636], [0.024167621160884223, 0.006719364053971755, 0.020427488648409705, 0.020159541926277634], [0.02230500501928155, 0.021238964288079334, 0.0341775808408001, 0.015364811569643429]]\n"
     ]
    }
   ],
   "source": [
    "grouped_data_1 = [avg_aucs[i:i+4] for i in range(0, len(avg_aucs), 4)]\n",
    "grouped_data_2 = [std_aucs[i:i+4] for i in range(0, len(std_aucs), 4)]\n",
    "print(grouped_data_1)\n",
    "print(grouped_data_2)"
   ]
  }
 ],
 "metadata": {
  "colab": {
   "authorship_tag": "ABX9TyMfzyRMk1fbS0iIqhPEnHQA",
   "provenance": [],
   "toc_visible": true
  },
  "kernelspec": {
   "display_name": "Python 3",
   "language": "python",
   "name": "python3"
  },
  "language_info": {
   "codemirror_mode": {
    "name": "ipython",
    "version": 3
   },
   "file_extension": ".py",
   "mimetype": "text/x-python",
   "name": "python",
   "nbconvert_exporter": "python",
   "pygments_lexer": "ipython3",
   "version": "3.9.18"
  }
 },
 "nbformat": 4,
 "nbformat_minor": 4
}
