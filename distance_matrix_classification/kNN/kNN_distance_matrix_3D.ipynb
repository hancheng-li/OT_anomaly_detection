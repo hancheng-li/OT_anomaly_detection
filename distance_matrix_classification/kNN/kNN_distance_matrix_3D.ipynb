{
 "cells": [
  {
   "cell_type": "markdown",
   "metadata": {
    "id": "FzUcC4Xt9j_R"
   },
   "source": [
    "# Google Drive Preliminaries"
   ]
  },
  {
   "cell_type": "markdown",
   "metadata": {
    "id": "HzPInTTSYm2D"
   },
   "source": [
    "# Import libraries"
   ]
  },
  {
   "cell_type": "code",
   "execution_count": 1,
   "metadata": {
    "colab": {
     "base_uri": "https://localhost:8080/"
    },
    "executionInfo": {
     "elapsed": 18284,
     "status": "ok",
     "timestamp": 1696576022368,
     "user": {
      "displayName": "Hancheng Li",
      "userId": "16561302137020690535"
     },
     "user_tz": 420
    },
    "id": "Sm0J6usIYrxN",
    "outputId": "0e5a3e83-ef94-4dc6-fe27-3ade8172fcd9"
   },
   "outputs": [],
   "source": [
    "import numpy as np\n",
    "from numpy.random import RandomState\n",
    "import numpy.ma as ma\n",
    "\n",
    "import matplotlib.pyplot as plt\n",
    "from matplotlib.gridspec import GridSpec\n",
    "%matplotlib inline\n",
    "\n",
    "import h5py\n",
    "import ot\n",
    "from numpy.random import Generator, PCG64\n",
    "from sklearn import metrics\n",
    "import itertools\n",
    "\n",
    "from sklearn.svm import SVC\n",
    "from sklearn.model_selection import train_test_split\n",
    "from sklearn.metrics import roc_curve, roc_auc_score\n",
    "from sklearn.svm import LinearSVC\n",
    "from sklearn.calibration import CalibratedClassifierCV\n",
    "from sklearn.neighbors import KNeighborsClassifier\n",
    "from tqdm import tqdm"
   ]
  },
  {
   "cell_type": "code",
   "execution_count": 2,
   "metadata": {
    "executionInfo": {
     "elapsed": 7,
     "status": "ok",
     "timestamp": 1696576238891,
     "user": {
      "displayName": "Hancheng Li",
      "userId": "16561302137020690535"
     },
     "user_tz": 420
    },
    "id": "RFyfcq8A-sPF"
   },
   "outputs": [],
   "source": [
    "sigAliasList    = ['sig_A', 'sig_h0', 'sig_hch', 'sig_LQ']\n",
    "sigFilenameList = ['Ato4l_lepFilter_13TeV_filtered.h5', 'hToTauTau_13TeV_PU20_filtered.h5', 'hChToTauNu_13TeV_PU20_filtered.h5', 'leptoquark_LOWMASS_lepFilter_13TeV_filtered.h5']"
   ]
  },
  {
   "cell_type": "code",
   "execution_count": 3,
   "metadata": {
    "executionInfo": {
     "elapsed": 5,
     "status": "ok",
     "timestamp": 1696576238891,
     "user": {
      "displayName": "Hancheng Li",
      "userId": "16561302137020690535"
     },
     "user_tz": 420
    },
    "id": "GHoYrlq5-fFO"
   },
   "outputs": [],
   "source": [
    "#-- Set base directory and data directory path --#\n",
    "basePath   = './'\n",
    "dataPath   = 'Data/'\n",
    "\n",
    "bkgPath    = basePath+dataPath+'background_for_training.h5'\n",
    "sigPathList = []\n",
    "for x in sigFilenameList:\n",
    "  sigPathList.append(basePath+dataPath+x)"
   ]
  },
  {
   "cell_type": "markdown",
   "metadata": {
    "id": "-eXKRtFSi-HW"
   },
   "source": [
    "# Functions"
   ]
  },
  {
   "cell_type": "code",
   "execution_count": 4,
   "metadata": {
    "colab": {
     "base_uri": "https://localhost:8080/"
    },
    "executionInfo": {
     "elapsed": 12165,
     "status": "ok",
     "timestamp": 1696576251051,
     "user": {
      "displayName": "Hancheng Li",
      "userId": "16561302137020690535"
     },
     "user_tz": 420
    },
    "id": "VB6jsmDyQKDm",
    "outputId": "7bdbd947-1ce9-4f80-eb67-a43f11f55b07"
   },
   "outputs": [
    {
     "name": "stdout",
     "output_type": "stream",
     "text": [
      "[Errno 2] No such file or directory: '/content/gdrive/My Drive/Research/AnomalyDetectionWithOT/OnML4Jets2021DataChallenge/'\n",
      "/Users/bobli/Library/CloudStorage/Dropbox/AnomalyDetection/OnML4Jets2021DataChallenge\n"
     ]
    }
   ],
   "source": [
    "%cd /content/gdrive/My Drive/Research/AnomalyDetectionWithOT/OnML4Jets2021DataChallenge/\n",
    "%run centralFunctions.ipynb"
   ]
  },
  {
   "cell_type": "markdown",
   "metadata": {
    "id": "RYNI1N6rPCKE"
   },
   "source": [
    "# Loading Data"
   ]
  },
  {
   "cell_type": "code",
   "execution_count": 5,
   "metadata": {
    "executionInfo": {
     "elapsed": 3231,
     "status": "ok",
     "timestamp": 1696576254920,
     "user": {
      "displayName": "Hancheng Li",
      "userId": "16561302137020690535"
     },
     "user_tz": 420
    },
    "id": "Aa4Q0Zho-QtR"
   },
   "outputs": [],
   "source": [
    "dataDict = {}\n",
    "dataDict['bkg'] = h5py.File(bkgPath, 'r')\n",
    "\n",
    "for i in range(len(sigAliasList)):\n",
    "  alias   = sigAliasList[i]\n",
    "  sigPath = sigPathList[i]\n",
    "  dataDict[alias] = h5py.File(sigPath, 'r')"
   ]
  },
  {
   "cell_type": "code",
   "execution_count": 6,
   "metadata": {
    "executionInfo": {
     "elapsed": 50735,
     "status": "ok",
     "timestamp": 1696576305651,
     "user": {
      "displayName": "Hancheng Li",
      "userId": "16561302137020690535"
     },
     "user_tz": 420
    },
    "id": "a95ujWJO_Anp"
   },
   "outputs": [],
   "source": [
    "bkg_data = dataDict['bkg']['Particles'][:, :, 0:3]\n",
    "sig_data = {}\n",
    "\n",
    "for alias in sigAliasList:\n",
    "  sig_data[alias] = dataDict[alias]['Particles'][:, :, 0:3]"
   ]
  },
  {
   "cell_type": "markdown",
   "metadata": {
    "id": "JKOrpQGf_GsT"
   },
   "source": [
    "# kNN using distance matrix with 3d ground space"
   ]
  },
  {
   "cell_type": "code",
   "execution_count": 7,
   "metadata": {},
   "outputs": [],
   "source": [
    "nEvents = 1000\n",
    "random_state = Generator(PCG64(1))\n",
    "OTSCHEME = {}\n",
    "OTSCHEME['normPT'] = False\n",
    "OTSCHEME['balanced'] = True\n",
    "OTSCHEME['noZeroPad'] = False\n",
    "OTSCHEME['individualOT'] = False"
   ]
  },
  {
   "cell_type": "code",
   "execution_count": 8,
   "metadata": {
    "tags": []
   },
   "outputs": [
    {
     "name": "stderr",
     "output_type": "stream",
     "text": [
      "100%|██████████| 4000000/4000000 [02:31<00:00, 26471.55it/s] \n",
      "Fitting Models: 100%|██████████| 40/40 [00:00<00:00, 78.74it/s] \n",
      "Fitting Models: 100%|██████████| 40/40 [00:00<00:00, 81.22it/s] \n",
      "Fitting Models: 100%|██████████| 40/40 [00:00<00:00, 78.57it/s] \n",
      "Fitting Models: 100%|██████████| 40/40 [00:00<00:00, 78.24it/s] \n",
      "Fitting Models: 100%|██████████| 40/40 [00:00<00:00, 77.92it/s] \n"
     ]
    },
    {
     "name": "stdout",
     "output_type": "stream",
     "text": [
      "0.9004593599544226 0.007165193436908108 33.0 11.661903789690601\n"
     ]
    },
    {
     "name": "stderr",
     "output_type": "stream",
     "text": [
      "100%|██████████| 4000000/4000000 [02:30<00:00, 26643.74it/s] \n",
      "Fitting Models: 100%|██████████| 40/40 [00:00<00:00, 79.94it/s] \n",
      "Fitting Models: 100%|██████████| 40/40 [00:00<00:00, 78.56it/s] \n",
      "Fitting Models: 100%|██████████| 40/40 [00:00<00:00, 79.80it/s] \n",
      "Fitting Models: 100%|██████████| 40/40 [00:00<00:00, 79.67it/s] \n",
      "Fitting Models: 100%|██████████| 40/40 [00:00<00:00, 70.77it/s]\n"
     ]
    },
    {
     "name": "stdout",
     "output_type": "stream",
     "text": [
      "0.7685846173333186 0.01419185335688538 53.0 20.396078054371138\n"
     ]
    },
    {
     "name": "stderr",
     "output_type": "stream",
     "text": [
      "100%|██████████| 4000000/4000000 [02:36<00:00, 25588.77it/s] \n",
      "Fitting Models: 100%|██████████| 40/40 [00:00<00:00, 68.98it/s]\n",
      "Fitting Models: 100%|██████████| 40/40 [00:00<00:00, 79.32it/s] \n",
      "Fitting Models: 100%|██████████| 40/40 [00:00<00:00, 82.60it/s] \n",
      "Fitting Models: 100%|██████████| 40/40 [00:00<00:00, 78.93it/s] \n",
      "Fitting Models: 100%|██████████| 40/40 [00:00<00:00, 80.32it/s] \n"
     ]
    },
    {
     "name": "stdout",
     "output_type": "stream",
     "text": [
      "0.9341840740483727 0.006266176281982134 185.0 109.17875251164945\n"
     ]
    },
    {
     "name": "stderr",
     "output_type": "stream",
     "text": [
      "100%|██████████| 4000000/4000000 [02:33<00:00, 26028.59it/s]\n",
      "Fitting Models: 100%|██████████| 40/40 [00:00<00:00, 79.02it/s] \n",
      "Fitting Models: 100%|██████████| 40/40 [00:00<00:00, 76.77it/s] \n",
      "Fitting Models: 100%|██████████| 40/40 [00:00<00:00, 78.13it/s] \n",
      "Fitting Models: 100%|██████████| 40/40 [00:00<00:00, 75.28it/s] \n",
      "Fitting Models: 100%|██████████| 40/40 [00:00<00:00, 73.84it/s]\n"
     ]
    },
    {
     "name": "stdout",
     "output_type": "stream",
     "text": [
      "0.8755415378400864 0.005315485084715778 115.0 33.46640106136302\n"
     ]
    }
   ],
   "source": [
    "events = {}\n",
    "\n",
    "events['bkg'] = randomDataSample(bkg_data, nEvents, random_state)\n",
    "\n",
    "neighbor_list = list(range(5, 400,10))\n",
    "avg_aucs = []\n",
    "std_aucs = []\n",
    "avg_ks = []\n",
    "std_ks = []\n",
    "\n",
    "i = 2\n",
    "for alias in sigAliasList:\n",
    "    random_state = Generator(PCG64(i))\n",
    "    i += 1\n",
    "    events[alias] = randomDataSample(sig_data[alias], nEvents, random_state)\n",
    "    np.random.seed(i)\n",
    "    permutation = np.random.permutation(nEvents * 2)\n",
    "    \n",
    "    event_list = np.concatenate((events['bkg'], events[alias]))\n",
    "    event_labels = np.asarray([0] * nEvents + [1] * nEvents)\n",
    "    event_list = event_list[permutation]\n",
    "    event_labels = event_labels[permutation]\n",
    "    \n",
    "    distance_matrix = calcOTDistance(event_list, event_list, OTSCHEME, '3D', Matrix = True)\n",
    "    \n",
    "    avg_auc, std_auc, avg_k, std_k = kNN_cross_validation(distance_matrix, event_labels, neighbor_list, k_fold=5)\n",
    "    print(avg_auc, std_auc, avg_k, std_k)\n",
    "    avg_aucs.append(avg_auc)\n",
    "    std_aucs.append(std_auc)\n",
    "    avg_ks.append(avg_k)\n",
    "    std_ks.append(std_k)"
   ]
  },
  {
   "cell_type": "code",
   "execution_count": null,
   "metadata": {},
   "outputs": [],
   "source": [
    "-"
   ]
  }
 ],
 "metadata": {
  "colab": {
   "authorship_tag": "ABX9TyNKHfi00USAyeBByIH798Mq",
   "provenance": []
  },
  "kernelspec": {
   "display_name": "Python 3 (ipykernel)",
   "language": "python",
   "name": "python3"
  },
  "language_info": {
   "codemirror_mode": {
    "name": "ipython",
    "version": 3
   },
   "file_extension": ".py",
   "mimetype": "text/x-python",
   "name": "python",
   "nbconvert_exporter": "python",
   "pygments_lexer": "ipython3",
   "version": "3.11.4"
  }
 },
 "nbformat": 4,
 "nbformat_minor": 4
}
