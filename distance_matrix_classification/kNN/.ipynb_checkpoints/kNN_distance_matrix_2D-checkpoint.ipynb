{
 "cells": [
  {
   "cell_type": "markdown",
   "metadata": {
    "id": "FzUcC4Xt9j_R"
   },
   "source": [
    "# Google Drive Preliminaries"
   ]
  },
  {
   "cell_type": "markdown",
   "metadata": {
    "id": "HzPInTTSYm2D"
   },
   "source": [
    "# Import libraries"
   ]
  },
  {
   "cell_type": "code",
   "execution_count": 5,
   "metadata": {
    "colab": {
     "base_uri": "https://localhost:8080/"
    },
    "executionInfo": {
     "elapsed": 18284,
     "status": "ok",
     "timestamp": 1696576022368,
     "user": {
      "displayName": "Hancheng Li",
      "userId": "16561302137020690535"
     },
     "user_tz": 420
    },
    "id": "Sm0J6usIYrxN",
    "outputId": "0e5a3e83-ef94-4dc6-fe27-3ade8172fcd9"
   },
   "outputs": [],
   "source": [
    "import numpy as np\n",
    "from numpy.random import RandomState\n",
    "import numpy.ma as ma\n",
    "\n",
    "import matplotlib.pyplot as plt\n",
    "from matplotlib.gridspec import GridSpec\n",
    "%matplotlib inline\n",
    "\n",
    "import h5py\n",
    "import ot\n",
    "from numpy.random import Generator, PCG64\n",
    "from sklearn import metrics\n",
    "import itertools\n",
    "\n",
    "from sklearn.svm import SVC\n",
    "from sklearn.model_selection import train_test_split\n",
    "from sklearn.metrics import roc_curve, roc_auc_score\n",
    "from sklearn.svm import LinearSVC\n",
    "from sklearn.calibration import CalibratedClassifierCV\n",
    "from sklearn.neighbors import KNeighborsClassifier\n",
    "from tqdm import tqdm"
   ]
  },
  {
   "cell_type": "code",
   "execution_count": 6,
   "metadata": {
    "executionInfo": {
     "elapsed": 7,
     "status": "ok",
     "timestamp": 1696576238891,
     "user": {
      "displayName": "Hancheng Li",
      "userId": "16561302137020690535"
     },
     "user_tz": 420
    },
    "id": "RFyfcq8A-sPF"
   },
   "outputs": [],
   "source": [
    "sigAliasList    = ['sig_A', 'sig_h0', 'sig_hch', 'sig_LQ']\n",
    "sigFilenameList = ['Ato4l_lepFilter_13TeV_filtered.h5', 'hToTauTau_13TeV_PU20_filtered.h5', 'hChToTauNu_13TeV_PU20_filtered.h5', 'leptoquark_LOWMASS_lepFilter_13TeV_filtered.h5']"
   ]
  },
  {
   "cell_type": "code",
   "execution_count": 19,
   "metadata": {
    "executionInfo": {
     "elapsed": 5,
     "status": "ok",
     "timestamp": 1696576238891,
     "user": {
      "displayName": "Hancheng Li",
      "userId": "16561302137020690535"
     },
     "user_tz": 420
    },
    "id": "GHoYrlq5-fFO"
   },
   "outputs": [],
   "source": [
    "#-- Set base directory and data directory path --#\n",
    "basePath   = '/Users/hanchengli/Dropbox/AnomalyDetection/OnML4Jets2021DataChallenge/'\n",
    "dataPath   = 'Data/'\n",
    "\n",
    "bkgPath    = basePath+dataPath+'background_for_training.h5'\n",
    "sigPathList = []\n",
    "for x in sigFilenameList:\n",
    "  sigPathList.append(basePath+dataPath+x)"
   ]
  },
  {
   "cell_type": "markdown",
   "metadata": {
    "id": "-eXKRtFSi-HW"
   },
   "source": [
    "# Functions"
   ]
  },
  {
   "cell_type": "code",
   "execution_count": 20,
   "metadata": {
    "colab": {
     "base_uri": "https://localhost:8080/"
    },
    "executionInfo": {
     "elapsed": 12165,
     "status": "ok",
     "timestamp": 1696576251051,
     "user": {
      "displayName": "Hancheng Li",
      "userId": "16561302137020690535"
     },
     "user_tz": 420
    },
    "id": "VB6jsmDyQKDm",
    "outputId": "7bdbd947-1ce9-4f80-eb67-a43f11f55b07"
   },
   "outputs": [
    {
     "name": "stdout",
     "output_type": "stream",
     "text": [
      "/Users/hanchengli/Library/CloudStorage/Dropbox/AnomalyDetection/OnML4Jets2021DataChallenge/anomaly_detection_code/functions\n"
     ]
    }
   ],
   "source": [
    "%cd ~/Dropbox/AnomalyDetection/OnML4Jets2021DataChallenge/anomaly_detection_code/functions\n",
    "%run centralFunctions.ipynb"
   ]
  },
  {
   "cell_type": "markdown",
   "metadata": {
    "id": "RYNI1N6rPCKE"
   },
   "source": [
    "# Loading Data"
   ]
  },
  {
   "cell_type": "code",
   "execution_count": 21,
   "metadata": {
    "executionInfo": {
     "elapsed": 3231,
     "status": "ok",
     "timestamp": 1696576254920,
     "user": {
      "displayName": "Hancheng Li",
      "userId": "16561302137020690535"
     },
     "user_tz": 420
    },
    "id": "Aa4Q0Zho-QtR"
   },
   "outputs": [
    {
     "ename": "FileNotFoundError",
     "evalue": "[Errno 2] Unable to open file (unable to open file: name = 'Users/Dropbox/AnomalyDetection/OnML4Jets2021DataChallenge/Data/background_for_training.h5', errno = 2, error message = 'No such file or directory', flags = 0, o_flags = 0)",
     "output_type": "error",
     "traceback": [
      "\u001b[0;31m---------------------------------------------------------------------------\u001b[0m",
      "\u001b[0;31mFileNotFoundError\u001b[0m                         Traceback (most recent call last)",
      "Cell \u001b[0;32mIn[21], line 2\u001b[0m\n\u001b[1;32m      1\u001b[0m dataDict \u001b[38;5;241m=\u001b[39m {}\n\u001b[0;32m----> 2\u001b[0m dataDict[\u001b[38;5;124m'\u001b[39m\u001b[38;5;124mbkg\u001b[39m\u001b[38;5;124m'\u001b[39m] \u001b[38;5;241m=\u001b[39m \u001b[43mh5py\u001b[49m\u001b[38;5;241;43m.\u001b[39;49m\u001b[43mFile\u001b[49m\u001b[43m(\u001b[49m\u001b[43mbkgPath\u001b[49m\u001b[43m,\u001b[49m\u001b[43m \u001b[49m\u001b[38;5;124;43m'\u001b[39;49m\u001b[38;5;124;43mr\u001b[39;49m\u001b[38;5;124;43m'\u001b[39;49m\u001b[43m)\u001b[49m\n\u001b[1;32m      4\u001b[0m \u001b[38;5;28;01mfor\u001b[39;00m i \u001b[38;5;129;01min\u001b[39;00m \u001b[38;5;28mrange\u001b[39m(\u001b[38;5;28mlen\u001b[39m(sigAliasList)):\n\u001b[1;32m      5\u001b[0m   alias   \u001b[38;5;241m=\u001b[39m sigAliasList[i]\n",
      "File \u001b[0;32m~/opt/anaconda3/envs/Research/lib/python3.9/site-packages/h5py/_hl/files.py:562\u001b[0m, in \u001b[0;36mFile.__init__\u001b[0;34m(self, name, mode, driver, libver, userblock_size, swmr, rdcc_nslots, rdcc_nbytes, rdcc_w0, track_order, fs_strategy, fs_persist, fs_threshold, fs_page_size, page_buf_size, min_meta_keep, min_raw_keep, locking, alignment_threshold, alignment_interval, meta_block_size, **kwds)\u001b[0m\n\u001b[1;32m    553\u001b[0m     fapl \u001b[38;5;241m=\u001b[39m make_fapl(driver, libver, rdcc_nslots, rdcc_nbytes, rdcc_w0,\n\u001b[1;32m    554\u001b[0m                      locking, page_buf_size, min_meta_keep, min_raw_keep,\n\u001b[1;32m    555\u001b[0m                      alignment_threshold\u001b[38;5;241m=\u001b[39malignment_threshold,\n\u001b[1;32m    556\u001b[0m                      alignment_interval\u001b[38;5;241m=\u001b[39malignment_interval,\n\u001b[1;32m    557\u001b[0m                      meta_block_size\u001b[38;5;241m=\u001b[39mmeta_block_size,\n\u001b[1;32m    558\u001b[0m                      \u001b[38;5;241m*\u001b[39m\u001b[38;5;241m*\u001b[39mkwds)\n\u001b[1;32m    559\u001b[0m     fcpl \u001b[38;5;241m=\u001b[39m make_fcpl(track_order\u001b[38;5;241m=\u001b[39mtrack_order, fs_strategy\u001b[38;5;241m=\u001b[39mfs_strategy,\n\u001b[1;32m    560\u001b[0m                      fs_persist\u001b[38;5;241m=\u001b[39mfs_persist, fs_threshold\u001b[38;5;241m=\u001b[39mfs_threshold,\n\u001b[1;32m    561\u001b[0m                      fs_page_size\u001b[38;5;241m=\u001b[39mfs_page_size)\n\u001b[0;32m--> 562\u001b[0m     fid \u001b[38;5;241m=\u001b[39m \u001b[43mmake_fid\u001b[49m\u001b[43m(\u001b[49m\u001b[43mname\u001b[49m\u001b[43m,\u001b[49m\u001b[43m \u001b[49m\u001b[43mmode\u001b[49m\u001b[43m,\u001b[49m\u001b[43m \u001b[49m\u001b[43muserblock_size\u001b[49m\u001b[43m,\u001b[49m\u001b[43m \u001b[49m\u001b[43mfapl\u001b[49m\u001b[43m,\u001b[49m\u001b[43m \u001b[49m\u001b[43mfcpl\u001b[49m\u001b[43m,\u001b[49m\u001b[43m \u001b[49m\u001b[43mswmr\u001b[49m\u001b[38;5;241;43m=\u001b[39;49m\u001b[43mswmr\u001b[49m\u001b[43m)\u001b[49m\n\u001b[1;32m    564\u001b[0m \u001b[38;5;28;01mif\u001b[39;00m \u001b[38;5;28misinstance\u001b[39m(libver, \u001b[38;5;28mtuple\u001b[39m):\n\u001b[1;32m    565\u001b[0m     \u001b[38;5;28mself\u001b[39m\u001b[38;5;241m.\u001b[39m_libver \u001b[38;5;241m=\u001b[39m libver\n",
      "File \u001b[0;32m~/opt/anaconda3/envs/Research/lib/python3.9/site-packages/h5py/_hl/files.py:235\u001b[0m, in \u001b[0;36mmake_fid\u001b[0;34m(name, mode, userblock_size, fapl, fcpl, swmr)\u001b[0m\n\u001b[1;32m    233\u001b[0m     \u001b[38;5;28;01mif\u001b[39;00m swmr \u001b[38;5;129;01mand\u001b[39;00m swmr_support:\n\u001b[1;32m    234\u001b[0m         flags \u001b[38;5;241m|\u001b[39m\u001b[38;5;241m=\u001b[39m h5f\u001b[38;5;241m.\u001b[39mACC_SWMR_READ\n\u001b[0;32m--> 235\u001b[0m     fid \u001b[38;5;241m=\u001b[39m \u001b[43mh5f\u001b[49m\u001b[38;5;241;43m.\u001b[39;49m\u001b[43mopen\u001b[49m\u001b[43m(\u001b[49m\u001b[43mname\u001b[49m\u001b[43m,\u001b[49m\u001b[43m \u001b[49m\u001b[43mflags\u001b[49m\u001b[43m,\u001b[49m\u001b[43m \u001b[49m\u001b[43mfapl\u001b[49m\u001b[38;5;241;43m=\u001b[39;49m\u001b[43mfapl\u001b[49m\u001b[43m)\u001b[49m\n\u001b[1;32m    236\u001b[0m \u001b[38;5;28;01melif\u001b[39;00m mode \u001b[38;5;241m==\u001b[39m \u001b[38;5;124m'\u001b[39m\u001b[38;5;124mr+\u001b[39m\u001b[38;5;124m'\u001b[39m:\n\u001b[1;32m    237\u001b[0m     fid \u001b[38;5;241m=\u001b[39m h5f\u001b[38;5;241m.\u001b[39mopen(name, h5f\u001b[38;5;241m.\u001b[39mACC_RDWR, fapl\u001b[38;5;241m=\u001b[39mfapl)\n",
      "File \u001b[0;32mh5py/_objects.pyx:54\u001b[0m, in \u001b[0;36mh5py._objects.with_phil.wrapper\u001b[0;34m()\u001b[0m\n",
      "File \u001b[0;32mh5py/_objects.pyx:55\u001b[0m, in \u001b[0;36mh5py._objects.with_phil.wrapper\u001b[0;34m()\u001b[0m\n",
      "File \u001b[0;32mh5py/h5f.pyx:102\u001b[0m, in \u001b[0;36mh5py.h5f.open\u001b[0;34m()\u001b[0m\n",
      "\u001b[0;31mFileNotFoundError\u001b[0m: [Errno 2] Unable to open file (unable to open file: name = 'Users/Dropbox/AnomalyDetection/OnML4Jets2021DataChallenge/Data/background_for_training.h5', errno = 2, error message = 'No such file or directory', flags = 0, o_flags = 0)"
     ]
    }
   ],
   "source": [
    "dataDict = {}\n",
    "dataDict['bkg'] = h5py.File(bkgPath, 'r')\n",
    "\n",
    "for i in range(len(sigAliasList)):\n",
    "  alias   = sigAliasList[i]\n",
    "  sigPath = sigPathList[i]\n",
    "  dataDict[alias] = h5py.File(sigPath, 'r')"
   ]
  },
  {
   "cell_type": "code",
   "execution_count": 6,
   "metadata": {
    "executionInfo": {
     "elapsed": 50735,
     "status": "ok",
     "timestamp": 1696576305651,
     "user": {
      "displayName": "Hancheng Li",
      "userId": "16561302137020690535"
     },
     "user_tz": 420
    },
    "id": "a95ujWJO_Anp"
   },
   "outputs": [],
   "source": [
    "bkg_data = dataDict['bkg']['Particles'][:, :, 0:3]\n",
    "sig_data = {}\n",
    "\n",
    "for alias in sigAliasList:\n",
    "  sig_data[alias] = dataDict[alias]['Particles'][:, :, 0:3]"
   ]
  },
  {
   "cell_type": "markdown",
   "metadata": {
    "id": "JKOrpQGf_GsT"
   },
   "source": [
    "# kNN using distance matrix with 3d ground space"
   ]
  },
  {
   "cell_type": "code",
   "execution_count": 7,
   "metadata": {},
   "outputs": [],
   "source": [
    "nEvents = 500\n",
    "random_state = Generator(PCG64(1))\n",
    "OTSCHEME = {}\n",
    "OTSCHEME['normPT'] = True\n",
    "OTSCHEME['balanced'] = True\n",
    "OTSCHEME['noZeroPad'] = False\n",
    "OTSCHEME['individualOT'] = False"
   ]
  },
  {
   "cell_type": "code",
   "execution_count": 8,
   "metadata": {
    "tags": []
   },
   "outputs": [
    {
     "name": "stderr",
     "output_type": "stream",
     "text": [
      "100%|██████████| 4000000/4000000 [02:31<00:00, 26471.55it/s] \n",
      "Fitting Models: 100%|██████████| 40/40 [00:00<00:00, 78.74it/s] \n",
      "Fitting Models: 100%|██████████| 40/40 [00:00<00:00, 81.22it/s] \n",
      "Fitting Models: 100%|██████████| 40/40 [00:00<00:00, 78.57it/s] \n",
      "Fitting Models: 100%|██████████| 40/40 [00:00<00:00, 78.24it/s] \n",
      "Fitting Models: 100%|██████████| 40/40 [00:00<00:00, 77.92it/s] \n"
     ]
    },
    {
     "name": "stdout",
     "output_type": "stream",
     "text": [
      "0.9004593599544226 0.007165193436908108 33.0 11.661903789690601\n"
     ]
    },
    {
     "name": "stderr",
     "output_type": "stream",
     "text": [
      "100%|██████████| 4000000/4000000 [02:30<00:00, 26643.74it/s] \n",
      "Fitting Models: 100%|██████████| 40/40 [00:00<00:00, 79.94it/s] \n",
      "Fitting Models: 100%|██████████| 40/40 [00:00<00:00, 78.56it/s] \n",
      "Fitting Models: 100%|██████████| 40/40 [00:00<00:00, 79.80it/s] \n",
      "Fitting Models: 100%|██████████| 40/40 [00:00<00:00, 79.67it/s] \n",
      "Fitting Models: 100%|██████████| 40/40 [00:00<00:00, 70.77it/s]\n"
     ]
    },
    {
     "name": "stdout",
     "output_type": "stream",
     "text": [
      "0.7685846173333186 0.01419185335688538 53.0 20.396078054371138\n"
     ]
    },
    {
     "name": "stderr",
     "output_type": "stream",
     "text": [
      "100%|██████████| 4000000/4000000 [02:36<00:00, 25588.77it/s] \n",
      "Fitting Models: 100%|██████████| 40/40 [00:00<00:00, 68.98it/s]\n",
      "Fitting Models: 100%|██████████| 40/40 [00:00<00:00, 79.32it/s] \n",
      "Fitting Models: 100%|██████████| 40/40 [00:00<00:00, 82.60it/s] \n",
      "Fitting Models: 100%|██████████| 40/40 [00:00<00:00, 78.93it/s] \n",
      "Fitting Models: 100%|██████████| 40/40 [00:00<00:00, 80.32it/s] \n"
     ]
    },
    {
     "name": "stdout",
     "output_type": "stream",
     "text": [
      "0.9341840740483727 0.006266176281982134 185.0 109.17875251164945\n"
     ]
    },
    {
     "name": "stderr",
     "output_type": "stream",
     "text": [
      "100%|██████████| 4000000/4000000 [02:33<00:00, 26028.59it/s]\n",
      "Fitting Models: 100%|██████████| 40/40 [00:00<00:00, 79.02it/s] \n",
      "Fitting Models: 100%|██████████| 40/40 [00:00<00:00, 76.77it/s] \n",
      "Fitting Models: 100%|██████████| 40/40 [00:00<00:00, 78.13it/s] \n",
      "Fitting Models: 100%|██████████| 40/40 [00:00<00:00, 75.28it/s] \n",
      "Fitting Models: 100%|██████████| 40/40 [00:00<00:00, 73.84it/s]\n"
     ]
    },
    {
     "name": "stdout",
     "output_type": "stream",
     "text": [
      "0.8755415378400864 0.005315485084715778 115.0 33.46640106136302\n"
     ]
    }
   ],
   "source": [
    "events = {}\n",
    "\n",
    "events['bkg'] = randomDataSample(bkg_data, nEvents, random_state)\n",
    "\n",
    "neighbor_list = list(range(5, 400,10))\n",
    "avg_aucs = []\n",
    "std_aucs = []\n",
    "avg_ks = []\n",
    "std_ks = []\n",
    "\n",
    "i = 2\n",
    "for alias in sigAliasList:\n",
    "    i += 1\n",
    "    events[alias] = randomDataSample(sig_data[alias], nEvents, random_state)\n",
    "    np.random.seed(i)\n",
    "    permutation = np.random.permutation(nEvents * 2)\n",
    "    \n",
    "    event_list = np.concatenate((events['bkg'], events[alias]))\n",
    "    event_labels = np.asarray([0] * nEvents + [1] * nEvents)\n",
    "    event_list = event_list[permutation]\n",
    "    event_labels = event_labels[permutation]\n",
    "    \n",
    "    distance_matrix = calcOTDistance(event_list, event_list, OTSCHEME, '2D', Matrix = True)\n",
    "    \n",
    "    avg_auc, std_auc, avg_k, std_k = kNN_cross_validation(distance_matrix, event_labels, neighbor_list, k_fold=5)\n",
    "    print(avg_auc, std_auc, avg_k, std_k)\n",
    "    avg_aucs.append(avg_auc)\n",
    "    std_aucs.append(std_auc)\n",
    "    avg_ks.append(avg_k)\n",
    "    std_ks.append(std_k)"
   ]
  },
  {
   "cell_type": "code",
   "execution_count": null,
   "metadata": {},
   "outputs": [],
   "source": []
  }
 ],
 "metadata": {
  "colab": {
   "authorship_tag": "ABX9TyNKHfi00USAyeBByIH798Mq",
   "provenance": []
  },
  "kernelspec": {
   "display_name": "Python 3 (ipykernel)",
   "language": "python",
   "name": "python3"
  },
  "language_info": {
   "codemirror_mode": {
    "name": "ipython",
    "version": 3
   },
   "file_extension": ".py",
   "mimetype": "text/x-python",
   "name": "python",
   "nbconvert_exporter": "python",
   "pygments_lexer": "ipython3",
   "version": "3.9.18"
  }
 },
 "nbformat": 4,
 "nbformat_minor": 4
}
