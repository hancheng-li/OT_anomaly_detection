{
 "cells": [
  {
   "cell_type": "markdown",
   "metadata": {
    "id": "HzPInTTSYm2D"
   },
   "source": [
    "# Import libraries"
   ]
  },
  {
   "cell_type": "code",
   "execution_count": 1,
   "metadata": {
    "colab": {
     "base_uri": "https://localhost:8080/"
    },
    "executionInfo": {
     "elapsed": 15521,
     "status": "ok",
     "timestamp": 1697237483540,
     "user": {
      "displayName": "Hancheng Li",
      "userId": "16561302137020690535"
     },
     "user_tz": 420
    },
    "id": "Sm0J6usIYrxN",
    "outputId": "2e7cf2ec-503e-4497-fddb-c6ecfc53c65f",
    "tags": []
   },
   "outputs": [],
   "source": [
    "import numpy as np\n",
    "from numpy.random import RandomState\n",
    "import numpy.ma as ma\n",
    "\n",
    "import matplotlib.pyplot as plt\n",
    "from matplotlib.gridspec import GridSpec\n",
    "%matplotlib inline\n",
    "\n",
    "import h5py\n",
    "import ot\n",
    "from numpy.random import Generator, PCG64\n",
    "from sklearn import metrics\n",
    "import itertools\n",
    "\n",
    "from sklearn.svm import SVC\n",
    "from sklearn.model_selection import train_test_split\n",
    "from sklearn.metrics import roc_curve, roc_auc_score\n",
    "from sklearn.svm import LinearSVC\n",
    "from sklearn.calibration import CalibratedClassifierCV\n",
    "from sklearn.neighbors import KNeighborsClassifier\n",
    "from tqdm import tqdm"
   ]
  },
  {
   "cell_type": "code",
   "execution_count": 2,
   "metadata": {
    "executionInfo": {
     "elapsed": 3,
     "status": "ok",
     "timestamp": 1697237502373,
     "user": {
      "displayName": "Hancheng Li",
      "userId": "16561302137020690535"
     },
     "user_tz": 420
    },
    "id": "RFyfcq8A-sPF",
    "tags": []
   },
   "outputs": [],
   "source": [
    "sigAliasList    = ['sig_A', 'sig_h0', 'sig_hch', 'sig_LQ']\n",
    "sigFilenameList = ['Ato4l_lepFilter_13TeV_filtered.h5', 'hToTauTau_13TeV_PU20_filtered.h5', 'hChToTauNu_13TeV_PU20_filtered.h5', 'leptoquark_LOWMASS_lepFilter_13TeV_filtered.h5']"
   ]
  },
  {
   "cell_type": "code",
   "execution_count": 3,
   "metadata": {
    "executionInfo": {
     "elapsed": 3,
     "status": "ok",
     "timestamp": 1697237502373,
     "user": {
      "displayName": "Hancheng Li",
      "userId": "16561302137020690535"
     },
     "user_tz": 420
    },
    "id": "GHoYrlq5-fFO",
    "tags": []
   },
   "outputs": [],
   "source": [
    "#-- Set base directory and data directory path --#\n",
    "basePath   = './'\n",
    "dataPath   = 'Data/'\n",
    "\n",
    "bkgPath    = basePath+dataPath+'background_for_training.h5'\n",
    "sigPathList = []\n",
    "for x in sigFilenameList:\n",
    "  sigPathList.append(basePath+dataPath+x)"
   ]
  },
  {
   "cell_type": "markdown",
   "metadata": {
    "id": "-eXKRtFSi-HW"
   },
   "source": [
    "# Functions"
   ]
  },
  {
   "cell_type": "code",
   "execution_count": 4,
   "metadata": {
    "colab": {
     "base_uri": "https://localhost:8080/"
    },
    "executionInfo": {
     "elapsed": 7941,
     "status": "ok",
     "timestamp": 1697237510313,
     "user": {
      "displayName": "Hancheng Li",
      "userId": "16561302137020690535"
     },
     "user_tz": 420
    },
    "id": "VB6jsmDyQKDm",
    "outputId": "29994d0c-626b-46e8-cb71-1765b21d6e61",
    "tags": []
   },
   "outputs": [],
   "source": [
    "%run centralFunctions.ipynb"
   ]
  },
  {
   "cell_type": "markdown",
   "metadata": {
    "id": "RYNI1N6rPCKE"
   },
   "source": [
    "# Loading Data"
   ]
  },
  {
   "cell_type": "code",
   "execution_count": 5,
   "metadata": {
    "executionInfo": {
     "elapsed": 1225,
     "status": "ok",
     "timestamp": 1697237511963,
     "user": {
      "displayName": "Hancheng Li",
      "userId": "16561302137020690535"
     },
     "user_tz": 420
    },
    "id": "Aa4Q0Zho-QtR",
    "tags": []
   },
   "outputs": [],
   "source": [
    "dataDict = {}\n",
    "dataDict['bkg'] = h5py.File(bkgPath, 'r')\n",
    "\n",
    "for i in range(len(sigAliasList)):\n",
    "  alias   = sigAliasList[i]\n",
    "  sigPath = sigPathList[i]\n",
    "  dataDict[alias] = h5py.File(sigPath, 'r')"
   ]
  },
  {
   "cell_type": "code",
   "execution_count": 6,
   "metadata": {
    "executionInfo": {
     "elapsed": 43685,
     "status": "ok",
     "timestamp": 1697237555970,
     "user": {
      "displayName": "Hancheng Li",
      "userId": "16561302137020690535"
     },
     "user_tz": 420
    },
    "id": "a95ujWJO_Anp",
    "tags": []
   },
   "outputs": [],
   "source": [
    "bkg_data = dataDict['bkg']['Particles'][:,:,0:3]\n",
    "sig_data = {}\n",
    "\n",
    "for alias in sigAliasList:\n",
    "  sig_data[alias] = dataDict[alias]['Particles'][:,:,0:3]"
   ]
  },
  {
   "cell_type": "markdown",
   "metadata": {
    "id": "BIjh0rhNDhWd"
   },
   "source": [
    "# rNN Classification"
   ]
  },
  {
   "cell_type": "code",
   "execution_count": 7,
   "metadata": {
    "executionInfo": {
     "elapsed": 184,
     "status": "ok",
     "timestamp": 1697237651805,
     "user": {
      "displayName": "Hancheng Li",
      "userId": "16561302137020690535"
     },
     "user_tz": 420
    },
    "id": "dZVT5d7gDnML",
    "tags": []
   },
   "outputs": [],
   "source": [
    "nEvents = 500\n",
    "random_state = Generator(PCG64(123))\n",
    "OTSCHEME = {}\n",
    "OTSCHEME['normPT'] = True\n",
    "OTSCHEME['balanced'] = True\n",
    "OTSCHEME['noZeroPad'] = False\n",
    "OTSCHEME['individualOT'] = False"
   ]
  },
  {
   "cell_type": "code",
   "execution_count": 13,
   "metadata": {
    "tags": []
   },
   "outputs": [
    {
     "name": "stderr",
     "output_type": "stream",
     "text": [
      "100%|██████████| 1000000/1000000 [01:15<00:00, 13310.96it/s]\n"
     ]
    },
    {
     "name": "stdout",
     "output_type": "stream",
     "text": [
      "5.591899946925802\n"
     ]
    },
    {
     "name": "stderr",
     "output_type": "stream",
     "text": [
      "Fitting Models: 100%|██████████| 13/13 [00:00<00:00, 482.01it/s]\n",
      "Fitting Models: 100%|██████████| 13/13 [00:00<00:00, 442.33it/s]\n",
      "Fitting Models: 100%|██████████| 13/13 [00:00<00:00, 503.11it/s]\n",
      "Fitting Models: 100%|██████████| 13/13 [00:00<00:00, 529.17it/s]\n",
      "Fitting Models: 100%|██████████| 13/13 [00:00<00:00, 460.94it/s]\n"
     ]
    },
    {
     "name": "stdout",
     "output_type": "stream",
     "text": [
      "0.55805499090703 0.03218034212899328 4.3 1.6309506430300091\n"
     ]
    },
    {
     "name": "stderr",
     "output_type": "stream",
     "text": [
      "100%|██████████| 1000000/1000000 [01:13<00:00, 13693.32it/s]\n"
     ]
    },
    {
     "name": "stdout",
     "output_type": "stream",
     "text": [
      "5.202732269811158\n"
     ]
    },
    {
     "name": "stderr",
     "output_type": "stream",
     "text": [
      "Fitting Models: 100%|██████████| 13/13 [00:00<00:00, 503.02it/s]\n",
      "Fitting Models: 100%|██████████| 13/13 [00:00<00:00, 475.16it/s]\n",
      "Fitting Models: 100%|██████████| 13/13 [00:00<00:00, 436.28it/s]\n",
      "Fitting Models: 100%|██████████| 13/13 [00:00<00:00, 526.11it/s]\n",
      "Fitting Models: 100%|██████████| 13/13 [00:00<00:00, 495.99it/s]\n"
     ]
    },
    {
     "name": "stdout",
     "output_type": "stream",
     "text": [
      "0.5354156603796889 0.0429832210142336 4.8 2.227105745132009\n"
     ]
    },
    {
     "name": "stderr",
     "output_type": "stream",
     "text": [
      "100%|██████████| 1000000/1000000 [01:15<00:00, 13230.13it/s]\n"
     ]
    },
    {
     "name": "stdout",
     "output_type": "stream",
     "text": [
      "4.7988474037908135\n"
     ]
    },
    {
     "name": "stderr",
     "output_type": "stream",
     "text": [
      "Fitting Models: 100%|██████████| 13/13 [00:00<00:00, 347.00it/s]\n",
      "Fitting Models: 100%|██████████| 13/13 [00:00<00:00, 432.15it/s]\n",
      "Fitting Models: 100%|██████████| 13/13 [00:00<00:00, 469.72it/s]\n",
      "Fitting Models: 100%|██████████| 13/13 [00:00<00:00, 452.28it/s]\n",
      "Fitting Models: 100%|██████████| 13/13 [00:00<00:00, 430.42it/s]\n"
     ]
    },
    {
     "name": "stdout",
     "output_type": "stream",
     "text": [
      "0.5508315771030226 0.030101439225498707 4.6 1.624807680927192\n"
     ]
    },
    {
     "name": "stderr",
     "output_type": "stream",
     "text": [
      "100%|██████████| 1000000/1000000 [01:14<00:00, 13412.53it/s]\n"
     ]
    },
    {
     "name": "stdout",
     "output_type": "stream",
     "text": [
      "5.172685012204326\n"
     ]
    },
    {
     "name": "stderr",
     "output_type": "stream",
     "text": [
      "Fitting Models:   0%|          | 0/13 [00:00<?, ?it/s]\n"
     ]
    },
    {
     "ename": "ValueError",
     "evalue": "No neighbors found for test samples array([85]), you can try using larger radius, giving a label for outliers, or considering removing them from your dataset.",
     "output_type": "error",
     "traceback": [
      "\u001b[0;31m---------------------------------------------------------------------------\u001b[0m",
      "\u001b[0;31mValueError\u001b[0m                                Traceback (most recent call last)",
      "Cell \u001b[0;32mIn[13], line 37\u001b[0m\n\u001b[1;32m     34\u001b[0m distance_matrix \u001b[38;5;241m=\u001b[39m calcOTDistance(event_list, event_list, OTSCHEME, \u001b[38;5;124m'\u001b[39m\u001b[38;5;124m2D\u001b[39m\u001b[38;5;124m'\u001b[39m, Matrix \u001b[38;5;241m=\u001b[39m \u001b[38;5;28;01mTrue\u001b[39;00m)\n\u001b[1;32m     35\u001b[0m \u001b[38;5;28mprint\u001b[39m(np\u001b[38;5;241m.\u001b[39mmean(distance_matrix))\n\u001b[0;32m---> 37\u001b[0m avg_auc, std_auc, avg_radius, std_radius \u001b[38;5;241m=\u001b[39m rNN_cross_validation(distance_matrix, event_labels, radius_list, k_fold\u001b[38;5;241m=\u001b[39m\u001b[38;5;241m5\u001b[39m)\n\u001b[1;32m     38\u001b[0m \u001b[38;5;28mprint\u001b[39m(avg_auc, std_auc, avg_radius, std_radius)\n\u001b[1;32m     39\u001b[0m avg_aucs\u001b[38;5;241m.\u001b[39mappend(avg_auc)\n",
      "File \u001b[0;32m/var/folders/m3/5lk1jz6j3lj1yz3q_djy8z1h0000gp/T/ipykernel_17421/3393100920.py:18\u001b[0m, in \u001b[0;36mrNN_cross_validation\u001b[0;34m(l_matrix, labels, radius_list, k_fold)\u001b[0m\n\u001b[1;32m     16\u001b[0m l_matrix_new \u001b[38;5;241m=\u001b[39m l_matrix[new_index,:][:,new_index]\n\u001b[1;32m     17\u001b[0m labels_new \u001b[38;5;241m=\u001b[39m labels[new_index]\n\u001b[0;32m---> 18\u001b[0m best_auc, best_radius, best_model \u001b[38;5;241m=\u001b[39m rNN_with_distance_matrix(l_matrix_new, labels_new, folded_length\u001b[38;5;241m*\u001b[39m(k_fold\u001b[38;5;241m-\u001b[39m\u001b[38;5;241m2\u001b[39m), folded_length, folded_length, radius_list, AUC_list\u001b[38;5;241m=\u001b[39m\u001b[38;5;28;01mFalse\u001b[39;00m)\n\u001b[1;32m     19\u001b[0m auc_list\u001b[38;5;241m.\u001b[39mappend(best_auc)\n\u001b[1;32m     20\u001b[0m best_radius_list\u001b[38;5;241m.\u001b[39mappend(best_radius)\n",
      "File \u001b[0;32m/var/folders/m3/5lk1jz6j3lj1yz3q_djy8z1h0000gp/T/ipykernel_17421/1533092254.py:43\u001b[0m, in \u001b[0;36mrNN_with_distance_matrix\u001b[0;34m(l_matrix, labels, train_number, val_number, test_number, radius_list, AUC_list)\u001b[0m\n\u001b[1;32m     41\u001b[0m model \u001b[38;5;241m=\u001b[39m RadiusNeighborsClassifier(radius\u001b[38;5;241m=\u001b[39mradius, metric\u001b[38;5;241m=\u001b[39m\u001b[38;5;124m'\u001b[39m\u001b[38;5;124mprecomputed\u001b[39m\u001b[38;5;124m'\u001b[39m)\n\u001b[1;32m     42\u001b[0m model\u001b[38;5;241m.\u001b[39mfit(l_matrix_train, train_labels)\n\u001b[0;32m---> 43\u001b[0m pred_val \u001b[38;5;241m=\u001b[39m model\u001b[38;5;241m.\u001b[39mpredict_proba(l_matrix_val_train)[:,\u001b[38;5;241m1\u001b[39m]\n\u001b[1;32m     44\u001b[0m models\u001b[38;5;241m.\u001b[39mappend(model)\n\u001b[1;32m     45\u001b[0m pred_vals\u001b[38;5;241m.\u001b[39mappend(pred_val)\n",
      "File \u001b[0;32m~/anaconda3/lib/python3.11/site-packages/sklearn/neighbors/_classification.py:726\u001b[0m, in \u001b[0;36mRadiusNeighborsClassifier.predict_proba\u001b[0;34m(self, X)\u001b[0m\n\u001b[1;32m    723\u001b[0m     classes_ \u001b[38;5;241m=\u001b[39m [\u001b[38;5;28mself\u001b[39m\u001b[38;5;241m.\u001b[39mclasses_]\n\u001b[1;32m    725\u001b[0m \u001b[38;5;28;01mif\u001b[39;00m \u001b[38;5;28mself\u001b[39m\u001b[38;5;241m.\u001b[39moutlier_label_ \u001b[38;5;129;01mis\u001b[39;00m \u001b[38;5;28;01mNone\u001b[39;00m \u001b[38;5;129;01mand\u001b[39;00m outliers\u001b[38;5;241m.\u001b[39msize \u001b[38;5;241m>\u001b[39m \u001b[38;5;241m0\u001b[39m:\n\u001b[0;32m--> 726\u001b[0m     \u001b[38;5;28;01mraise\u001b[39;00m \u001b[38;5;167;01mValueError\u001b[39;00m(\n\u001b[1;32m    727\u001b[0m         \u001b[38;5;124m\"\u001b[39m\u001b[38;5;124mNo neighbors found for test samples \u001b[39m\u001b[38;5;132;01m%r\u001b[39;00m\u001b[38;5;124m, \u001b[39m\u001b[38;5;124m\"\u001b[39m\n\u001b[1;32m    728\u001b[0m         \u001b[38;5;124m\"\u001b[39m\u001b[38;5;124myou can try using larger radius, \u001b[39m\u001b[38;5;124m\"\u001b[39m\n\u001b[1;32m    729\u001b[0m         \u001b[38;5;124m\"\u001b[39m\u001b[38;5;124mgiving a label for outliers, \u001b[39m\u001b[38;5;124m\"\u001b[39m\n\u001b[1;32m    730\u001b[0m         \u001b[38;5;124m\"\u001b[39m\u001b[38;5;124mor considering removing them from your dataset.\u001b[39m\u001b[38;5;124m\"\u001b[39m \u001b[38;5;241m%\u001b[39m outliers\n\u001b[1;32m    731\u001b[0m     )\n\u001b[1;32m    733\u001b[0m weights \u001b[38;5;241m=\u001b[39m _get_weights(neigh_dist, \u001b[38;5;28mself\u001b[39m\u001b[38;5;241m.\u001b[39mweights)\n\u001b[1;32m    734\u001b[0m \u001b[38;5;28;01mif\u001b[39;00m weights \u001b[38;5;129;01mis\u001b[39;00m \u001b[38;5;129;01mnot\u001b[39;00m \u001b[38;5;28;01mNone\u001b[39;00m:\n",
      "\u001b[0;31mValueError\u001b[0m: No neighbors found for test samples array([85]), you can try using larger radius, giving a label for outliers, or considering removing them from your dataset."
     ]
    }
   ],
   "source": [
    "total_event_pT = {}\n",
    "\n",
    "total_event_pT['bkg'] = np.sum(bkg_data[:, :, 0], axis=1)\n",
    "\n",
    "for alias in sigAliasList:\n",
    "    total_event_pT[alias] = np.sum(sig_data[alias][:,:,0], axis=1)\n",
    "\n",
    "pTrange = [0,50,100,150,200,500,1000]\n",
    "radius_list = [3,3.5, 4,4.5, 5,5.5,6,6.5,7,7.5, 8,9, 10]\n",
    "avg_aucs = []\n",
    "std_aucs = []\n",
    "avg_radii = []\n",
    "std_radii = []\n",
    "for i in range(0, len(pTrange)-1):\n",
    "    lower_bound = pTrange[i]\n",
    "    upper_bound = pTrange[i+1]\n",
    "    \n",
    "    filtered_events = {}\n",
    "    mask = (total_event_pT['bkg'] >= lower_bound) & (total_event_pT['bkg'] <= upper_bound)\n",
    "    \n",
    "    filtered_events['bkg'] = randomDataSample(bkg_data[mask],nEvents,random_state)\n",
    "    np.random.seed(i)\n",
    "    permutation = np.random.permutation(nEvents*2)\n",
    "    \n",
    "    for alias in sigAliasList:\n",
    "        mask = (total_event_pT[alias] >= lower_bound) & (total_event_pT[alias] <= upper_bound)\n",
    "        filtered_events[alias] = randomDataSample(sig_data[alias][mask],nEvents,random_state)\n",
    "        \n",
    "        event_list = np.concatenate((filtered_events['bkg'],filtered_events[alias]))\n",
    "        event_labels = np.asarray([0] * nEvents + [1] * nEvents)\n",
    "        event_list = event_list[permutation]\n",
    "        event_labels = event_labels[permutation]\n",
    "        \n",
    "        distance_matrix = calcOTDistance(event_list, event_list, OTSCHEME, '2D', Matrix = True)\n",
    "        print(np.mean(distance_matrix))\n",
    "        \n",
    "        avg_auc, std_auc, avg_radius, std_radius = rNN_cross_validation(distance_matrix, event_labels, radius_list, k_fold=5)\n",
    "        print(avg_auc, std_auc, avg_radius, std_radius)\n",
    "        avg_aucs.append(avg_auc)\n",
    "        std_aucs.append(std_auc)\n",
    "        avg_radii.append(avg_radius)\n",
    "        std_radii.append(std_radius)"
   ]
  },
  {
   "cell_type": "code",
   "execution_count": 9,
   "metadata": {
    "tags": []
   },
   "outputs": [
    {
     "name": "stdout",
     "output_type": "stream",
     "text": [
      "[0.6193241561554373, 0.5560362022323223, 0.5752272736176252, 0.6840947062389287, 0.797380753997553, 0.6761395554738507, 0.607118567366921, 0.7468665866068318, 0.7011452113981134, 0.5667354772174112, 0.6015605971417531, 0.6883180348051865, 0.6251299810860171, 0.5761864516416402, 0.6665967908890511, 0.6981814488486944, 0.6258593862764383, 0.5841808994695518, 0.6885509588655917, 0.6166094819906541, 0.798913933102407, 0.5829378691399614, 0.6202817253317441, 0.5284963612145445]\n",
      "[0.013909554559565948, 0.026013491872497616, 0.037555171735308014, 0.03150385066000139, 0.008993921054521814, 0.035688653156475125, 0.026939186162531433, 0.021490142570251385, 0.005785647854299646, 0.04953517731908581, 0.03723336061553597, 0.015572400289487753, 0.020683095471606176, 0.02572489625664325, 0.021584085318690237, 0.019362046157130636, 0.024167621160884223, 0.006719364053971755, 0.020427488648409705, 0.020159541926277634, 0.02230500501928155, 0.021238964288079334, 0.0341775808408001, 0.015364811569643429]\n"
     ]
    }
   ],
   "source": [
    "print(avg_aucs)\n",
    "print(std_aucs)"
   ]
  },
  {
   "cell_type": "code",
   "execution_count": 10,
   "metadata": {
    "tags": []
   },
   "outputs": [
    {
     "name": "stdout",
     "output_type": "stream",
     "text": [
      "[[0.6193241561554373, 0.5560362022323223, 0.5752272736176252, 0.6840947062389287], [0.797380753997553, 0.6761395554738507, 0.607118567366921, 0.7468665866068318], [0.7011452113981134, 0.5667354772174112, 0.6015605971417531, 0.6883180348051865], [0.6251299810860171, 0.5761864516416402, 0.6665967908890511, 0.6981814488486944], [0.6258593862764383, 0.5841808994695518, 0.6885509588655917, 0.6166094819906541], [0.798913933102407, 0.5829378691399614, 0.6202817253317441, 0.5284963612145445]]\n",
      "[[0.013909554559565948, 0.026013491872497616, 0.037555171735308014, 0.03150385066000139], [0.008993921054521814, 0.035688653156475125, 0.026939186162531433, 0.021490142570251385], [0.005785647854299646, 0.04953517731908581, 0.03723336061553597, 0.015572400289487753], [0.020683095471606176, 0.02572489625664325, 0.021584085318690237, 0.019362046157130636], [0.024167621160884223, 0.006719364053971755, 0.020427488648409705, 0.020159541926277634], [0.02230500501928155, 0.021238964288079334, 0.0341775808408001, 0.015364811569643429]]\n"
     ]
    }
   ],
   "source": [
    "grouped_data_1 = [avg_aucs[i:i+4] for i in range(0, len(avg_aucs), 4)]\n",
    "grouped_data_2 = [std_aucs[i:i+4] for i in range(0, len(std_aucs), 4)]\n",
    "print(grouped_data_1)\n",
    "print(grouped_data_2)"
   ]
  }
 ],
 "metadata": {
  "colab": {
   "authorship_tag": "ABX9TyMfzyRMk1fbS0iIqhPEnHQA",
   "provenance": [],
   "toc_visible": true
  },
  "kernelspec": {
   "display_name": "Python 3 (ipykernel)",
   "language": "python",
   "name": "python3"
  },
  "language_info": {
   "codemirror_mode": {
    "name": "ipython",
    "version": 3
   },
   "file_extension": ".py",
   "mimetype": "text/x-python",
   "name": "python",
   "nbconvert_exporter": "python",
   "pygments_lexer": "ipython3",
   "version": "3.11.4"
  }
 },
 "nbformat": 4,
 "nbformat_minor": 4
}
